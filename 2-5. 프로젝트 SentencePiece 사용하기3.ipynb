{
 "cells": [
  {
   "cell_type": "code",
   "execution_count": 6,
   "id": "b6d55556",
   "metadata": {},
   "outputs": [
    {
     "name": "stdout",
     "output_type": "stream",
     "text": [
      "['자연어', '처리', '가', '너무', '재밌', '어서', '밥', '먹', '는', '것', '도', '가끔', '까먹', '어요']\n"
     ]
    }
   ],
   "source": [
    "from konlpy.tag import Mecab\n",
    "\n",
    "mecab = Mecab()\n",
    "print(mecab.morphs('자연어처리가너무재밌어서밥먹는것도가끔까먹어요'))"
   ]
  },
  {
   "cell_type": "code",
   "execution_count": 10,
   "id": "e6d2c67d",
   "metadata": {},
   "outputs": [],
   "source": [
    "import os\n",
    "\n",
    "import matplotlib.pyplot as plt\n",
    "import tensorflow as tf\n",
    "import numpy as np\n",
    "\n",
    "%matplotlib inline"
   ]
  },
  {
   "cell_type": "code",
   "execution_count": 12,
   "id": "2e987f6d",
   "metadata": {},
   "outputs": [
    {
     "name": "stdout",
     "output_type": "stream",
     "text": [
      "Data Size: 94123\n",
      "Example:\n",
      ">> 개인용 컴퓨터 사용의 상당 부분은 \"이것보다 뛰어날 수 있느냐?\"\n",
      ">> 북한의 핵무기 계획을 포기하도록 하려는 압력이 거세지고 있는 가운데, 일본과 북한의 외교관들이 외교 관계를 정상화하려는 회담을 재개했다.\n",
      ">> \"경호 로보트가 침입자나 화재를 탐지하기 위해서 개인적으로, 그리고 전문적으로 사용되고 있습니다.\"\n",
      ">> 수자원부 당국은 논란이 되고 있고, 막대한 비용이 드는 이 사업에 대해 내년에 건설을 시작할 계획이다.\n",
      ">> 또한 근력 운동은 활발하게 걷는 것이나 최소한 20분 동안 뛰는 것과 같은 유산소 활동에서 얻는 운동 효과를 심장과 폐에 주지 않기 때문에, 연구학자들은 근력 운동이 심장에 큰 영향을 미치는지 여부에 대해 논쟁을 해왔다.\n"
     ]
    }
   ],
   "source": [
    "import os\n",
    "path_to_file = os.getenv('HOME')+'/aiffel/sp_tokenizer/data/korean-english-park.train.ko'\n",
    "\n",
    "with open(path_to_file, \"r\") as f:\n",
    "    raw = f.read().splitlines()\n",
    "\n",
    "print(\"Data Size:\", len(raw))\n",
    "\n",
    "print(\"Example:\")\n",
    "for sen in raw[0:100][::20]: print(\">>\", sen)"
   ]
  },
  {
   "cell_type": "code",
   "execution_count": 13,
   "id": "1116c618",
   "metadata": {},
   "outputs": [
    {
     "name": "stdout",
     "output_type": "stream",
     "text": [
      "문장의 최단 길이: 1\n",
      "문장의 최장 길이: 377\n",
      "문장의 평균 길이: 60\n"
     ]
    },
    {
     "data": {
      "image/png": "[encoded data removed]",
      "text/plain": [
       "<Figure size 432x288 with 1 Axes>"
      ]
     },
     "metadata": {
      "needs_background": "light"
     },
     "output_type": "display_data"
    }
   ],
   "source": [
    "min_len = 999\n",
    "max_len = 0\n",
    "sum_len = 0\n",
    "\n",
    "for sen in raw:\n",
    "    length = len(sen)\n",
    "    if min_len > length: min_len = length\n",
    "    if max_len < length: max_len = length\n",
    "    sum_len += length\n",
    "\n",
    "print(\"문장의 최단 길이:\", min_len)\n",
    "print(\"문장의 최장 길이:\", max_len)\n",
    "print(\"문장의 평균 길이:\", sum_len // len(raw))\n",
    "\n",
    "sentence_length = np.zeros((max_len), dtype=int)\n",
    "\n",
    "for sen in raw:\n",
    "    sentence_length[len(sen)-1] += 1\n",
    "\n",
    "plt.bar(range(max_len), sentence_length, width=1.0)\n",
    "plt.title(\"Sentence Length Distribution\")\n",
    "plt.show()"
   ]
  },
  {
   "cell_type": "code",
   "execution_count": 14,
   "id": "f27bae7b",
   "metadata": {},
   "outputs": [
    {
     "name": "stdout",
     "output_type": "stream",
     "text": [
      "’\n"
     ]
    }
   ],
   "source": [
    "def check_sentence_with_length(raw, length):\n",
    "    count = 0\n",
    "    \n",
    "    for sen in raw:\n",
    "        if len(sen) == length:\n",
    "            print(sen)\n",
    "            count += 1\n",
    "            if count > 100: return\n",
    "\n",
    "check_sentence_with_length(raw, 1)"
   ]
  },
  {
   "cell_type": "code",
   "execution_count": 15,
   "id": "65361874",
   "metadata": {},
   "outputs": [
    {
     "name": "stdout",
     "output_type": "stream",
     "text": [
      "Outlier Index: 11\n",
      "Outlier Index: 19\n",
      "Outlier Index: 21\n"
     ]
    }
   ],
   "source": [
    "for idx, _sum in enumerate(sentence_length):\n",
    "    # 문장의 수가 1500을 초과하는 문장 길이를 추출합니다.\n",
    "    if _sum > 1500:\n",
    "        print(\"Outlier Index:\", idx+1)"
   ]
  },
  {
   "cell_type": "code",
   "execution_count": 16,
   "id": "210a518c",
   "metadata": {},
   "outputs": [
    {
     "name": "stdout",
     "output_type": "stream",
     "text": [
      "라고 조던이 말했다.\n",
      "- 모르고 있습니다.\n",
      "- 네, 보이는군요.\n",
      "디즈니사만이 아니다.\n",
      "큰 파티는 아니지요.\n",
      "의자는 비어 있었다.\n",
      "이 일은 계속됩니다.\n",
      "나는 크게 실망했다.\n",
      "그 이유는 간단하다.\n",
      "이력서와 자기 소개서\n",
      "시대가 변하고 있다.\n",
      "는 돌발질문을 했다.\n",
      "9. 몇 분간의 명상\n",
      "하와이, 빅 아일랜드\n",
      "키스를 잘 하는 방법\n",
      "키스를 잘 하는 방법\n",
      "스피어스가 뚱뚱한가?\n",
      "산 위를 나는 느낌.\n",
      "세 시간쯤 걸었을까?\n",
      "(아직 읽고있습니까?\n",
      "처음에는 장난이었다.\n",
      "우리는 운이 좋았다.\n",
      "아기가 숨을 멈출 때\n",
      "건물 전체 무너져내려\n",
      "그녀의 아름다운 눈.\n",
      "대답은 다음과 같다.\n",
      "\"사과할 것이 없다.\n",
      "폭탄테러가 공포 유발\n",
      "그는 \"잘 모르겠다.\n",
      "그는 \"잘 모르겠다.\n",
      "그는 \"잘 모르겠다.\n",
      "그는 \"잘 모르겠다.\n",
      "그는 \"잘 모르겠다.\n",
      "그는 \"잘 모르겠다.\n",
      "그는 \"잘 모르겠다.\n",
      "그는 \"잘 모르겠다.\n",
      "그는 \"잘 모르겠다.\n",
      "케냐 야생동물 고아원\n",
      "경유 1200원대로…\n",
      "더 내려야 하는 이유\n",
      "케냐 야생동물 고아원\n",
      "경유 1200원대로…\n",
      "더 내려야 하는 이유\n",
      "케냐 야생동물 고아원\n",
      "경유 1200원대로…\n",
      "더 내려야 하는 이유\n",
      "케냐 야생동물 고아원\n",
      "경유 1200원대로…\n",
      "더 내려야 하는 이유\n",
      "케냐 야생동물 고아원\n",
      "경유 1200원대로…\n",
      "더 내려야 하는 이유\n",
      "케냐 야생동물 고아원\n",
      "경유 1200원대로…\n",
      "더 내려야 하는 이유\n",
      "케냐 야생동물 고아원\n",
      "경유 1200원대로…\n",
      "더 내려야 하는 이유\n",
      "케냐 야생동물 고아원\n",
      "경유 1200원대로…\n",
      "더 내려야 하는 이유\n",
      "케냐 야생동물 고아원\n",
      "경유 1200원대로…\n",
      "더 내려야 하는 이유\n",
      "케냐 야생동물 고아원\n",
      "경유 1200원대로…\n",
      "더 내려야 하는 이유\n",
      "케냐 야생동물 고아원\n",
      "경유 1200원대로…\n",
      "더 내려야 하는 이유\n",
      "케냐 야생동물 고아원\n",
      "경유 1200원대로…\n",
      "더 내려야 하는 이유\n",
      "케냐 야생동물 고아원\n",
      "경유 1200원대로…\n",
      "더 내려야 하는 이유\n",
      "케냐 야생동물 고아원\n",
      "경유 1200원대로…\n",
      "더 내려야 하는 이유\n",
      "케냐 야생동물 고아원\n",
      "경유 1200원대로…\n",
      "더 내려야 하는 이유\n",
      "케냐 야생동물 고아원\n",
      "경유 1200원대로…\n",
      "더 내려야 하는 이유\n",
      "케냐 야생동물 고아원\n",
      "경유 1200원대로…\n",
      "더 내려야 하는 이유\n",
      "케냐 야생동물 고아원\n",
      "경유 1200원대로…\n",
      "더 내려야 하는 이유\n",
      "케냐 야생동물 고아원\n",
      "경유 1200원대로…\n",
      "더 내려야 하는 이유\n",
      "케냐 야생동물 고아원\n",
      "경유 1200원대로…\n",
      "더 내려야 하는 이유\n",
      "조금은 새침한 샬롯？\n",
      "조금은 새침한 샬롯？\n",
      "케냐 야생동물 고아원\n",
      "경유 1200원대로…\n"
     ]
    }
   ],
   "source": [
    "check_sentence_with_length(raw, 11)"
   ]
  },
  {
   "cell_type": "code",
   "execution_count": 17,
   "id": "3ba02fac",
   "metadata": {},
   "outputs": [
    {
     "name": "stdout",
     "output_type": "stream",
     "text": [
      "Data Size: 77591\n",
      "문장의 최단 길이: 1\n",
      "문장의 최장 길이: 377\n",
      "문장의 평균 길이: 64\n"
     ]
    },
    {
     "data": {
      "image/png": "[encoded data removed]",
      "text/plain": [
       "<Figure size 432x288 with 1 Axes>"
      ]
     },
     "metadata": {
      "needs_background": "light"
     },
     "output_type": "display_data"
    }
   ],
   "source": [
    "min_len = 999\n",
    "max_len = 0\n",
    "sum_len = 0\n",
    "\n",
    "cleaned_corpus = list(set(raw))  # set를 사용해서 중복을 제거합니다.\n",
    "print(\"Data Size:\", len(cleaned_corpus))\n",
    "\n",
    "for sen in cleaned_corpus:\n",
    "    length = len(sen)\n",
    "    if min_len > length: min_len = length\n",
    "    if max_len < length: max_len = length\n",
    "    sum_len += length\n",
    "\n",
    "print(\"문장의 최단 길이:\", min_len)\n",
    "print(\"문장의 최장 길이:\", max_len)\n",
    "print(\"문장의 평균 길이:\", sum_len // len(cleaned_corpus))\n",
    "\n",
    "sentence_length = np.zeros((max_len), dtype=int)\n",
    "\n",
    "for sen in cleaned_corpus:   # 중복이 제거된 코퍼스 기준\n",
    "    sentence_length[len(sen)-1] += 1\n",
    "\n",
    "plt.bar(range(max_len), sentence_length, width=1.0)\n",
    "plt.title(\"Sentence Length Distribution\")\n",
    "plt.show()"
   ]
  },
  {
   "cell_type": "code",
   "execution_count": 18,
   "id": "3edd6fa0",
   "metadata": {},
   "outputs": [
    {
     "data": {
      "image/png": "[encoded data removed]",
      "text/plain": [
       "<Figure size 432x288 with 1 Axes>"
      ]
     },
     "metadata": {
      "needs_background": "light"
     },
     "output_type": "display_data"
    }
   ],
   "source": [
    "max_len = 150\n",
    "min_len = 10\n",
    "\n",
    "# 길이 조건에 맞는 문장만 선택합니다.\n",
    "filtered_corpus = [s for s in cleaned_corpus if (len(s) < max_len) & (len(s) >= min_len)]\n",
    "\n",
    "# 분포도를 다시 그려봅니다.\n",
    "sentence_length = np.zeros((max_len), dtype=int)\n",
    "\n",
    "for sen in filtered_corpus:\n",
    "    sentence_length[len(sen)-1] += 1\n",
    "\n",
    "plt.bar(range(max_len), sentence_length, width=1.0)\n",
    "plt.title(\"Sentence Length Distribution\")\n",
    "plt.show()"
   ]
  },
  {
   "cell_type": "code",
   "execution_count": 19,
   "id": "5f76a58b",
   "metadata": {},
   "outputs": [],
   "source": [
    "def tokenize(corpus):  # corpus: Tokenized Sentence's List\n",
    "    tokenizer = tf.keras.preprocessing.text.Tokenizer(filters='')\n",
    "    tokenizer.fit_on_texts(corpus)\n",
    "\n",
    "    tensor = tokenizer.texts_to_sequences(corpus)\n",
    "\n",
    "    tensor = tf.keras.preprocessing.sequence.pad_sequences(tensor, padding='post')\n",
    "\n",
    "    return tensor, tokenizer"
   ]
  },
  {
   "cell_type": "code",
   "execution_count": 20,
   "id": "deab2c6e",
   "metadata": {},
   "outputs": [],
   "source": [
    "# 정제된 데이터 filtered_corpus를 공백 기반으로 토큰화하여 저장하는 코드를 직접 작성해 보세요.\n",
    "split_corpus = []\n",
    "\n",
    "for kor in filtered_corpus:\n",
    "    split_corpus.append(kor.split())"
   ]
  },
  {
   "cell_type": "code",
   "execution_count": 21,
   "id": "07ac8307",
   "metadata": {},
   "outputs": [
    {
     "name": "stdout",
     "output_type": "stream",
     "text": [
      "Split Vocab Size: 237435\n"
     ]
    }
   ],
   "source": [
    "split_tensor, split_tokenizer = tokenize(split_corpus)\n",
    "\n",
    "print(\"Split Vocab Size:\", len(split_tokenizer.index_word))"
   ]
  },
  {
   "cell_type": "code",
   "execution_count": 22,
   "id": "a9b591e5",
   "metadata": {},
   "outputs": [
    {
     "name": "stdout",
     "output_type": "stream",
     "text": [
      "0 : 이\n",
      "1 : 밝혔다.\n",
      "2 : 있다.\n",
      "3 : 말했다.\n",
      "4 : 수\n",
      "5 : 있는\n",
      "6 : 그는\n",
      "7 : 대한\n",
      "8 : 위해\n",
      "9 : 전했다.\n",
      "10 : 지난\n",
      "11 : 이번\n"
     ]
    }
   ],
   "source": [
    "for idx, word in enumerate(split_tokenizer.word_index):\n",
    "    print(idx, \":\", word)\n",
    "\n",
    "    if idx > 10: break"
   ]
  },
  {
   "cell_type": "code",
   "execution_count": 23,
   "id": "71b42fdd",
   "metadata": {},
   "outputs": [],
   "source": [
    "# 위에서 사용한 코드를 활용해 MeCab 단어 사전을 만들어보세요. \n",
    "# Hint : mecab.morphs()를 사용해서 형태소분석을 합니다.\n",
    "def mecab_split(sentence):\n",
    "    return mecab.morphs(sentence)\n",
    "\n",
    "mecab_corpus = []\n",
    "\n",
    "for kor in filtered_corpus:\n",
    "    mecab_corpus.append(mecab_split(kor))"
   ]
  },
  {
   "cell_type": "code",
   "execution_count": 24,
   "id": "761226f9",
   "metadata": {},
   "outputs": [
    {
     "name": "stdout",
     "output_type": "stream",
     "text": [
      "MeCab Vocab Size: 52279\n"
     ]
    }
   ],
   "source": [
    "mecab_tensor, mecab_tokenizer = tokenize(mecab_corpus)\n",
    "\n",
    "print(\"MeCab Vocab Size:\", len(mecab_tokenizer.index_word))"
   ]
  },
  {
   "cell_type": "code",
   "execution_count": 25,
   "id": "c8616743",
   "metadata": {},
   "outputs": [
    {
     "name": "stdout",
     "output_type": "stream",
     "text": [
      "그 들 은 또 무샤라프 대통령 에게 협조 할 뜻 을 밝혔으며 첫 국회 이후 30 일 내 로 지난해 비상사태 당시 축출 된 대법원장 을 복직 시키 겠 다고 공언 했 다 .\n"
     ]
    }
   ],
   "source": [
    "# Case 1 : tokenizer.sequences_to_texts()\n",
    "\n",
    "# Case 1\n",
    "texts = mecab_tokenizer.sequences_to_texts([mecab_tensor[100]])\n",
    "print(texts[0])"
   ]
  },
  {
   "cell_type": "code",
   "execution_count": 26,
   "id": "e2a42480",
   "metadata": {},
   "outputs": [
    {
     "name": "stdout",
     "output_type": "stream",
     "text": [
      "그 들 은 또 무샤라프 대통령 에게 협조 할 뜻 을 밝혔으며 첫 국회 이후 30 일 내 로 지난해 비상사태 당시 축출 된 대법원장 을 복직 시키 겠 다고 공언 했 다 . \n"
     ]
    }
   ],
   "source": [
    "# Case 2 : tokenizer.index_word\n",
    "\n",
    "# Case 2\n",
    "sentence = \"\"\n",
    "\n",
    "for w in mecab_tensor[100]:\n",
    "    if w == 0: continue\n",
    "    sentence += mecab_tokenizer.index_word[w] + \" \"\n",
    "\n",
    "print(sentence)"
   ]
  },
  {
   "cell_type": "code",
   "execution_count": 27,
   "id": "b4fba4fd",
   "metadata": {},
   "outputs": [
    {
     "name": "stdout",
     "output_type": "stream",
     "text": [
      "2.6.0\n",
      "1.21.4\n",
      "3.4.3\n",
      "0.5.2\n"
     ]
    }
   ],
   "source": [
    "import tensorflow as tf\n",
    "import numpy as np\n",
    "import matplotlib as plt\n",
    "import konlpy\n",
    "\n",
    "print(tf.__version__)\n",
    "print(np.__version__)\n",
    "print(plt.__version__)\n",
    "print(konlpy.__version__)"
   ]
  },
  {
   "cell_type": "markdown",
   "id": "23f2ca68",
   "metadata": {},
   "source": [
    "Step 1. SentencePiece 설치하기"
   ]
  },
  {
   "cell_type": "code",
   "execution_count": 28,
   "id": "6526c641",
   "metadata": {},
   "outputs": [],
   "source": [
    "#pip install sentencepiece"
   ]
  },
  {
   "cell_type": "markdown",
   "id": "113e9d14",
   "metadata": {},
   "source": [
    "Step 2. SentencePiece 모델 학습"
   ]
  },
  {
   "cell_type": "code",
   "execution_count": 29,
   "id": "0857fac2",
   "metadata": {},
   "outputs": [],
   "source": [
    "def tokenize(corpus):  # corpus: Tokenized Sentence's List\n",
    "    tokenizer = tf.keras.preprocessing.text.Tokenizer(filters='')\n",
    "    tokenizer.fit_on_texts(corpus)\n",
    "\n",
    "    tensor = tokenizer.texts_to_sequences(corpus)\n",
    "\n",
    "    tensor = tf.keras.preprocessing.sequence.pad_sequences(tensor, padding='post')\n",
    "\n",
    "    return tensor, tokenizer"
   ]
  },
  {
   "cell_type": "code",
   "execution_count": 30,
   "id": "ffb429ec",
   "metadata": {},
   "outputs": [
    {
     "name": "stderr",
     "output_type": "stream",
     "text": [
      "sentencepiece_trainer.cc(177) LOG(INFO) Running command: --input=/aiffel/aiffel/sp_tokenizer/data/korean-english-park.train.ko.temp --model_prefix=korean_spm --vocab_size=8000\n",
      "sentencepiece_trainer.cc(77) LOG(INFO) Starts training with : \n",
      "trainer_spec {\n",
      "  input: /aiffel/aiffel/sp_tokenizer/data/korean-english-park.train.ko.temp\n",
      "  input_format: \n",
      "  model_prefix: korean_spm\n",
      "  model_type: UNIGRAM\n",
      "  vocab_size: 8000\n",
      "  self_test_sample_size: 0\n",
      "  character_coverage: 0.9995\n",
      "  input_sentence_size: 0\n",
      "  shuffle_input_sentence: 1\n",
      "  seed_sentencepiece_size: 1000000\n",
      "  shrinking_factor: 0.75\n",
      "  max_sentence_length: 4192\n",
      "  num_threads: 16\n",
      "  num_sub_iterations: 2\n",
      "  max_sentencepiece_length: 16\n",
      "  split_by_unicode_script: 1\n",
      "  split_by_number: 1\n",
      "  split_by_whitespace: 1\n",
      "  split_digits: 0\n",
      "  treat_whitespace_as_suffix: 0\n",
      "  allow_whitespace_only_pieces: 0\n",
      "  required_chars: \n",
      "  byte_fallback: 0\n",
      "  vocabulary_output_piece_score: 1\n",
      "  train_extremely_large_corpus: 0\n",
      "  hard_vocab_limit: 1\n",
      "  use_all_vocab: 0\n",
      "  unk_id: 0\n",
      "  bos_id: 1\n",
      "  eos_id: 2\n",
      "  pad_id: -1\n",
      "  unk_piece: <unk>\n",
      "  bos_piece: <s>\n",
      "  eos_piece: </s>\n",
      "  pad_piece: <pad>\n",
      "  unk_surface:  ⁇ \n",
      "}\n",
      "normalizer_spec {\n",
      "  name: nmt_nfkc\n",
      "  add_dummy_prefix: 1\n",
      "  remove_extra_whitespaces: 1\n",
      "  escape_whitespaces: 1\n",
      "  normalization_rule_tsv: \n",
      "}\n",
      "denormalizer_spec {}\n",
      "trainer_interface.cc(329) LOG(INFO) SentenceIterator is not specified. Using MultiFileSentenceIterator.\n",
      "trainer_interface.cc(178) LOG(INFO) Loading corpus: /aiffel/aiffel/sp_tokenizer/data/korean-english-park.train.ko.temp\n",
      "trainer_interface.cc(385) LOG(INFO) Loaded all 76908 sentences\n",
      "trainer_interface.cc(400) LOG(INFO) Adding meta_piece: <unk>\n",
      "trainer_interface.cc(400) LOG(INFO) Adding meta_piece: <s>\n",
      "trainer_interface.cc(400) LOG(INFO) Adding meta_piece: </s>\n",
      "trainer_interface.cc(405) LOG(INFO) Normalizing sentences...\n",
      "trainer_interface.cc(466) LOG(INFO) all chars count=4996369\n",
      "trainer_interface.cc(477) LOG(INFO) Done: 99.95% characters are covered.\n",
      "trainer_interface.cc(487) LOG(INFO) Alphabet size=1317\n",
      "trainer_interface.cc(488) LOG(INFO) Final character coverage=0.9995\n",
      "trainer_interface.cc(520) LOG(INFO) Done! preprocessed 76908 sentences.\n",
      "unigram_model_trainer.cc(139) LOG(INFO) Making suffix array...\n",
      "unigram_model_trainer.cc(143) LOG(INFO) Extracting frequent sub strings...\n",
      "unigram_model_trainer.cc(194) LOG(INFO) Initialized 174340 seed sentencepieces\n",
      "trainer_interface.cc(526) LOG(INFO) Tokenizing input sentences with whitespace: 76908\n",
      "trainer_interface.cc(537) LOG(INFO) Done! 237965\n",
      "unigram_model_trainer.cc(489) LOG(INFO) Using 237965 sentences for EM training\n",
      "unigram_model_trainer.cc(505) LOG(INFO) EM sub_iter=0 size=92555 obj=14.853 num_tokens=523272 num_tokens/piece=5.65363\n",
      "unigram_model_trainer.cc(505) LOG(INFO) EM sub_iter=1 size=82083 obj=13.516 num_tokens=525776 num_tokens/piece=6.40542\n",
      "unigram_model_trainer.cc(505) LOG(INFO) EM sub_iter=0 size=61555 obj=13.5533 num_tokens=546907 num_tokens/piece=8.88485\n",
      "unigram_model_trainer.cc(505) LOG(INFO) EM sub_iter=1 size=61506 obj=13.5101 num_tokens=547350 num_tokens/piece=8.89913\n",
      "unigram_model_trainer.cc(505) LOG(INFO) EM sub_iter=0 size=46126 obj=13.6926 num_tokens=575369 num_tokens/piece=12.4739\n",
      "unigram_model_trainer.cc(505) LOG(INFO) EM sub_iter=1 size=46126 obj=13.6493 num_tokens=575466 num_tokens/piece=12.476\n",
      "unigram_model_trainer.cc(505) LOG(INFO) EM sub_iter=0 size=34594 obj=13.8894 num_tokens=606014 num_tokens/piece=17.5179\n",
      "unigram_model_trainer.cc(505) LOG(INFO) EM sub_iter=1 size=34594 obj=13.8387 num_tokens=606012 num_tokens/piece=17.5178\n",
      "unigram_model_trainer.cc(505) LOG(INFO) EM sub_iter=0 size=25945 obj=14.1301 num_tokens=637532 num_tokens/piece=24.5724\n",
      "unigram_model_trainer.cc(505) LOG(INFO) EM sub_iter=1 size=25945 obj=14.0747 num_tokens=637568 num_tokens/piece=24.5738\n",
      "unigram_model_trainer.cc(505) LOG(INFO) EM sub_iter=0 size=19458 obj=14.4091 num_tokens=670960 num_tokens/piece=34.4825\n",
      "unigram_model_trainer.cc(505) LOG(INFO) EM sub_iter=1 size=19458 obj=14.3468 num_tokens=670999 num_tokens/piece=34.4845\n",
      "unigram_model_trainer.cc(505) LOG(INFO) EM sub_iter=0 size=14593 obj=14.7196 num_tokens=705636 num_tokens/piece=48.3544\n",
      "unigram_model_trainer.cc(505) LOG(INFO) EM sub_iter=1 size=14593 obj=14.648 num_tokens=705645 num_tokens/piece=48.355\n",
      "unigram_model_trainer.cc(505) LOG(INFO) EM sub_iter=0 size=10944 obj=15.0875 num_tokens=741620 num_tokens/piece=67.765\n",
      "unigram_model_trainer.cc(505) LOG(INFO) EM sub_iter=1 size=10944 obj=15.007 num_tokens=741624 num_tokens/piece=67.7654\n",
      "unigram_model_trainer.cc(505) LOG(INFO) EM sub_iter=0 size=8800 obj=15.3757 num_tokens=769363 num_tokens/piece=87.4276\n",
      "unigram_model_trainer.cc(505) LOG(INFO) EM sub_iter=1 size=8800 obj=15.307 num_tokens=769367 num_tokens/piece=87.4281\n",
      "trainer_interface.cc(615) LOG(INFO) Saving model: korean_spm.model\n",
      "trainer_interface.cc(626) LOG(INFO) Saving vocabs: korean_spm.vocab\n"
     ]
    },
    {
     "name": "stdout",
     "output_type": "stream",
     "text": [
      "-rw-r--r-- 1 root root 376816 Nov 29 02:37 korean_spm.model\r\n",
      "-rw-r--r-- 1 root root 146213 Nov 29 02:37 korean_spm.vocab\r\n"
     ]
    }
   ],
   "source": [
    "import sentencepiece as spm\n",
    "import os\n",
    "temp_file = os.getenv('HOME')+'/aiffel/sp_tokenizer/data/korean-english-park.train.ko.temp'\n",
    "\n",
    "vocab_size = 8000\n",
    "\n",
    "with open(temp_file, 'w') as f:\n",
    "    for row in filtered_corpus:   # 이전 스텝에서 정제했던 corpus를 활용합니다.\n",
    "        f.write(str(row) + '\\n')\n",
    "\n",
    "spm.SentencePieceTrainer.Train(\n",
    "    '--input={} --model_prefix=korean_spm --vocab_size={}'.format(temp_file, vocab_size)    \n",
    ")\n",
    "#위 Train에서  --model_type = 'unigram'이 디폴트 적용되어 있습니다. --model_type = 'bpe' 로 옵션을 주어 변경할 수 있습니다.\n",
    "\n",
    "!ls -l korean_spm*"
   ]
  },
  {
   "cell_type": "code",
   "execution_count": 31,
   "id": "3a62a898",
   "metadata": {},
   "outputs": [
    {
     "name": "stdout",
     "output_type": "stream",
     "text": [
      "[1243, 11, 302, 7, 3608, 11, 287, 38, 3]\n",
      "['▁아버지', '가', '방', '에', '들어', '가', '신', '다', '.']\n",
      "아버지가방에들어가신다.\n"
     ]
    }
   ],
   "source": [
    "s = spm.SentencePieceProcessor()\n",
    "s.Load('korean_spm.model')\n",
    "\n",
    "# SentencePiece를 활용한 sentence -> encoding\n",
    "tokensIDs = s.EncodeAsIds('아버지가방에들어가신다.')\n",
    "print(tokensIDs)\n",
    "\n",
    "# SentencePiece를 활용한 sentence -> encoded pieces\n",
    "print(s.SampleEncodeAsPieces('아버지가방에들어가신다.',1, 0.0))\n",
    "\n",
    "# SentencePiece를 활용한 encoding -> sentence 복원\n",
    "print(s.DecodeIds(tokensIDs))"
   ]
  },
  {
   "cell_type": "code",
   "execution_count": 32,
   "id": "821afb92",
   "metadata": {},
   "outputs": [],
   "source": [
    "def sp_tokenize(s, corpus):\n",
    "\n",
    "    tensor = []\n",
    "\n",
    "    for sen in corpus:\n",
    "        tensor.append(s.EncodeAsIds(sen))\n",
    "\n",
    "    with open(\"./korean_spm.vocab\", 'r') as f:\n",
    "        vocab = f.readlines()\n",
    "\n",
    "    word_index = {}\n",
    "    index_word = {}\n",
    "\n",
    "    for idx, line in enumerate(vocab):\n",
    "        word = line.split(\"\\t\")[0]\n",
    "\n",
    "        word_index.update({word:idx})\n",
    "        index_word.update({idx:word})\n",
    "\n",
    "    tensor = tf.keras.preprocessing.sequence.pad_sequences(tensor, padding='post')\n",
    "\n",
    "    return tensor, word_index, index_word"
   ]
  },
  {
   "cell_type": "code",
   "execution_count": 33,
   "id": "5f8217f4",
   "metadata": {},
   "outputs": [
    {
     "name": "stdout",
     "output_type": "stream",
     "text": [
      "[[1956 5665    5    4 7975 1990    3    0    0    0    0    0    0    0]\n",
      " [ 107 1641  101    4    0  417   11    4   14    0 1976    3    3    3]]\n"
     ]
    }
   ],
   "source": [
    "#sp_tokenize(s, corpus) 사용예제\n",
    "\n",
    "my_corpus = ['나는 밥을 먹었습니다.', '그러나 여전히 ㅠㅠ 배가 고픕니다...']\n",
    "tensor, word_index, index_word = sp_tokenize(s, my_corpus)\n",
    "print(tensor)"
   ]
  },
  {
   "attachments": {
    "image.png": {
     "image/png": "[encoded data removed]"
    }
   },
   "cell_type": "markdown",
   "id": "4bc7a295",
   "metadata": {},
   "source": [
    "![image.png](attachment:image.png)"
   ]
  },
  {
   "attachments": {
    "image.png": {
     "image/png": "[encoded data removed]"
    }
   },
   "cell_type": "markdown",
   "id": "2588ce4c",
   "metadata": {},
   "source": [
    "![image.png](attachment:image.png)"
   ]
  },
  {
   "cell_type": "code",
   "execution_count": 34,
   "id": "36d39c03",
   "metadata": {},
   "outputs": [],
   "source": [
    "def sp_tokenize(s, corpus, max_len_): \n",
    "\n",
    "    tensor = []\n",
    "        \n",
    "    for sen in corpus:\n",
    "        tensor.append(s.EncodeAsIds(sen))\n",
    "\n",
    "    with open(s_option + \".vocab\", 'r') as f:\n",
    "        vocab = f.readlines()\n",
    "\n",
    "    word_index = {}\n",
    "    index_word = {}\n",
    "\n",
    "    for idx, line in enumerate(vocab):\n",
    "        word = line.split(\"\\t\")[0]\n",
    "\n",
    "        word_index.update({idx:word})\n",
    "        index_word.update({word:idx})\n",
    "\n",
    "    tensor = tf.keras.preprocessing.sequence.pad_sequences(tensor, maxlen = max_len_, padding='post')\n",
    "\n",
    "    return tensor, word_index, index_word"
   ]
  },
  {
   "cell_type": "code",
   "execution_count": 38,
   "id": "a4fff81e",
   "metadata": {},
   "outputs": [
    {
     "data": {
      "text/html": [
       "<div>\n",
       "<style scoped>\n",
       "    .dataframe tbody tr th:only-of-type {\n",
       "        vertical-align: middle;\n",
       "    }\n",
       "\n",
       "    .dataframe tbody tr th {\n",
       "        vertical-align: top;\n",
       "    }\n",
       "\n",
       "    .dataframe thead th {\n",
       "        text-align: right;\n",
       "    }\n",
       "</style>\n",
       "<table border=\"1\" class=\"dataframe\">\n",
       "  <thead>\n",
       "    <tr style=\"text-align: right;\">\n",
       "      <th></th>\n",
       "      <th>id</th>\n",
       "      <th>document</th>\n",
       "      <th>label</th>\n",
       "    </tr>\n",
       "  </thead>\n",
       "  <tbody>\n",
       "    <tr>\n",
       "      <th>0</th>\n",
       "      <td>9976970</td>\n",
       "      <td>아 더빙.. 진짜 짜증나네요 목소리</td>\n",
       "      <td>0</td>\n",
       "    </tr>\n",
       "    <tr>\n",
       "      <th>1</th>\n",
       "      <td>3819312</td>\n",
       "      <td>흠...포스터보고 초딩영화줄....오버연기조차 가볍지 않구나</td>\n",
       "      <td>1</td>\n",
       "    </tr>\n",
       "    <tr>\n",
       "      <th>2</th>\n",
       "      <td>10265843</td>\n",
       "      <td>너무재밓었다그래서보는것을추천한다</td>\n",
       "      <td>0</td>\n",
       "    </tr>\n",
       "    <tr>\n",
       "      <th>3</th>\n",
       "      <td>9045019</td>\n",
       "      <td>교도소 이야기구먼 ..솔직히 재미는 없다..평점 조정</td>\n",
       "      <td>0</td>\n",
       "    </tr>\n",
       "    <tr>\n",
       "      <th>4</th>\n",
       "      <td>6483659</td>\n",
       "      <td>사이몬페그의 익살스런 연기가 돋보였던 영화!스파이더맨에서 늙어보이기만 했던 커스틴 ...</td>\n",
       "      <td>1</td>\n",
       "    </tr>\n",
       "  </tbody>\n",
       "</table>\n",
       "</div>"
      ],
      "text/plain": [
       "         id                                           document  label\n",
       "0   9976970                                아 더빙.. 진짜 짜증나네요 목소리      0\n",
       "1   3819312                  흠...포스터보고 초딩영화줄....오버연기조차 가볍지 않구나      1\n",
       "2  10265843                                  너무재밓었다그래서보는것을추천한다      0\n",
       "3   9045019                      교도소 이야기구먼 ..솔직히 재미는 없다..평점 조정      0\n",
       "4   6483659  사이몬페그의 익살스런 연기가 돋보였던 영화!스파이더맨에서 늙어보이기만 했던 커스틴 ...      1"
      ]
     },
     "metadata": {},
     "output_type": "display_data"
    },
    {
     "data": {
      "text/html": [
       "<div>\n",
       "<style scoped>\n",
       "    .dataframe tbody tr th:only-of-type {\n",
       "        vertical-align: middle;\n",
       "    }\n",
       "\n",
       "    .dataframe tbody tr th {\n",
       "        vertical-align: top;\n",
       "    }\n",
       "\n",
       "    .dataframe thead th {\n",
       "        text-align: right;\n",
       "    }\n",
       "</style>\n",
       "<table border=\"1\" class=\"dataframe\">\n",
       "  <thead>\n",
       "    <tr style=\"text-align: right;\">\n",
       "      <th></th>\n",
       "      <th>id</th>\n",
       "      <th>document</th>\n",
       "      <th>label</th>\n",
       "    </tr>\n",
       "  </thead>\n",
       "  <tbody>\n",
       "    <tr>\n",
       "      <th>0</th>\n",
       "      <td>6270596</td>\n",
       "      <td>굳 ㅋ</td>\n",
       "      <td>1</td>\n",
       "    </tr>\n",
       "    <tr>\n",
       "      <th>1</th>\n",
       "      <td>9274899</td>\n",
       "      <td>GDNTOPCLASSINTHECLUB</td>\n",
       "      <td>0</td>\n",
       "    </tr>\n",
       "    <tr>\n",
       "      <th>2</th>\n",
       "      <td>8544678</td>\n",
       "      <td>뭐야 이 평점들은.... 나쁘진 않지만 10점 짜리는 더더욱 아니잖아</td>\n",
       "      <td>0</td>\n",
       "    </tr>\n",
       "    <tr>\n",
       "      <th>3</th>\n",
       "      <td>6825595</td>\n",
       "      <td>지루하지는 않은데 완전 막장임... 돈주고 보기에는....</td>\n",
       "      <td>0</td>\n",
       "    </tr>\n",
       "    <tr>\n",
       "      <th>4</th>\n",
       "      <td>6723715</td>\n",
       "      <td>3D만 아니었어도 별 다섯 개 줬을텐데.. 왜 3D로 나와서 제 심기를 불편하게 하죠??</td>\n",
       "      <td>0</td>\n",
       "    </tr>\n",
       "  </tbody>\n",
       "</table>\n",
       "</div>"
      ],
      "text/plain": [
       "        id                                           document  label\n",
       "0  6270596                                                굳 ㅋ      1\n",
       "1  9274899                               GDNTOPCLASSINTHECLUB      0\n",
       "2  8544678             뭐야 이 평점들은.... 나쁘진 않지만 10점 짜리는 더더욱 아니잖아      0\n",
       "3  6825595                   지루하지는 않은데 완전 막장임... 돈주고 보기에는....      0\n",
       "4  6723715  3D만 아니었어도 별 다섯 개 줬을텐데.. 왜 3D로 나와서 제 심기를 불편하게 하죠??      0"
      ]
     },
     "metadata": {},
     "output_type": "display_data"
    }
   ],
   "source": [
    "import pandas as pd\n",
    "\n",
    "# 데이터를 읽어봅시다. \n",
    "train_data = pd.read_table('./data/ratings_train.txt')\n",
    "test_data = pd.read_table('./data/ratings_test.txt')\n",
    "\n",
    "display(train_data.head())\n",
    "display(test_data.head())"
   ]
  },
  {
   "cell_type": "code",
   "execution_count": 39,
   "id": "36d2a163",
   "metadata": {},
   "outputs": [
    {
     "name": "stdout",
     "output_type": "stream",
     "text": [
      "train set: 150000개\n",
      "test set: 50000개\n"
     ]
    }
   ],
   "source": [
    "# 데이터 개수 확인 \n",
    "print(\"train set: {}개\".format(len(train_data)))\n",
    "print(\"test set: {}개\".format(len(test_data)))"
   ]
  },
  {
   "cell_type": "code",
   "execution_count": 40,
   "id": "636aac91",
   "metadata": {},
   "outputs": [
    {
     "data": {
      "text/plain": [
       "<AxesSubplot:>"
      ]
     },
     "execution_count": 40,
     "metadata": {},
     "output_type": "execute_result"
    },
    {
     "data": {
      "image/png": "[encoded data removed]",
      "text/plain": [
       "<Figure size 432x288 with 1 Axes>"
      ]
     },
     "metadata": {
      "needs_background": "light"
     },
     "output_type": "display_data"
    }
   ],
   "source": [
    "# label의 분포 확인\n",
    "train_data['label'].value_counts().plot(kind = 'bar')"
   ]
  },
  {
   "cell_type": "code",
   "execution_count": 58,
   "id": "55b036b2",
   "metadata": {},
   "outputs": [
    {
     "name": "stdout",
     "output_type": "stream",
     "text": [
      "False\n"
     ]
    }
   ],
   "source": [
    "train_data = train_data.dropna(how = 'any') # Null 값이 존재하는 행 제거\n",
    "print(train_data.isnull().values.any()) # Null 값이 존재하는지 확인"
   ]
  },
  {
   "cell_type": "code",
   "execution_count": 59,
   "id": "b4c48668",
   "metadata": {},
   "outputs": [
    {
     "name": "stdout",
     "output_type": "stream",
     "text": [
      "False\n"
     ]
    }
   ],
   "source": [
    "test_data = test_data.dropna(how = 'any') # Null 값이 존재하는 행 제거\n",
    "print(test_data.isnull().values.any()) # Null 값이 존재하는지 확인"
   ]
  },
  {
   "cell_type": "code",
   "execution_count": 61,
   "id": "ada67826",
   "metadata": {},
   "outputs": [
    {
     "name": "stdout",
     "output_type": "stream",
     "text": [
      "훈련데이터 :  143620\n",
      "테스트데이터 :  48389\n"
     ]
    }
   ],
   "source": [
    "# 데이터 확인\n",
    "print(\"훈련데이터 : \",len(train_data))\n",
    "print(\"테스트데이터 : \",len(test_data))"
   ]
  },
  {
   "cell_type": "code",
   "execution_count": 63,
   "id": "498e0aee",
   "metadata": {},
   "outputs": [
    {
     "data": {
      "text/plain": [
       "200000"
      ]
     },
     "execution_count": 63,
     "metadata": {},
     "output_type": "execute_result"
    }
   ],
   "source": [
    "data = pd.concat([train_data, test_data])\n",
    "len(naver_data['document'])"
   ]
  },
  {
   "cell_type": "code",
   "execution_count": 65,
   "id": "7815027e",
   "metadata": {},
   "outputs": [
    {
     "name": "stdout",
     "output_type": "stream",
     "text": [
      "False\n"
     ]
    }
   ],
   "source": [
    "data.drop(['id'], axis=1, inplace=True) # column 중 id는 필요없어서 제거\n",
    "data = data.dropna(how = 'any') # Null 값이 존재하는 행 제거\n",
    "print(data.isnull().values.any()) # Null 값이 존재하는지 확인"
   ]
  },
  {
   "cell_type": "code",
   "execution_count": 66,
   "id": "55d3d9f0",
   "metadata": {},
   "outputs": [
    {
     "name": "stdout",
     "output_type": "stream",
     "text": [
      "data 개수 192009\n"
     ]
    }
   ],
   "source": [
    "print('data 개수', len(data['document']))"
   ]
  },
  {
   "cell_type": "code",
   "execution_count": 67,
   "id": "49d20a30",
   "metadata": {},
   "outputs": [
    {
     "name": "stdout",
     "output_type": "stream",
     "text": [
      "data의 document 중복값 1015\n"
     ]
    }
   ],
   "source": [
    "count = 0\n",
    "for idx,i in enumerate(data.duplicated(['document'])):\n",
    "    if i == True:\n",
    "        count += 1\n",
    "print('data의 document 중복값', count)"
   ]
  },
  {
   "cell_type": "code",
   "execution_count": 68,
   "id": "cb7fca01",
   "metadata": {},
   "outputs": [
    {
     "name": "stdout",
     "output_type": "stream",
     "text": [
      "data의 document, label 중복값 0\n"
     ]
    }
   ],
   "source": [
    "count = 0\n",
    "for i in data.drop_duplicates(['document', 'label']):\n",
    "    if i == True:\n",
    "            count += 1\n",
    "\n",
    "print('data의 document, label 중복값', count)"
   ]
  },
  {
   "cell_type": "code",
   "execution_count": 69,
   "id": "9c2d203b",
   "metadata": {},
   "outputs": [
    {
     "data": {
      "image/png": "[encoded data removed]",
      "text/plain": [
       "<Figure size 432x288 with 1 Axes>"
      ]
     },
     "metadata": {
      "needs_background": "light"
     },
     "output_type": "display_data"
    }
   ],
   "source": [
    "data['label'].value_counts().plot(kind='bar');"
   ]
  },
  {
   "cell_type": "code",
   "execution_count": 70,
   "id": "2fa4f68d",
   "metadata": {},
   "outputs": [
    {
     "name": "stdout",
     "output_type": "stream",
     "text": [
      "문장의 최대 길이: 140\n",
      "문장의 최초 길이: 1\n",
      "문장의 평균 길이: 33\n"
     ]
    }
   ],
   "source": [
    "document = data['document']\n",
    "label = data['label']\n",
    "\n",
    "print('문장의 최대 길이: {}'.format(max(len(i) for i in document)))\n",
    "print('문장의 최초 길이: {}'.format(min(len(i) for i in document)))\n",
    "print('문장의 평균 길이: {}'.format((sum(map(len,document)))//len(document)))"
   ]
  },
  {
   "cell_type": "code",
   "execution_count": 71,
   "id": "0ed6c23f",
   "metadata": {},
   "outputs": [
    {
     "data": {
      "image/png": "[encoded data removed]",
      "text/plain": [
       "<Figure size 432x288 with 1 Axes>"
      ]
     },
     "metadata": {
      "needs_background": "light"
     },
     "output_type": "display_data"
    }
   ],
   "source": [
    "import matplotlib.pyplot as plt\n",
    "\n",
    "plt.hist([len(s) for s in document], bins=146)\n",
    "plt.show()"
   ]
  },
  {
   "cell_type": "code",
   "execution_count": 72,
   "id": "ea12bea4",
   "metadata": {
    "scrolled": false
   },
   "outputs": [
    {
     "name": "stdout",
     "output_type": "stream",
     "text": [
      "['재밋는뎅', '킬링타임', '아 빵점', '연기 굿', '좋은영화', '굿 좋아', '신선하네', '재밌는데', 'ㄵ 점대', '절대비추', '구우우웃', '펑점조절', '지루하다', '억지억지', '목포 붹', '패륜영화', '좋은니다', '재미없다', '점만들자', '자 제한', '괜히봤다', '재미없음', '시시하다', '완벽하다', '장난치냐', '몰떡몰떡', '이건뭥미', '잼슴ㅇㅎ', '짠하네요', '기대된디', '실망이다', '보고싶다', '볼만해요', '사랑한다', '감동ㅜㅜ', '나도별로', '뭥미 헐', '추억돋네', '좋았어요', '재밌어요', '어이상실', '볼만했음', '평점조절', '별로네요', '자자자자', '재밋어요', '잼있어요', '돈아깝다', '미치겠다', '알파치노', '명작ㅎㅎ', '어이없다', '재밌나여', '눈물나다', '굿입니당', '옥빈님짱', '과연ㅋㅋ', '넌센스다', '피크타임', '아들은 ', '재밌었죠', '중국이지', '시시하네', '따분하다', '언제꺼임', '화가난다', '별로였음', '뭐냐이게', '개쩔었다', '그지같다', '재미없네', '안무섭다', '훈훈하당', '아임낫뎃', '푹 잤음', '재밌네요', '별로던데', '괜찬았음', '안과 겉', '참쩔어요', '재 밌다', '좋습니다', '괜찬군요', '재밌네 ', '걍 평작', '짜증나서', '괜찮았음', '명작이다', '재밋구만', '공블리짱', '이정시러', 'ㅡㅡ 네', '코믹인가', '잼나ㅎㅎ', '완전좋아', '으하하하', '그만하자', '그럭저럭', '재미없따', '잼 없음', '보지마요', '후낙였다', '이건멍미', '그하나의', '재밌겠당', '명 참여', '안경벗어', '보영누나', '허술하다', '재미있당', '넘잼있음', '재밌따 ', '재미있다', '걍 점줘', '애들이참', '재밋어여', '씹쓰레기', '선동영화', '별로 ㅋ', '베리굿 ', '완전 짱', '애절하다', '재미없엉', '좋은데요', '재미있음', '불쌍해서', '좋구만 ', '쒰더뭥미', '대작이네', '넘 잼따', '적절하다', '살아있네', '재밌더만', '여운쩡ㄹ', '최고였다', '훈훈하다', '이런젠장', '재밌던데', '최고이지', '어떨가나', '쓰렉이얌', '뽜야 뽜', '재밋는데', '두근두근', '구리네요', '짱   ', '의지부족', '좀지루함', '짱이에여', 'ㅎ재밌다', '의기투합', '보고십따', 'ㅁㅇ ㅡ', '슬펏어요', '재미없어', '감상완료', '빡침주의', '아 ㅡㅡ', '쓰레기다', '잼잇어요', '재밓구만', '훌륭했음', 'ㅇㅋㅇㅋ', '볼만하네', '가소롭다', '짱이에요', '똥덩어리', '사십자평', '잼이써요', '용두사미', '대박ㅠㅠ', '끝내준다', '대작이다', '별루네요', '이상하다', '재밌던디', '평점이 ', '볼만하다', '죽여줄까', '난해하다', '감동강동', '다   ', '완전감동', '하 머지', '호 감동', '뭐코미디', '재미업슴', '꼴초영화', '아련하네', '짱재밋어', '송일국씨', '아내시간', '좋아 ㅋ', '점세례중', '모두최고', '걸작이다', '하지원짱', '이건 뭐', '너무좋아', '이런ㅆㅃ', '짱짱맨들', '전율이다', '감동이다', '좋음좋음', '잼나네요', '쨩이예여', '완전대박', '장난하냐', '굿입니다', '어색어색', '좋네요 ', 'ㅎㅎㅎㅎ', '먹먹하다', '신데렐라', '멋진영화', '돈날엿음', '좋다좋아', '어려웟다', '시간날림', '무술코믹', '재미없으', '진부하다', '완전추천', '썰 옛썰', '잼씁니다', '휴한숨만', '할말없음', '빈약하다', '신선했다', '김남길짱', '모호하다', '백점이야', '뭐니이게', '어린이용', '명봅니다', '무색무취', '거지같음', '와따임다', '원작능욕', '머임이거', '불편하다', '고생했다', '코믹영화', '뭔말인지', '쓰레기즐', 'ㅐ미잇다', 'ㅈㅈ치자', '재미는 ', '끔찍허다', '막장의끝', '아름답다', '의리로점', '걍 대박', '할렐루야', '눈물났다', '재밌다ㅇ', '재미지다', '유구무언', '정말최고', '실망햇음', '짜증났다', '쓰레기ㄱ', '깜찍하네', '이종혁짱', '시간낭비', '재밋네요', '멋지네요', '불쾌하다', '액션좋다', '지루해요', '정말좋ㄷ', '최고였죠', '너무햇음', '어쩌라고', '별로구만', '학교폭력', '평생간다', '재미음슴', '골빈님짱', '할말없다', '뭐 이건', '스캔들짱', '좀 그런', '최악이다', '별로 쩝', '뭐야이게', '아 진짜', '엮시코엔', '재밌겠다', '재미만점', '대박이지', '쩔어요ㅎ', '재밋엇음', '영화 참', '알이즈웰', '대박쩐대', '음이상해', '잼있네요', '최고ㅠㅠ', '쩜쩜쩜쩜', '기대기대', '잘봤어요', '뭔소리임', '기름지다', '가 적당', 'ㅡㅡㅡㅡ', '최고명작', '하송중기', '따뜻했다', '점대ㄱㄱ', '재밌네여', '반전대박', '장국영님', '최최최고', '연기 짱', '점 못줌', '별로야 ', '신애리짱', 'ㅅㄹㅎㅇ', '멋집니다', '아주좋음', '굳 ㅠㅠ', '벌로 ㅇ', '유치하죠', '쩌넼 ㅋ', '멘탈붕괴', '짱이라능', '동심파괴', '점 ㅡㅡ', '난좋은데', '우왕좉타', '아재밌어', '등입니다', '모자라다', '심심하다', '쩐다진짜', '찝찝하다', '액션 굿', '젬 없네', '애매하다', '재미업음', '재밋던데', '장난하나', '해피엔딩', '맥스  ', '아 이런', '허무맹랑', '잼없어요', '배리 굿', '평점좀봐', '재민네ㅋ', '허접하네', '영화병맛', '지루했음', '재밋든뎅', '재밌었음', '분 ㅡㅡ', '년도작품', '아주좋아', '잔 웃음', '재밋어용', '꾸꿈이네', '그래도뭐', '그냥그냥', '나름 굳', '벤킹슬리', '캡짱짱맨', '다중인격', '좋앗어요', '와 대박', '재미잇네', '평점의힘', '답답하네', '좋구나 ', '좋았네요', '괜찮은데', '흠 별루', '뭐야이건', '마지막이', '그냥 ㅡ', '재미업덩', '현정언니', '와 좋당', '성룡 굿', '재밌었다', '후덜덜등', '보고프다', '아프도다', '셀로브다', '음 스멜', '유치유치', '빵점영화', '흑흑감동', '괞찬아요', '해영아 ', '역겨워요', '별로인데', '오글거림', '유쾌했어', '정말좋음', '캐쓰레기', '완전재밌', '재미있나', '잔인하다', '사다코 ', 'ㅋㅋㅋㅋ', '음묘하다', '아놔ㅡㅡ', '점 만점', '재미 짱', '훈훈하군', '흑백까기', '태권브이', '주드이뻐', '별로별로', '재밋내요', '망했어요', '유치짬뽕', '일밍아웃', '난 감동', '올리비아', '도 이다', '으리으리', '별로였다', '잼있었다', '잼있었음', '스토리가', '그냥그래', '초딩용어', '돈만날림', '잘봣어요', '그저글타', '뭐냐이건', '우울모드', '조내잼다', '완전 헐', '아귀여워', '병맛이다', '쫌아닌데', '평점 점', '에헴에헴', '허접하다', '오마이갓', '보지마라', '잊지말자', '실패했다', '걍쓰래기', '진심뭔지', '독터 후', '굉장하군', '세상에나', '알흠답다', '진짜쩐다', '먹고싶다', '유치하다', '음 뭐라', '진짜노잼', '뷰리풀 ', '잼미없다', '억지결말', '으음 음', '미안하다', '음악 참', '기대안함', '쩐다 ㄷ', '어이없네', '괜찬은데', '재미었요', '평높운동', '그저그런', '최고 ㅋ', '오글오글', '이거뭐냐', '짱이쁘요', '아싸 등', '적당한듯', '최고최고', '그런대로', '기대이상', '이게뭐냐', '웃기겠다', '소꼽장난', '대벅이다', '별루에용', '생각이하', '억지웃음', '망한영화', '최고ㅎㅎ', '재밌어유', '부드럽다', '빅 빡쳐', '뻔한얘기', '잼습니다', '대박이닷', '점만든다', '대박사건', '벽돌깨기', '개나줘라', '감동감동', '벙 찌다', '알현하다', '콱 그냥', '볼만했던', '그닥 ㄱ', '최고졸작', '매우좋음', '비버새끼', '나의왼발', '전 별로', '최고다 ', '감동ㅠㅠ', '말렸어야', '벽속에서', '기대이하', '오 캡틴', '슬픔ㅜㅜ', '반전최고', '실화라니', '바보영화', '삼류구나', '노코멘트', '어메이진', '평점깎기', '는좋아요', '좀 별로', '대박ㅋㅋ', '완전기절', '유치함 ', '이쁜영화', '재밋네여', '레알병맛', '눈물난다', '볼만한데', '어설프다', '점점에점', '다 저질', '번 봤다', '한효주 ', '아련하다', '완전웃김', '아주좋군', '카리스마', '삼류공포', '비디오용', '훌륭했어', 'ㅎㄷㄷㄷ', '지루하네', '잔잔하게', '괜찮은듯', '잼나잼나', '괜찬네여', '허무개그', '동혁이형', '좀그런듯', '연기력이', '대박 쩜', '모지 ㅎ', '망했구나', '뭐지짧아', '알바조심', '당연히ㅋ', '이민정짱', 'ㅆㄹ ㄱ', '복사기님', '폭풍눈물', '엽기점수', '막장별루', '너무높다', '귀엽네요', '나도 점', '너모좋음', '하 하하', '점 없음', '흥미진진', '어쩌라구', '재밌는뎁', '재미잇당', '지루하군', '재미잇다', '완전짜증', '실망했음', '매력있음', '잘 잤다', '재밌어여', '스꺼스띵', '옛날생각', '윽쓰레기', '개지루함', '꽁치즐 ', '쩌리쩌리', '빵점없나', '급 실망', '말이많다', '이요원 ', '잼나 ㅋ', '재밋었음', '개재밋음', '대박대박', '넘 재미', '점점점점', '뭐이딴게', '맹탕이네', '셋스어필', '재밍벗음', '아 의지', '너무하네', '잼나게봄', '재미있네', '불륜영화', '류 영화', '사랑해여', '짐 캐리', '잼 있다', '유명무실', '재미있넹', '밍밍하다', '걸오사형', '떨구자ㅓ', '감동적임', '재미없슴', '완죤허접', '진실의힘', '짱좋아욤', '대박영화', '비판쩌내', '밋밋하네', '음 글쎄', '개재밋네', '징그럽다', '구웅우웃', '시즌도ㅠ', '뜬끔없다', '괜찮네요', '감동백배', '웰메이드', '노래죻타', '재미있어', '토나왔다', '따뜻하다', '재밋어옂', '낚시터냐', '재밌구만', '쩌 쩐다', '잼섯어요', '지루함 ', '암울하다', '빠다웃음', '짱이예요', '영광이다', '싫으네요', '연걸사마', '제대로 ', '아 뭐지', '발더빙 ', '이런영화', '볼만했다', '주모영화', '뭐야이거', '나루토짱', '대박  ', '꼭 봐라', '저질이야', '노래종아', '눈빛봐라', '픽사는닥', '갖다버려', '재미짐 ', '정말 굿', 'ㅈㄴ웃김', '중구난방', '한물갔군', '내삶의낙', '감독맞삼', '년 와우', '하하하하', '도 과분', '난 점을', '앜ㅋㅋㅋ', '안타깝다', '퀄 쩐다', '성지순례', '슈퍼블립', '재재밌다', '이건머 ', '잘봤수다', '수준미달', '결말이 ', '재밌음ㅋ', '애잔해요', '피곤하다', 'ㅡㅡ실망', '최고였음', '좋았었지', '영화 맨', '이게머야', '쭉 봤다', '맞춰야지', '초딩영화', '점으로 ', '아하 ㅋ', '재미지당', '코믹하다', '홀딱빠짐', '괜찮아요', '봄에최림', 'ㅜㅜ난등', '잼잇는데', '잔잔했다', '토토로짱', '하균앓이', '지겨웠다', '즈질이야', '평점번더', '하암졸려', '풍경좋다', '넗쒕씪쟾', '망햇어요', '이건뭐지', '영화즐함', '재미읍다', '완전재미', '뭐 이래', '멋져멋져', '번본영화', '반담시걸', '병맛영화', '최강최강', '짱좋앜ㅋ', '재밌죠 ', '구질구질', '최고예요', '미스테리', '종편 캐', '제에나옴', '이럴수가', '보여주네', '보면안다', '불쌍하다', '오유쵝오', '두번봐라', '이보영 ', '넘좋아요', '오 갓뎀', '괜찮구먼', '속상해짐', '반달리즘', '별로에요', '유치엉성', '침울하군', '가자아아', '얄팍하다', '쓰레기 ', '기대하지', '괜찮군요', '이런 바', '굿 무비', '난 좋다', '낫 베드', '잤다 ㄳ', '내려지네', '효민ㄷㄷ', '짜증난다', '실은데여', '돈아까워', '너무지루', '억지감동', '재미읎당', '윤제문짱', '난잡하다', '재미지네', '원작붕괴', '그냐ㅕㅇ', '예술이네', '왜만든겨', '명불허전', '편나와라', '아토나와', '으리종범', '잼따ㅋㅋ', 'ㄷㄷ최악', '고전명작', '영화맞어', '좋은작품', '보고잡다', '모르겠다', '굿굿굿굿', '묵묵부답', '토나온다', '짜릿하다', '재밌었지', 'ㅇ화이팅', '머이딴게', '동명이인', '안습이다', '장난하맨', '송중기 ', '쓰레기군', '땡잡았어', '그냥그럼', '점씩이다', '함량미달', '찡하네요', '킴바우어', '예술인가', '신파공략', '점점점 ', '딴거보셈', '어휴정말', '섬세하다', '미국만세', '유치찬란', '별로  ', '막플염 ', '짱짱이다', '까까먹자', '장애인들', '점없냐 ', '전우치짱', 'ㅋㅋ 굿', '이거머냐', '지루했다', '재밓게봄', 'ㅜㅜㅜㅜ', '표절냄새', '짱재밌다', '지루해서', '쓰렉ㄴㅇ', '포르노네', '스릴러물', '강렬하다', '쓰레기임', '좋다 ㅋ', '쓰레기통', '아지루해', '아 신고', '귀엽네여', '아그립다', '꼭보세요', '습작인가', '어쩔건데', '그저그럼', '그냥저냥', '해이해이', '휴잭맨짱', '욱 욱욱', '볼만헀다', '성민느님', '전체관람', '난 별로', '뭐 그냥', '살이엇냐', '투박하다', '굳굳굳굳', '짱 ㅠㅠ', '좋네여 ', '우울하다', '아 내눈', '카밀라벨', '다이하드', '낯뜨겁다', '점못주나', '재미 있', '봐줄만함', '미안해요', '개망작임', '역시성룡', '인생이란', '재밌네용', '이연걸짱', '재밋는딩', '의 시작', '보고 따', '슬프던데', '의 폐해', '짱 이다', '호모영화', '그냥 쩜', '잼있겠다', '기대만발', '별론데 ', '잼잇엇음', '재밌었던', '만족해요', '완전 꽝', '끔찍하다', '한번더해', '강렬한걸', '볼만헀음', '제미있다', '재밌있다', '현실걸즈', '주여ㅠㅠ', '아니오 ', '수면제다', '진짜 짱', '진심 기', '이힝이힝', '멋졌어요', '수준이하', '보통이다', '팝콘무비', '반담제발', '난 별루', '이해불가', '아 최고', '막장이네', '으흠어험', '쩔어쩔어', '허허 파', '아장국영', '이영화짱', '엽기변태', '훈훈해요', '지루해여', '즐거웠다', '죽입니다', '그냥봐라', '조은영화', '잼난영화', '슬펐어요', '지루지루', '정말웃김', '과대포장', '감독나와', '보고잇음', '씁쓸하오', '웬 대역', '역시 굿', '성준앓이', '유치빤스', '놀러왓음', '잼잇어영', '최고던데', '머어엉미', '재미없당', '이게모야', '맛있었다', '결말이좀', '기대된다', '간지네요', '우왕 굿', '막무가내', '완전돟아', '대박인걸', '어색했던', '쪼아쪼아', '옜다 점', '쩝 별루', '재밌네ㅋ', 'ㅈㅐ밋따', '잼 있음', '벨희 굿', '캬악 퉤', '왜 야해', '연장 고', '알아알아', '재밋음 ', '왕조현 ', '짱재밌음', '이게머임', '돈아까움', '협주곡 ', '기 영화', '좋은듯짱', '아 쩌러', '재밌얼얼', '흠 머여', '막장ㅉㅉ', '의 실수', '미친영화', '볼만했따', '나도조율', '재미종범', '하멋있다', '완전 류', '대단하다', '표절영화', '아 몰라', '짱입니다', '눈물펑펑', '슬퍼ㅠㅠ', '심심풀이', '진짜별로', '재밋으요', '개쓰레기', '최고에요', '재미잇음', '막장ㅋㅋ', '멋있었다', '장난쳐요', '를 위해', '굉장하다', '이게뭐니', '좀 그럼', '잼났어요', '너무좋음', '유쾌하다', '하하아 ', '하기싫냐', '삤겠다다', '레전드임', '좋아요 ', '별로에용', '난 강추', '만이주지', '하악하악', '고사성어', '더 살지', '재밋음하', '잼없던데', '짱이야요', '심심하당', '저러껒여', '훌륭하다', '남감하다', '최악이야', '미칩니다', '재밋엇당', '최악이네', '안봐도암', '뜬금없음', '반전 쨩', '스례기다', '재미쓰여', '별다섯개', '훑어 봄', '걍 싫어', '하아ㅡㅡ', '완전 굿', '괸찬은댕', '에이몰라', '스머프짱', '알바쓰냐', '개좋음 ', '점 없나', '중궈쨔응', '대박 캬', '고마워요', '민아 굿', '재밋겠음', '아 졸려', '전 만족', '최고지암', '워래되로', '꾸르잼 ', '내가 등', '슬픈영화', '별점테러', '여운 짱', '베리 굿', '꼭 봐요', '하고싶다', '감동영화', '안 야해', '진짜 굳', '애잔허다', '괜찮았던', '심각하다', '흠이없다', '아 뭐냐', '쓰레기들', '진짜대박', '생각보다', '코난이짱', '보고싶엉', '시라소니', '아 좋다', '이성민짱', '뭐 딱히', '그냥보통', '달곰하다', '이게머냐', '또나올까', '좋아좋아', '헐ㅋㅋㅋ', '앗싸 등', '최고진짜', '오타쿠용', '안봐도될', '최악ㅋㅋ', '식상하다', '뭐뭐지 ', 'ㄹ휴혹숙', '참신함에', '흥미롭다', '제리케이', '완전뻔함', '조하조하', '풀하우스', '슬플 뿐', '삐질삐질', '아 모야', '괜찮던데', '보지마셈', '삼류영화', '때려 쳐', '나는 빠', '레알 기', '욕나온다', '보다잤다', '뭔내용임', '재밌는뎅', '사골국물', '상큼ㅋㅋ', '나 ㅜㅜ', '몬영화지', '별루던데', '비약금지', '그냐으럼', '재미지닼', 'ㅅㅂ 네', '어이없음', '짝퉁본색', '아련돋네', '소아적인', '독특하다', '이거뭥미', '점 없냐', '한심할뿐', '괜히봤따', '짱점었어', '잼이떠여', '부족하다', '잼잇었다', '동감웃음', '절대공감', '흐미안습', '그냥 짱', '존나구림', '감동적인', '쓰렉영화', '짱감동임', '대단해요', '하석진굿', '감동 ㅠ', '질질싼다', '이게모여', '힘내세요', '이기영화', '쟘있냌ㅋ', '대니보일', '넘재밌음', '그냥 굿', '죄송하다', '점 없니', '참신하다', '멋지다고', '역쉬알럽', '준기니깐', '고릴라걸', '호나우두', '음그래흠', '김삼순짱', '이러디망', '발랄사악', '막장영화', '약빨았군', '실망감만', '굳이에영', '재밌었어', '맘에 듦', '럽송럽송', '보고잇다', '명작이네', '귀여워요', '개 졸작', '캬 명작', '추천못해', '이게머니', '인심쓴다', '최고지뭐', '신선한데', '시원통쾌', '에로인가', '알렉산더', '너무별루', '혼자본인', '노잼자자', '점입니다', '썩은영화', '감흥없음', '뻔한연출', '아윌비백', '완전잼남', 'ㅋㅋ좋음', '미스매치', '끝이너무', '예술임ㅋ', '이건모니', '씨들겠다', '시대정신', '강인구속', '감동이요', '평점관리', '이런 썅', '천재적인', '재밌었따', '레알뿜음', '전설이죠', '재미없삼', '난 용자', '유일무이', '그냥좋음', '함께하자', '너무이상', '최고였지', '오오ㅠㅠ', '멋져부러', '쩔어연기', '오키 점', '재미지죠', '무서버유', '비스트짱', '뽠따스틱', 'ㅄ영화임', '재미있엌', '볼게없음', '희망이라', 'ㄹㄹㄹㄹ', '최고네요', '쩝 실망', '너무높아', '어쩌자고', '음 별로', '짜증지대', '잼있던데', '보다껏다', '스릴만점', '완전잼나', '소소시테', '우와 ㅋ', '미드지존', '장난치냥', '굿 임다', 'ㅊㅊㅊㅊ', '그냥ㅋㅋ', '됐고 ㅁ', '머냐이게', '청소년용', '소나기짱', '센스있다', '쵸니멋졌', '이 므야', '훌륭했다', '이해한다', 'ㅈㄴ 김', '김수현짱', '점대찍자', '무엇일까', '구라새끼', '현대사회', '괜찮아요', '애매하네', '보고울음', '볼만하다', '재밌었음', '재밌어요', 'ㅇㅇ좋음', '최고에요', '지루해염', '지루함이', '이거뭐요', '재미잇다', '재밌네요', '최고였지', '끔찍하다', '막장액션', '짱나ㅡㅡ', '시간낭비', '지루함 ', '고아라짱', '재미없어', '재미읎다', '하송지효', '내 시간', '코믹영화', 'ㅋㅋ최고', '로드무비', '재밌던데', '대리만족', '별로였다', '오 명작', '영화보기', '골때린다', '연기 굳', '우울하네', '재미있슴', '재밌더라', '전쟁이란', '재밋어요', '재미없다', '마악자앙', '보고싶당', '시기상조', '이 무슨', '아하하하', '굳라미 ', '최악이다', '의 짝퉁', '아 짱나', '재밌다ㅋ', '돈아깝네', '저질이다', '왜본걸까', '윽 신고', '장난 ㅋ', 'ㅠㅠ대박', '반성하자', '재미없음', '개더러워', '잼있어요', '아름답다', '소름돋음', '결말이좀', '좋다좋아', '미친영화', '재밌는데', '레알 짱', '발전하길', '캬재밌다', '점 없나', '이건뭐지', '안쓰럽다', '재밋네요', '이게뭐임', '어이구야', '별로던데', '실화네 ', '역시 는', '이게머야', '실망이다', '재앙이다', '별로네요', '넘지겹다', '훈훈하닷', '난 별로', '그럭저럭', '좋은영화', '답답했다', '역겨워 ', '감성충만', '재밌어용', '할말없음', '재밌다 ', '잼있었음', '실망조낸', '고자성어', '후 폭풍', '잼있어용', '에휴ㅉㅉ', '어의상실', '걸작이다', '기대안함', '보고싶다', '원작대비', '점주고픔', '지겹다 ', '조니뎁 ', '디게웃겨', '시간아깝', 'ㅋㅋㅋㅋ', '꼴려 ㅋ', '줄수없다', '이응이응', '놀랍네요', '멋진영화', '자 제한', '좀 아님', '머야이거', '장난하냐', '트롤트롤', '장난까나', '참뭣같다', '조잡하다', '스파이크', '대박좋다', '한심하다', '코빅 짱', '나도그냥', '지리멸렬', '이거슨 ', '공포아님', '괜찮던데', '난해하다', '티나불쌍', '잼있어욤', '재미있다', '재미겠다', '그리운 ', '뻔한내용', '아름답네', '허접하다', '잼씀 ㅎ', '살아있네', '그냥그런', '이정도면', '평점조정', '생날영화', '추억돋네', '최고였음', '알수없다', '하서수민', '왁스 굳', '야동 ㅋ', '최고 ㅎ', '점ㅈ점점', '최고이야', '감동이군', '이조녁짱', '대박이다', '아닙니다', '재밋닼ㅋ', '기대이하', '슬프더라', '오유랑께', '재밌는뎅', '잼있네요', '공감백배', '비디오용', '병맛이다', '의 명작', '최고네요', '대단하다', '흥분됬음', 'ㅡㅡ장난', '개재밋음', '재미있어', '안타까움', '괜춘 ㅋ', '진짜 걍', '발암영화', '힘내세요', '참나어휴', '물토 끗', '뭐 그냥', '허무하다', '대략난감', '전그다지', '좌충우돌', '캬 역시', '이건 뭐', '짱이예요', '미치겠다', '동화같다', '뭐냐진짜', '영화좋음', '노조미짱', '찝찝하다', '시끄럽다', '진짜별로', '초지일관', 'ㅇ 좋음', '재미있음', '볼만햇다', '재미없네', '엉망진창', '슈퍼우먼', '볼만한데', '같은영화', '아짱이다', '재밌었다', '최고였다', '알바 즐', '지아장커', '인정 쾅', '이얌이얌', '지루하다', '기 영화', '뭐여이건', '오키도키', '비스트짱', '별루네요', '별점테러', '좋습니다', '명불허전', '간지철철', '오마이갓', '재미있죠', '장난하나', '순수하다', '사랑해요', '뛰어나다', '사랑이란', '매력있는', '징그럽다', 'ㅁㅃㅃ먀', '볼만해요', '웃긴영화', '디워인줄', '명작인듯', 'ㅇㅋ다솔', '화려하다', '내가본다', '하ㅇㅇㅇ', '부끄럽다', '명작이다', '유치빤스', '예술가 ', '최고최고', '용두사미', '재밌을것', '괜찮네요', '설레인다', '짱이네요', '잘 봤음', '진짜 기', '눈물난다', '장난치냐', '괜찮았어', '엔다이야', '촌스럽다', '기냥뭐 ', '코믹버전', '언제끝남', '재미있당', '정재영짱', '졸리누나', '안습이다', '개잼있다', '별루던데', '엑설런트', '좀 별루', '구역질남', '무서웠어', '씨앗영화', '섭섭해 ', '아이 썅', '괜찮았다', '잼있구만', '공지철짱', '인기없음', '신선했다', '완전감동', '쓰레기임', '힘을네자', '빠순이 ', '평점조절', '안무서움', '무미하다', '사십자평', '옜다 점', '재밌고만', '재밋엇음', '굿드완전', '재밋있음', '좀 짜증', '대박대박', '쓰레기네', '재밌러요', '재미는데', '추천추천', '웃기지마', '상상력굳', '괜찮네 ', '재미나요', '좋았어요', '완전잼나', 'ㅇ ㅔ라', '아 졸려', '고진감래', '보면 암', '정크무비', '딱 좋음', '돈아까워', '가소롭다', '난그다지', '재밋는데', '별로에요', '우하하 ', '굳최고다', '좋아요ㅎ', '파이는 ', '더 심슨', '유치뽕짝', '큭 칙쇼', '아련하네', '덕이누님', '천만에요', '무난하다', '하제발후', '기본점수', '레알이셈', '강풀 짱', '재밌더군', '어이없다', '훌륭하다', '이에요요', '모르겠다', '최악이군', '아키 짱', '어이없음', '꿀잼인데', '짱재밋당', '오왕 굳', '제대로다', '따뜻해요', '노래좋다', '최고예요', '재밋엇엉', '넘좋아요', '진부하다', '흝어 봄', '내돈내놔', '쵝오ㅋㅋ', '감흥제로', '낚였다ㅠ', '하아노잼', '슈렉ㅠㅠ', '볼만했다', '완전최악', '난동이닷', '하품난다', '최고였죠', '도 병임', '말이필ㅇ', '재미쓰ㅋ', '뭐야이게', '너무높다', '야비하다', '지루제루', '개 망작', '깝 ㄴㄴ', 'ㅋ영화임', '그다지 ', '좀 유치', '어이없네', '점 만점', '스스고이', '재미잇음', '냉무자자', '실망실망', '재미이다', '가야지 ', '경이롭다', '재밌써요', '연기최고', '우울하다', '닌해하다', '걍 점ㅋ', '개나줘라', '이 죈장', '아 조타', '고대세안', '하지원짱', '엑윽엑엑', '그냥 짱', '그런대로', '최고다 ', '미치겠네', '어린악마', '제발더빙', '무리수다', '페르난다', '멋져부러', '프로젝트', '김현주짱', '졸귀엽다', '재밌을듣', '하낙였네', '좋은데요', '재밌더만', '벡비최고', '김선아짱', '쨩ㅎㅎㅎ', '재밋엇당', '감동감동', '황당한데', '오우 굿', '행복수행', '돈아까움', '연기좀봐', '와 대박', 'ㅅ 공포', '쵝오쵝오', '이거잼슴', '재미지다', '코와붕가', '최고네 ', '휴한숨만', '난 별루', '아짜증나', '완전좋아', '알바돋네', '음 별로', '그렇겠지', '가하 파', '노래자랑', '불쌍하다', '넘겨봤다', '굿이군요', '심심타파', '초딩용 ', '지루해요', '최고ㅜㅜ', '루즈하네', '킬링타임', '감독뭥미', '과소평가', '감동ㅠㅠ', '음어쯧ㅠ', '좋아요 ', '괜찮은데', '이런 기', '스토리가']\n"
     ]
    }
   ],
   "source": [
    "print([s for s in document if len(s) == 4])"
   ]
  },
  {
   "cell_type": "code",
   "execution_count": 75,
   "id": "fbff57b7",
   "metadata": {},
   "outputs": [
    {
     "name": "stdout",
     "output_type": "stream",
     "text": [
      "/aiffel/aiffel/이지수/GDNLP/2. 멋진 단어사전 만들기\n"
     ]
    }
   ],
   "source": [
    "%cd /aiffel/aiffel/이지수/GDNLP/2. 멋진 단어사전 만들기\n",
    "with open('naver_review.txt', 'w', encoding='utf8') as f:\n",
    "    f.write('\\n'.join(document))"
   ]
  },
  {
   "cell_type": "code",
   "execution_count": 76,
   "id": "0b2c997d",
   "metadata": {},
   "outputs": [
    {
     "name": "stderr",
     "output_type": "stream",
     "text": [
      "sentencepiece_trainer.cc(177) LOG(INFO) Running command: --input=naver_review.txt --model_prefix=naver_Unigram --vocab_size=8000 --max_sentence_length=100\n",
      "sentencepiece_trainer.cc(77) LOG(INFO) Starts training with : \n",
      "trainer_spec {\n",
      "  input: naver_review.txt\n",
      "  input_format: \n",
      "  model_prefix: naver_Unigram\n",
      "  model_type: UNIGRAM\n",
      "  vocab_size: 8000\n",
      "  self_test_sample_size: 0\n",
      "  character_coverage: 0.9995\n",
      "  input_sentence_size: 0\n",
      "  shuffle_input_sentence: 1\n",
      "  seed_sentencepiece_size: 1000000\n",
      "  shrinking_factor: 0.75\n",
      "  max_sentence_length: 100\n",
      "  num_threads: 16\n",
      "  num_sub_iterations: 2\n",
      "  max_sentencepiece_length: 16\n",
      "  split_by_unicode_script: 1\n",
      "  split_by_number: 1\n",
      "  split_by_whitespace: 1\n",
      "  split_digits: 0\n",
      "  treat_whitespace_as_suffix: 0\n",
      "  allow_whitespace_only_pieces: 0\n",
      "  required_chars: \n",
      "  byte_fallback: 0\n",
      "  vocabulary_output_piece_score: 1\n",
      "  train_extremely_large_corpus: 0\n",
      "  hard_vocab_limit: 1\n",
      "  use_all_vocab: 0\n",
      "  unk_id: 0\n",
      "  bos_id: 1\n",
      "  eos_id: 2\n",
      "  pad_id: -1\n",
      "  unk_piece: <unk>\n",
      "  bos_piece: <s>\n",
      "  eos_piece: </s>\n",
      "  pad_piece: <pad>\n",
      "  unk_surface:  ⁇ \n",
      "}\n",
      "normalizer_spec {\n",
      "  name: nmt_nfkc\n",
      "  add_dummy_prefix: 1\n",
      "  remove_extra_whitespaces: 1\n",
      "  escape_whitespaces: 1\n",
      "  normalization_rule_tsv: \n",
      "}\n",
      "denormalizer_spec {}\n",
      "trainer_interface.cc(329) LOG(INFO) SentenceIterator is not specified. Using MultiFileSentenceIterator.\n",
      "trainer_interface.cc(178) LOG(INFO) Loading corpus: naver_review.txt\n",
      "trainer_interface.cc(356) LOG(WARNING) Found too long line (160 > 100).\n",
      "trainer_interface.cc(358) LOG(WARNING) Too long lines are skipped in the training.\n",
      "trainer_interface.cc(359) LOG(WARNING) The maximum length can be changed with --max_sentence_length=<size> flag.\n",
      "trainer_interface.cc(385) LOG(INFO) Loaded all 141432 sentences\n",
      "trainer_interface.cc(391) LOG(INFO) Skipped 50577 too long sentences.\n",
      "trainer_interface.cc(400) LOG(INFO) Adding meta_piece: <unk>\n",
      "trainer_interface.cc(400) LOG(INFO) Adding meta_piece: <s>\n",
      "trainer_interface.cc(400) LOG(INFO) Adding meta_piece: </s>\n",
      "trainer_interface.cc(405) LOG(INFO) Normalizing sentences...\n",
      "trainer_interface.cc(466) LOG(INFO) all chars count=2998942\n",
      "trainer_interface.cc(477) LOG(INFO) Done: 99.9501% characters are covered.\n",
      "trainer_interface.cc(487) LOG(INFO) Alphabet size=1592\n",
      "trainer_interface.cc(488) LOG(INFO) Final character coverage=0.9995\n",
      "trainer_interface.cc(520) LOG(INFO) Done! preprocessed 141432 sentences.\n",
      "unigram_model_trainer.cc(139) LOG(INFO) Making suffix array...\n",
      "unigram_model_trainer.cc(143) LOG(INFO) Extracting frequent sub strings...\n",
      "unigram_model_trainer.cc(194) LOG(INFO) Initialized 199384 seed sentencepieces\n",
      "trainer_interface.cc(526) LOG(INFO) Tokenizing input sentences with whitespace: 141432\n",
      "trainer_interface.cc(537) LOG(INFO) Done! 190317\n",
      "unigram_model_trainer.cc(489) LOG(INFO) Using 190317 sentences for EM training\n",
      "unigram_model_trainer.cc(505) LOG(INFO) EM sub_iter=0 size=100251 obj=13.5329 num_tokens=391189 num_tokens/piece=3.9021\n",
      "unigram_model_trainer.cc(505) LOG(INFO) EM sub_iter=1 size=92546 obj=12.6497 num_tokens=392933 num_tokens/piece=4.24581\n",
      "unigram_model_trainer.cc(505) LOG(INFO) EM sub_iter=0 size=69382 obj=12.7479 num_tokens=414310 num_tokens/piece=5.97143\n",
      "unigram_model_trainer.cc(505) LOG(INFO) EM sub_iter=1 size=69273 obj=12.6917 num_tokens=414503 num_tokens/piece=5.98362\n",
      "unigram_model_trainer.cc(505) LOG(INFO) EM sub_iter=0 size=51951 obj=12.9318 num_tokens=441173 num_tokens/piece=8.4921\n",
      "unigram_model_trainer.cc(505) LOG(INFO) EM sub_iter=1 size=51949 obj=12.8691 num_tokens=441320 num_tokens/piece=8.49525\n",
      "unigram_model_trainer.cc(505) LOG(INFO) EM sub_iter=0 size=38961 obj=13.1333 num_tokens=466668 num_tokens/piece=11.9778\n",
      "unigram_model_trainer.cc(505) LOG(INFO) EM sub_iter=1 size=38961 obj=13.0674 num_tokens=466709 num_tokens/piece=11.9789\n",
      "unigram_model_trainer.cc(505) LOG(INFO) EM sub_iter=0 size=29220 obj=13.3725 num_tokens=493767 num_tokens/piece=16.8983\n",
      "unigram_model_trainer.cc(505) LOG(INFO) EM sub_iter=1 size=29220 obj=13.305 num_tokens=493768 num_tokens/piece=16.8983\n",
      "unigram_model_trainer.cc(505) LOG(INFO) EM sub_iter=0 size=21915 obj=13.6392 num_tokens=521003 num_tokens/piece=23.7738\n",
      "unigram_model_trainer.cc(505) LOG(INFO) EM sub_iter=1 size=21915 obj=13.5692 num_tokens=521041 num_tokens/piece=23.7755\n",
      "unigram_model_trainer.cc(505) LOG(INFO) EM sub_iter=0 size=16436 obj=13.9341 num_tokens=548338 num_tokens/piece=33.362\n",
      "unigram_model_trainer.cc(505) LOG(INFO) EM sub_iter=1 size=16436 obj=13.8598 num_tokens=548375 num_tokens/piece=33.3643\n",
      "unigram_model_trainer.cc(505) LOG(INFO) EM sub_iter=0 size=12327 obj=14.2619 num_tokens=577281 num_tokens/piece=46.8306\n",
      "unigram_model_trainer.cc(505) LOG(INFO) EM sub_iter=1 size=12327 obj=14.1774 num_tokens=577365 num_tokens/piece=46.8374\n",
      "unigram_model_trainer.cc(505) LOG(INFO) EM sub_iter=0 size=9245 obj=14.6215 num_tokens=608695 num_tokens/piece=65.8405\n",
      "unigram_model_trainer.cc(505) LOG(INFO) EM sub_iter=1 size=9245 obj=14.5186 num_tokens=609065 num_tokens/piece=65.8805\n",
      "unigram_model_trainer.cc(505) LOG(INFO) EM sub_iter=0 size=8800 obj=14.5967 num_tokens=614578 num_tokens/piece=69.8384\n",
      "unigram_model_trainer.cc(505) LOG(INFO) EM sub_iter=1 size=8800 obj=14.5788 num_tokens=614711 num_tokens/piece=69.8535\n",
      "trainer_interface.cc(615) LOG(INFO) Saving model: naver_Unigram.model\n",
      "trainer_interface.cc(626) LOG(INFO) Saving vocabs: naver_Unigram.vocab\n"
     ]
    }
   ],
   "source": [
    "# Unigram 타입\n",
    "spm.SentencePieceTrainer.Train(\n",
    "    '--input=naver_review.txt --model_prefix=naver_Unigram --vocab_size=8000 --max_sentence_length=100')"
   ]
  },
  {
   "cell_type": "code",
   "execution_count": 77,
   "id": "a5155a59",
   "metadata": {},
   "outputs": [
    {
     "name": "stderr",
     "output_type": "stream",
     "text": [
      "sentencepiece_trainer.cc(177) LOG(INFO) Running command: --input=naver_review.txt --model_prefix=naver_BPE --vocab_size=8000 --model_type=bpe --max_sentence_length=100\n",
      "sentencepiece_trainer.cc(77) LOG(INFO) Starts training with : \n",
      "trainer_spec {\n",
      "  input: naver_review.txt\n",
      "  input_format: \n",
      "  model_prefix: naver_BPE\n",
      "  model_type: BPE\n",
      "  vocab_size: 8000\n",
      "  self_test_sample_size: 0\n",
      "  character_coverage: 0.9995\n",
      "  input_sentence_size: 0\n",
      "  shuffle_input_sentence: 1\n",
      "  seed_sentencepiece_size: 1000000\n",
      "  shrinking_factor: 0.75\n",
      "  max_sentence_length: 100\n",
      "  num_threads: 16\n",
      "  num_sub_iterations: 2\n",
      "  max_sentencepiece_length: 16\n",
      "  split_by_unicode_script: 1\n",
      "  split_by_number: 1\n",
      "  split_by_whitespace: 1\n",
      "  split_digits: 0\n",
      "  treat_whitespace_as_suffix: 0\n",
      "  allow_whitespace_only_pieces: 0\n",
      "  required_chars: \n",
      "  byte_fallback: 0\n",
      "  vocabulary_output_piece_score: 1\n",
      "  train_extremely_large_corpus: 0\n",
      "  hard_vocab_limit: 1\n",
      "  use_all_vocab: 0\n",
      "  unk_id: 0\n",
      "  bos_id: 1\n",
      "  eos_id: 2\n",
      "  pad_id: -1\n",
      "  unk_piece: <unk>\n",
      "  bos_piece: <s>\n",
      "  eos_piece: </s>\n",
      "  pad_piece: <pad>\n",
      "  unk_surface:  ⁇ \n",
      "}\n",
      "normalizer_spec {\n",
      "  name: nmt_nfkc\n",
      "  add_dummy_prefix: 1\n",
      "  remove_extra_whitespaces: 1\n",
      "  escape_whitespaces: 1\n",
      "  normalization_rule_tsv: \n",
      "}\n",
      "denormalizer_spec {}\n",
      "trainer_interface.cc(329) LOG(INFO) SentenceIterator is not specified. Using MultiFileSentenceIterator.\n",
      "trainer_interface.cc(178) LOG(INFO) Loading corpus: naver_review.txt\n",
      "trainer_interface.cc(356) LOG(WARNING) Found too long line (160 > 100).\n",
      "trainer_interface.cc(358) LOG(WARNING) Too long lines are skipped in the training.\n",
      "trainer_interface.cc(359) LOG(WARNING) The maximum length can be changed with --max_sentence_length=<size> flag.\n",
      "trainer_interface.cc(385) LOG(INFO) Loaded all 141432 sentences\n",
      "trainer_interface.cc(391) LOG(INFO) Skipped 50577 too long sentences.\n",
      "trainer_interface.cc(400) LOG(INFO) Adding meta_piece: <unk>\n",
      "trainer_interface.cc(400) LOG(INFO) Adding meta_piece: <s>\n",
      "trainer_interface.cc(400) LOG(INFO) Adding meta_piece: </s>\n",
      "trainer_interface.cc(405) LOG(INFO) Normalizing sentences...\n",
      "trainer_interface.cc(466) LOG(INFO) all chars count=2998942\n",
      "trainer_interface.cc(477) LOG(INFO) Done: 99.9501% characters are covered.\n",
      "trainer_interface.cc(487) LOG(INFO) Alphabet size=1592\n",
      "trainer_interface.cc(488) LOG(INFO) Final character coverage=0.9995\n",
      "trainer_interface.cc(520) LOG(INFO) Done! preprocessed 141432 sentences.\n",
      "trainer_interface.cc(526) LOG(INFO) Tokenizing input sentences with whitespace: 141432\n",
      "trainer_interface.cc(537) LOG(INFO) Done! 190317\n",
      "bpe_model_trainer.cc(167) LOG(INFO) Updating active symbols. max_freq=41511 min_freq=62\n",
      "bpe_model_trainer.cc(258) LOG(INFO) Added: freq=6907 size=20 all=92970 active=9375 piece=▁감\n",
      "bpe_model_trainer.cc(258) LOG(INFO) Added: freq=5222 size=40 all=96143 active=12548 piece=▁진짜\n",
      "bpe_model_trainer.cc(258) LOG(INFO) Added: freq=3689 size=60 all=100477 active=16882 piece=▁잘\n",
      "bpe_model_trainer.cc(258) LOG(INFO) Added: freq=3043 size=80 all=103787 active=20192 piece=▁볼\n",
      "bpe_model_trainer.cc(258) LOG(INFO) Added: freq=2510 size=100 all=106169 active=22574 piece=▁뭐\n",
      "bpe_model_trainer.cc(167) LOG(INFO) Updating active symbols. max_freq=2490 min_freq=51\n",
      "bpe_model_trainer.cc(258) LOG(INFO) Added: freq=2156 size=120 all=109330 active=8379 piece=▁중\n",
      "bpe_model_trainer.cc(258) LOG(INFO) Added: freq=1916 size=140 all=111228 active=10277 piece=▁애\n",
      "bpe_model_trainer.cc(258) LOG(INFO) Added: freq=1726 size=160 all=113619 active=12668 piece=▁없다\n",
      "bpe_model_trainer.cc(258) LOG(INFO) Added: freq=1558 size=180 all=115816 active=14865 piece=▁결\n",
      "bpe_model_trainer.cc(258) LOG(INFO) Added: freq=1475 size=200 all=117783 active=16832 piece=▁별로\n",
      "bpe_model_trainer.cc(167) LOG(INFO) Updating active symbols. max_freq=1462 min_freq=44\n",
      "bpe_model_trainer.cc(258) LOG(INFO) Added: freq=1349 size=220 all=119721 active=7754 piece=적이\n",
      "bpe_model_trainer.cc(258) LOG(INFO) Added: freq=1230 size=240 all=122176 active=10209 piece=필요\n",
      "bpe_model_trainer.cc(258) LOG(INFO) Added: freq=1147 size=260 all=123956 active=11988 piece=▁잔\n",
      "bpe_model_trainer.cc(258) LOG(INFO) Added: freq=1059 size=280 all=125771 active=13803 piece=재밌\n",
      "bpe_model_trainer.cc(258) LOG(INFO) Added: freq=1003 size=300 all=127547 active=15579 piece=어서\n",
      "bpe_model_trainer.cc(167) LOG(INFO) Updating active symbols. max_freq=1001 min_freq=40\n",
      "bpe_model_trainer.cc(258) LOG(INFO) Added: freq=940 size=320 all=129583 active=8263 piece=▁발\n",
      "bpe_model_trainer.cc(258) LOG(INFO) Added: freq=874 size=340 all=131890 active=10570 piece=▁굿\n",
      "bpe_model_trainer.cc(258) LOG(INFO) Added: freq=841 size=360 all=133994 active=12674 piece=인가\n",
      "bpe_model_trainer.cc(258) LOG(INFO) Added: freq=781 size=380 all=135677 active=14357 piece=▁애니\n",
      "bpe_model_trainer.cc(258) LOG(INFO) Added: freq=738 size=400 all=137045 active=15725 piece=하나\n",
      "bpe_model_trainer.cc(167) LOG(INFO) Updating active symbols. max_freq=738 min_freq=36\n",
      "bpe_model_trainer.cc(258) LOG(INFO) Added: freq=704 size=420 all=138554 active=8094 piece=▁설\n",
      "bpe_model_trainer.cc(258) LOG(INFO) Added: freq=669 size=440 all=140237 active=9777 piece=▁잔잔\n",
      "bpe_model_trainer.cc(258) LOG(INFO) Added: freq=642 size=460 all=141851 active=11391 piece=▁영상\n",
      "bpe_model_trainer.cc(258) LOG(INFO) Added: freq=619 size=480 all=143409 active=12949 piece=▁순\n",
      "bpe_model_trainer.cc(258) LOG(INFO) Added: freq=591 size=500 all=144894 active=14434 piece=▁방\n",
      "bpe_model_trainer.cc(167) LOG(INFO) Updating active symbols. max_freq=588 min_freq=33\n",
      "bpe_model_trainer.cc(258) LOG(INFO) Added: freq=568 size=520 all=146390 active=8682 piece=▁독\n",
      "bpe_model_trainer.cc(258) LOG(INFO) Added: freq=550 size=540 all=147615 active=9907 piece=▁아까운\n",
      "bpe_model_trainer.cc(258) LOG(INFO) Added: freq=523 size=560 all=148997 active=11289 piece=▁킬\n",
      "bpe_model_trainer.cc(258) LOG(INFO) Added: freq=510 size=580 all=150530 active=12822 piece=▁제일\n",
      "bpe_model_trainer.cc(258) LOG(INFO) Added: freq=495 size=600 all=151701 active=13993 piece=릭터\n",
      "bpe_model_trainer.cc(167) LOG(INFO) Updating active symbols. max_freq=493 min_freq=31\n",
      "bpe_model_trainer.cc(258) LOG(INFO) Added: freq=477 size=620 all=153259 active=9088 piece=▁시간이\n",
      "bpe_model_trainer.cc(258) LOG(INFO) Added: freq=460 size=640 all=154513 active=10342 piece=▁귀여\n",
      "bpe_model_trainer.cc(258) LOG(INFO) Added: freq=449 size=660 all=156078 active=11907 piece=지고\n",
      "bpe_model_trainer.cc(258) LOG(INFO) Added: freq=436 size=680 all=157423 active=13252 piece=▁내내\n",
      "bpe_model_trainer.cc(258) LOG(INFO) Added: freq=427 size=700 all=158580 active=14409 piece=▁질\n",
      "bpe_model_trainer.cc(167) LOG(INFO) Updating active symbols. max_freq=427 min_freq=29\n",
      "bpe_model_trainer.cc(258) LOG(INFO) Added: freq=416 size=720 all=160147 active=9447 piece=▁시작\n",
      "bpe_model_trainer.cc(258) LOG(INFO) Added: freq=405 size=740 all=161262 active=10562 piece=▁지루한\n",
      "bpe_model_trainer.cc(258) LOG(INFO) Added: freq=398 size=760 all=162180 active=11480 piece=▁아깝\n",
      "bpe_model_trainer.cc(258) LOG(INFO) Added: freq=386 size=780 all=163519 active=12819 piece=치는\n",
      "bpe_model_trainer.cc(258) LOG(INFO) Added: freq=380 size=800 all=164567 active=13867 piece=▁떨어\n",
      "bpe_model_trainer.cc(167) LOG(INFO) Updating active symbols. max_freq=379 min_freq=27\n",
      "bpe_model_trainer.cc(258) LOG(INFO) Added: freq=371 size=820 all=165829 active=9479 piece=▁주는\n",
      "bpe_model_trainer.cc(258) LOG(INFO) Added: freq=362 size=840 all=167286 active=10936 piece=▁웃음\n",
      "bpe_model_trainer.cc(258) LOG(INFO) Added: freq=352 size=860 all=168210 active=11860 piece=▁노잼\n",
      "bpe_model_trainer.cc(258) LOG(INFO) Added: freq=342 size=880 all=169512 active=13162 piece=기에\n",
      "bpe_model_trainer.cc(258) LOG(INFO) Added: freq=331 size=900 all=170591 active=14241 piece=사랑\n",
      "bpe_model_trainer.cc(167) LOG(INFO) Updating active symbols. max_freq=331 min_freq=26\n",
      "bpe_model_trainer.cc(258) LOG(INFO) Added: freq=325 size=920 all=171737 active=9474 piece=▁몸\n",
      "bpe_model_trainer.cc(258) LOG(INFO) Added: freq=314 size=940 all=172507 active=10244 piece=레이\n",
      "bpe_model_trainer.cc(258) LOG(INFO) Added: freq=308 size=960 all=173810 active=11547 piece=▁종\n",
      "bpe_model_trainer.cc(258) LOG(INFO) Added: freq=302 size=980 all=175291 active=13028 piece=▁못한\n",
      "bpe_model_trainer.cc(258) LOG(INFO) Added: freq=294 size=1000 all=176176 active=13913 piece=▁안타\n",
      "bpe_model_trainer.cc(167) LOG(INFO) Updating active symbols. max_freq=294 min_freq=24\n",
      "bpe_model_trainer.cc(258) LOG(INFO) Added: freq=287 size=1020 all=177168 active=9797 piece=▁가슴이\n",
      "bpe_model_trainer.cc(258) LOG(INFO) Added: freq=279 size=1040 all=177933 active=10562 piece=▁돌아\n",
      "bpe_model_trainer.cc(258) LOG(INFO) Added: freq=271 size=1060 all=178956 active=11585 piece=▁에서\n",
      "bpe_model_trainer.cc(258) LOG(INFO) Added: freq=265 size=1080 all=179762 active=12391 piece=개도\n",
      "bpe_model_trainer.cc(258) LOG(INFO) Added: freq=261 size=1100 all=180805 active=13434 piece=하는데\n",
      "bpe_model_trainer.cc(167) LOG(INFO) Updating active symbols. max_freq=261 min_freq=23\n",
      "bpe_model_trainer.cc(258) LOG(INFO) Added: freq=253 size=1120 all=181502 active=9639 piece=▁괴\n",
      "bpe_model_trainer.cc(258) LOG(INFO) Added: freq=248 size=1140 all=182503 active=10640 piece=나마\n",
      "bpe_model_trainer.cc(258) LOG(INFO) Added: freq=242 size=1160 all=183504 active=11641 piece=▁진정한\n",
      "bpe_model_trainer.cc(258) LOG(INFO) Added: freq=237 size=1180 all=184750 active=12887 piece=▁들어\n",
      "bpe_model_trainer.cc(258) LOG(INFO) Added: freq=233 size=1200 all=185531 active=13668 piece=▁뭐냐\n",
      "bpe_model_trainer.cc(167) LOG(INFO) Updating active symbols. max_freq=233 min_freq=22\n",
      "bpe_model_trainer.cc(258) LOG(INFO) Added: freq=226 size=1220 all=186302 active=10026 piece=▁시청\n",
      "bpe_model_trainer.cc(258) LOG(INFO) Added: freq=221 size=1240 all=187079 active=10803 piece=코미디\n",
      "bpe_model_trainer.cc(258) LOG(INFO) Added: freq=216 size=1260 all=188010 active=11734 piece=길래\n",
      "bpe_model_trainer.cc(258) LOG(INFO) Added: freq=212 size=1280 all=188815 active=12539 piece=없어\n",
      "bpe_model_trainer.cc(258) LOG(INFO) Added: freq=209 size=1300 all=189857 active=13581 piece=▁화려\n",
      "bpe_model_trainer.cc(167) LOG(INFO) Updating active symbols. max_freq=209 min_freq=21\n",
      "bpe_model_trainer.cc(258) LOG(INFO) Added: freq=205 size=1320 all=190617 active=10232 piece=최악\n",
      "bpe_model_trainer.cc(258) LOG(INFO) Added: freq=202 size=1340 all=191584 active=11199 piece=▁다운\n",
      "bpe_model_trainer.cc(258) LOG(INFO) Added: freq=197 size=1360 all=192409 active=12024 piece=ᅲᅲᅲ\n",
      "bpe_model_trainer.cc(258) LOG(INFO) Added: freq=194 size=1380 all=193462 active=13077 piece=▁별루\n",
      "bpe_model_trainer.cc(258) LOG(INFO) Added: freq=191 size=1400 all=194207 active=13822 piece=머니\n",
      "bpe_model_trainer.cc(167) LOG(INFO) Updating active symbols. max_freq=191 min_freq=21\n",
      "bpe_model_trainer.cc(258) LOG(INFO) Added: freq=188 size=1420 all=194953 active=10391 piece=▁만드\n",
      "bpe_model_trainer.cc(258) LOG(INFO) Added: freq=185 size=1440 all=195858 active=11296 piece=봐서\n",
      "bpe_model_trainer.cc(258) LOG(INFO) Added: freq=182 size=1460 all=196888 active=12326 piece=버지\n",
      "bpe_model_trainer.cc(258) LOG(INFO) Added: freq=180 size=1480 all=197896 active=13334 piece=우드\n",
      "bpe_model_trainer.cc(258) LOG(INFO) Added: freq=177 size=1500 all=198917 active=14355 piece=▁뮤\n",
      "bpe_model_trainer.cc(167) LOG(INFO) Updating active symbols. max_freq=177 min_freq=20\n",
      "bpe_model_trainer.cc(258) LOG(INFO) Added: freq=175 size=1520 all=199816 active=10836 piece=▁영화라\n",
      "bpe_model_trainer.cc(258) LOG(INFO) Added: freq=172 size=1540 all=200486 active=11506 piece=▁예상\n",
      "bpe_model_trainer.cc(258) LOG(INFO) Added: freq=169 size=1560 all=201444 active=12464 piece=▁딸\n",
      "bpe_model_trainer.cc(258) LOG(INFO) Added: freq=167 size=1580 all=202341 active=13361 piece=쩐다\n",
      "bpe_model_trainer.cc(258) LOG(INFO) Added: freq=165 size=1600 all=203014 active=14034 piece=▁좋았어요\n",
      "bpe_model_trainer.cc(167) LOG(INFO) Updating active symbols. max_freq=164 min_freq=19\n",
      "bpe_model_trainer.cc(258) LOG(INFO) Added: freq=162 size=1620 all=203528 active=10652 piece=▁줘\n",
      "bpe_model_trainer.cc(258) LOG(INFO) Added: freq=160 size=1640 all=204011 active=11135 piece=▁전형적인\n",
      "bpe_model_trainer.cc(258) LOG(INFO) Added: freq=157 size=1660 all=204462 active=11586 piece=▁헤\n",
      "bpe_model_trainer.cc(258) LOG(INFO) Added: freq=155 size=1680 all=205437 active=12561 piece=▁편이\n",
      "bpe_model_trainer.cc(258) LOG(INFO) Added: freq=153 size=1700 all=206096 active=13220 piece=▁이리\n",
      "bpe_model_trainer.cc(167) LOG(INFO) Updating active symbols. max_freq=153 min_freq=19\n",
      "bpe_model_trainer.cc(258) LOG(INFO) Added: freq=151 size=1720 all=206771 active=10962 piece=▁사랑을\n",
      "bpe_model_trainer.cc(258) LOG(INFO) Added: freq=148 size=1740 all=207398 active=11589 piece=일이\n",
      "bpe_model_trainer.cc(258) LOG(INFO) Added: freq=147 size=1760 all=208188 active=12379 piece=▁아까워\n",
      "bpe_model_trainer.cc(258) LOG(INFO) Added: freq=145 size=1780 all=208824 active=13015 piece=▁좋았음\n",
      "bpe_model_trainer.cc(258) LOG(INFO) Added: freq=143 size=1800 all=209501 active=13692 piece=민국\n",
      "bpe_model_trainer.cc(167) LOG(INFO) Updating active symbols. max_freq=143 min_freq=18\n",
      "bpe_model_trainer.cc(258) LOG(INFO) Added: freq=141 size=1820 all=209998 active=10953 piece=리게\n",
      "bpe_model_trainer.cc(258) LOG(INFO) Added: freq=138 size=1840 all=210522 active=11477 piece=▁저도\n",
      "bpe_model_trainer.cc(258) LOG(INFO) Added: freq=135 size=1860 all=211234 active=12189 piece=▁잤\n",
      "bpe_model_trainer.cc(258) LOG(INFO) Added: freq=134 size=1880 all=211870 active=12825 piece=▁없을\n",
      "bpe_model_trainer.cc(258) LOG(INFO) Added: freq=133 size=1900 all=212333 active=13288 piece=▁있어서\n",
      "bpe_model_trainer.cc(167) LOG(INFO) Updating active symbols. max_freq=133 min_freq=18\n",
      "bpe_model_trainer.cc(258) LOG(INFO) Added: freq=130 size=1920 all=213261 active=11539 piece=▁촌\n",
      "bpe_model_trainer.cc(258) LOG(INFO) Added: freq=129 size=1940 all=214265 active=12543 piece=▁독립\n",
      "bpe_model_trainer.cc(258) LOG(INFO) Added: freq=128 size=1960 all=214987 active=13265 piece=▁나에게\n",
      "bpe_model_trainer.cc(258) LOG(INFO) Added: freq=126 size=1980 all=215659 active=13937 piece=시대\n",
      "bpe_model_trainer.cc(258) LOG(INFO) Added: freq=125 size=2000 all=216370 active=14648 piece=▁참고\n",
      "bpe_model_trainer.cc(167) LOG(INFO) Updating active symbols. max_freq=125 min_freq=17\n",
      "bpe_model_trainer.cc(258) LOG(INFO) Added: freq=123 size=2020 all=217311 active=11738 piece=절한\n",
      "bpe_model_trainer.cc(258) LOG(INFO) Added: freq=122 size=2040 all=217694 active=12121 piece=▁닥\n",
      "bpe_model_trainer.cc(258) LOG(INFO) Added: freq=120 size=2060 all=218417 active=12844 piece=움이\n",
      "bpe_model_trainer.cc(258) LOG(INFO) Added: freq=119 size=2080 all=218834 active=13261 piece=▁비추\n",
      "bpe_model_trainer.cc(258) LOG(INFO) Added: freq=118 size=2100 all=219486 active=13913 piece=▁고전\n",
      "bpe_model_trainer.cc(167) LOG(INFO) Updating active symbols. max_freq=118 min_freq=17\n",
      "bpe_model_trainer.cc(258) LOG(INFO) Added: freq=117 size=2120 all=219749 active=11201 piece=▁유일\n",
      "bpe_model_trainer.cc(258) LOG(INFO) Added: freq=116 size=2140 all=220475 active=11927 piece=▁눈을\n",
      "bpe_model_trainer.cc(258) LOG(INFO) Added: freq=115 size=2160 all=221136 active=12588 piece=평점이\n",
      "bpe_model_trainer.cc(258) LOG(INFO) Added: freq=114 size=2180 all=221903 active=13355 piece=▁있음\n",
      "bpe_model_trainer.cc(258) LOG(INFO) Added: freq=113 size=2200 all=222414 active=13866 piece=▁실제\n",
      "bpe_model_trainer.cc(167) LOG(INFO) Updating active symbols. max_freq=113 min_freq=16\n",
      "bpe_model_trainer.cc(258) LOG(INFO) Added: freq=112 size=2220 all=223072 active=11754 piece=▁조잡\n",
      "bpe_model_trainer.cc(258) LOG(INFO) Added: freq=111 size=2240 all=223450 active=12132 piece=▁자유\n",
      "bpe_model_trainer.cc(258) LOG(INFO) Added: freq=110 size=2260 all=223938 active=12620 piece=▁마라\n",
      "bpe_model_trainer.cc(258) LOG(INFO) Added: freq=109 size=2280 all=224503 active=13185 piece=▁아마\n",
      "bpe_model_trainer.cc(258) LOG(INFO) Added: freq=108 size=2300 all=225049 acti"
     ]
    }
   ],
   "source": [
    "# BPE 타입\n",
    "spm.SentencePieceTrainer.Train(\n",
    "    '--input=naver_review.txt --model_prefix=naver_BPE --vocab_size=8000 --model_type=bpe --max_sentence_length=100')"
   ]
  },
  {
   "cell_type": "code",
   "execution_count": 73,
   "id": "9cc033fc",
   "metadata": {},
   "outputs": [
    {
     "ename": "TypeError",
     "evalue": "sp_tokenize() missing 1 required positional argument: 'max_len_'",
     "output_type": "error",
     "traceback": [
      "\u001b[0;31m---------------------------------------------------------------------------\u001b[0m",
      "\u001b[0;31mTypeError\u001b[0m                                 Traceback (most recent call last)",
      "\u001b[0;32m/tmp/ipykernel_47/4236442130.py\u001b[0m in \u001b[0;36m<module>\u001b[0;34m\u001b[0m\n\u001b[1;32m      4\u001b[0m \u001b[0;34m\u001b[0m\u001b[0m\n\u001b[1;32m      5\u001b[0m \u001b[0;31m#tokenize 수행\u001b[0m\u001b[0;34m\u001b[0m\u001b[0;34m\u001b[0m\u001b[0m\n\u001b[0;32m----> 6\u001b[0;31m \u001b[0mX_train\u001b[0m\u001b[0;34m,\u001b[0m \u001b[0mword_index_train\u001b[0m\u001b[0;34m,\u001b[0m \u001b[0mindex_word_train\u001b[0m \u001b[0;34m=\u001b[0m \u001b[0msp_tokenize\u001b[0m\u001b[0;34m(\u001b[0m\u001b[0ms\u001b[0m\u001b[0;34m,\u001b[0m \u001b[0mtrain_data\u001b[0m\u001b[0;34m.\u001b[0m\u001b[0mdocument\u001b[0m\u001b[0;34m.\u001b[0m\u001b[0mvalues\u001b[0m\u001b[0;34m)\u001b[0m\u001b[0;34m\u001b[0m\u001b[0;34m\u001b[0m\u001b[0m\n\u001b[0m\u001b[1;32m      7\u001b[0m \u001b[0mX_test\u001b[0m\u001b[0;34m,\u001b[0m \u001b[0mword_index_test\u001b[0m\u001b[0;34m,\u001b[0m \u001b[0mindex_word_test\u001b[0m \u001b[0;34m=\u001b[0m \u001b[0msp_tokenize\u001b[0m\u001b[0;34m(\u001b[0m\u001b[0ms\u001b[0m\u001b[0;34m,\u001b[0m \u001b[0mtest_data\u001b[0m\u001b[0;34m.\u001b[0m\u001b[0mdocument\u001b[0m\u001b[0;34m.\u001b[0m\u001b[0mvalues\u001b[0m\u001b[0;34m)\u001b[0m\u001b[0;34m\u001b[0m\u001b[0;34m\u001b[0m\u001b[0m\n\u001b[1;32m      8\u001b[0m \u001b[0;34m\u001b[0m\u001b[0m\n",
      "\u001b[0;31mTypeError\u001b[0m: sp_tokenize() missing 1 required positional argument: 'max_len_'"
     ]
    }
   ],
   "source": [
    "#중복제거\n",
    "train_data.drop_duplicates(subset=['document'], inplace=True)\n",
    "test_data.drop_duplicates(subset=['document'], inplace=True)\n",
    "\n",
    "#tokenize 수행\n",
    "X_train, word_index_train, index_word_train = sp_tokenize(s, train_data.document.values)\n",
    "X_test, word_index_test, index_word_test = sp_tokenize(s, test_data.document.values)\n",
    "\n",
    "y_train = np.array(list(train_data['label']))\n",
    "y_test = np.array(list(test_data['label']))"
   ]
  },
  {
   "cell_type": "markdown",
   "id": "47e6542f",
   "metadata": {},
   "source": [
    "회고 : 아이펠 nlp 시작하고 첫 번째 노드인데 너무 어렵다. 제일 정석적인 방법은 선배들의 학습흔적을 참고하여 내가 직접 새로운 코드를 짤 수 있도록 하는 것이지만 나는 아직 그 실력이 되지 않나보다. 혹시 모르니 기초 공부들을 틈틈히 빼놓지 않고 해야겠다. 이번 노드는 루브릭보다 내가 어디까지 도전해볼수 있는지에 의의를 두고 진행한 것 같다. "
   ]
  },
  {
   "cell_type": "code",
   "execution_count": null,
   "id": "94f3c44b",
   "metadata": {},
   "outputs": [],
   "source": []
  }
 ],
 "metadata": {
  "kernelspec": {
   "display_name": "Python 3 (ipykernel)",
   "language": "python",
   "name": "python3"
  },
  "language_info": {
   "codemirror_mode": {
    "name": "ipython",
    "version": 3
   },
   "file_extension": ".py",
   "mimetype": "text/x-python",
   "name": "python",
   "nbconvert_exporter": "python",
   "pygments_lexer": "ipython3",
   "version": "3.9.7"
  }
 },
 "nbformat": 4,
 "nbformat_minor": 5
}
