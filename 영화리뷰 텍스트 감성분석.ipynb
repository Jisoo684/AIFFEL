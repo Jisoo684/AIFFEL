{
 "cells": [
  {
   "cell_type": "markdown",
   "id": "17410570",
   "metadata": {},
   "source": [
    "1) 데이터 준비와 확인"
   ]
  },
  {
   "cell_type": "code",
   "execution_count": 1,
   "id": "a172eccc",
   "metadata": {},
   "outputs": [],
   "source": [
    "#!ln -s ~/data/*.txt ~/aiffel/sentiment_classification/data"
   ]
  },
  {
   "cell_type": "code",
   "execution_count": 2,
   "id": "1ec5600c",
   "metadata": {},
   "outputs": [],
   "source": [
    "import pandas as pd\n",
    "import urllib.request\n",
    "%matplotlib inline\n",
    "import matplotlib.pyplot as plt\n",
    "import re\n",
    "from konlpy.tag import Okt\n",
    "from tensorflow import keras\n",
    "from tensorflow.keras.preprocessing.text import Tokenizer\n",
    "import numpy as np\n",
    "from tensorflow.keras.preprocessing.sequence import pad_sequences\n",
    "from collections import Counter\n",
    "\n",
    "# 데이터를 읽어봅시다. \n",
    "train_data = pd.read_table('~/aiffel/sentiment_classification/data/ratings_train.txt')\n",
    "test_data = pd.read_table('~/aiffel/sentiment_classification/data/ratings_test.txt')"
   ]
  },
  {
   "cell_type": "markdown",
   "id": "1e583292",
   "metadata": {},
   "source": [
    "id: 유저아이디, document: 리뷰 텍스트, label: 긍정/부정 여부 (긍정=1, 부정=0)"
   ]
  },
  {
   "cell_type": "code",
   "execution_count": 3,
   "id": "dd3c82fd",
   "metadata": {},
   "outputs": [
    {
     "data": {
      "text/html": [
       "<div>\n",
       "<style scoped>\n",
       "    .dataframe tbody tr th:only-of-type {\n",
       "        vertical-align: middle;\n",
       "    }\n",
       "\n",
       "    .dataframe tbody tr th {\n",
       "        vertical-align: top;\n",
       "    }\n",
       "\n",
       "    .dataframe thead th {\n",
       "        text-align: right;\n",
       "    }\n",
       "</style>\n",
       "<table border=\"1\" class=\"dataframe\">\n",
       "  <thead>\n",
       "    <tr style=\"text-align: right;\">\n",
       "      <th></th>\n",
       "      <th>id</th>\n",
       "      <th>document</th>\n",
       "      <th>label</th>\n",
       "    </tr>\n",
       "  </thead>\n",
       "  <tbody>\n",
       "    <tr>\n",
       "      <th>0</th>\n",
       "      <td>9976970</td>\n",
       "      <td>아 더빙.. 진짜 짜증나네요 목소리</td>\n",
       "      <td>0</td>\n",
       "    </tr>\n",
       "    <tr>\n",
       "      <th>1</th>\n",
       "      <td>3819312</td>\n",
       "      <td>흠...포스터보고 초딩영화줄....오버연기조차 가볍지 않구나</td>\n",
       "      <td>1</td>\n",
       "    </tr>\n",
       "    <tr>\n",
       "      <th>2</th>\n",
       "      <td>10265843</td>\n",
       "      <td>너무재밓었다그래서보는것을추천한다</td>\n",
       "      <td>0</td>\n",
       "    </tr>\n",
       "    <tr>\n",
       "      <th>3</th>\n",
       "      <td>9045019</td>\n",
       "      <td>교도소 이야기구먼 ..솔직히 재미는 없다..평점 조정</td>\n",
       "      <td>0</td>\n",
       "    </tr>\n",
       "    <tr>\n",
       "      <th>4</th>\n",
       "      <td>6483659</td>\n",
       "      <td>사이몬페그의 익살스런 연기가 돋보였던 영화!스파이더맨에서 늙어보이기만 했던 커스틴 ...</td>\n",
       "      <td>1</td>\n",
       "    </tr>\n",
       "    <tr>\n",
       "      <th>...</th>\n",
       "      <td>...</td>\n",
       "      <td>...</td>\n",
       "      <td>...</td>\n",
       "    </tr>\n",
       "    <tr>\n",
       "      <th>149995</th>\n",
       "      <td>6222902</td>\n",
       "      <td>인간이 문제지.. 소는 뭔죄인가..</td>\n",
       "      <td>0</td>\n",
       "    </tr>\n",
       "    <tr>\n",
       "      <th>149996</th>\n",
       "      <td>8549745</td>\n",
       "      <td>평점이 너무 낮아서...</td>\n",
       "      <td>1</td>\n",
       "    </tr>\n",
       "    <tr>\n",
       "      <th>149997</th>\n",
       "      <td>9311800</td>\n",
       "      <td>이게 뭐요? 한국인은 거들먹거리고 필리핀 혼혈은 착하다?</td>\n",
       "      <td>0</td>\n",
       "    </tr>\n",
       "    <tr>\n",
       "      <th>149998</th>\n",
       "      <td>2376369</td>\n",
       "      <td>청춘 영화의 최고봉.방황과 우울했던 날들의 자화상</td>\n",
       "      <td>1</td>\n",
       "    </tr>\n",
       "    <tr>\n",
       "      <th>149999</th>\n",
       "      <td>9619869</td>\n",
       "      <td>한국 영화 최초로 수간하는 내용이 담긴 영화</td>\n",
       "      <td>0</td>\n",
       "    </tr>\n",
       "  </tbody>\n",
       "</table>\n",
       "<p>150000 rows × 3 columns</p>\n",
       "</div>"
      ],
      "text/plain": [
       "              id                                           document  label\n",
       "0        9976970                                아 더빙.. 진짜 짜증나네요 목소리      0\n",
       "1        3819312                  흠...포스터보고 초딩영화줄....오버연기조차 가볍지 않구나      1\n",
       "2       10265843                                  너무재밓었다그래서보는것을추천한다      0\n",
       "3        9045019                      교도소 이야기구먼 ..솔직히 재미는 없다..평점 조정      0\n",
       "4        6483659  사이몬페그의 익살스런 연기가 돋보였던 영화!스파이더맨에서 늙어보이기만 했던 커스틴 ...      1\n",
       "...          ...                                                ...    ...\n",
       "149995   6222902                                인간이 문제지.. 소는 뭔죄인가..      0\n",
       "149996   8549745                                      평점이 너무 낮아서...      1\n",
       "149997   9311800                    이게 뭐요? 한국인은 거들먹거리고 필리핀 혼혈은 착하다?      0\n",
       "149998   2376369                        청춘 영화의 최고봉.방황과 우울했던 날들의 자화상      1\n",
       "149999   9619869                           한국 영화 최초로 수간하는 내용이 담긴 영화      0\n",
       "\n",
       "[150000 rows x 3 columns]"
      ]
     },
     "metadata": {},
     "output_type": "display_data"
    },
    {
     "data": {
      "text/html": [
       "<div>\n",
       "<style scoped>\n",
       "    .dataframe tbody tr th:only-of-type {\n",
       "        vertical-align: middle;\n",
       "    }\n",
       "\n",
       "    .dataframe tbody tr th {\n",
       "        vertical-align: top;\n",
       "    }\n",
       "\n",
       "    .dataframe thead th {\n",
       "        text-align: right;\n",
       "    }\n",
       "</style>\n",
       "<table border=\"1\" class=\"dataframe\">\n",
       "  <thead>\n",
       "    <tr style=\"text-align: right;\">\n",
       "      <th></th>\n",
       "      <th>id</th>\n",
       "      <th>document</th>\n",
       "      <th>label</th>\n",
       "    </tr>\n",
       "  </thead>\n",
       "  <tbody>\n",
       "    <tr>\n",
       "      <th>0</th>\n",
       "      <td>6270596</td>\n",
       "      <td>굳 ㅋ</td>\n",
       "      <td>1</td>\n",
       "    </tr>\n",
       "    <tr>\n",
       "      <th>1</th>\n",
       "      <td>9274899</td>\n",
       "      <td>GDNTOPCLASSINTHECLUB</td>\n",
       "      <td>0</td>\n",
       "    </tr>\n",
       "    <tr>\n",
       "      <th>2</th>\n",
       "      <td>8544678</td>\n",
       "      <td>뭐야 이 평점들은.... 나쁘진 않지만 10점 짜리는 더더욱 아니잖아</td>\n",
       "      <td>0</td>\n",
       "    </tr>\n",
       "    <tr>\n",
       "      <th>3</th>\n",
       "      <td>6825595</td>\n",
       "      <td>지루하지는 않은데 완전 막장임... 돈주고 보기에는....</td>\n",
       "      <td>0</td>\n",
       "    </tr>\n",
       "    <tr>\n",
       "      <th>4</th>\n",
       "      <td>6723715</td>\n",
       "      <td>3D만 아니었어도 별 다섯 개 줬을텐데.. 왜 3D로 나와서 제 심기를 불편하게 하죠??</td>\n",
       "      <td>0</td>\n",
       "    </tr>\n",
       "    <tr>\n",
       "      <th>...</th>\n",
       "      <td>...</td>\n",
       "      <td>...</td>\n",
       "      <td>...</td>\n",
       "    </tr>\n",
       "    <tr>\n",
       "      <th>49995</th>\n",
       "      <td>4608761</td>\n",
       "      <td>오랜만에 평점 로긴했네ㅋㅋ 킹왕짱 쌈뽕한 영화를 만났습니다 강렬하게 육쾌함</td>\n",
       "      <td>1</td>\n",
       "    </tr>\n",
       "    <tr>\n",
       "      <th>49996</th>\n",
       "      <td>5308387</td>\n",
       "      <td>의지 박약들이나 하는거다 탈영은 일단 주인공 김대희 닮았고 이등병 찐따 OOOO</td>\n",
       "      <td>0</td>\n",
       "    </tr>\n",
       "    <tr>\n",
       "      <th>49997</th>\n",
       "      <td>9072549</td>\n",
       "      <td>그림도 좋고 완성도도 높았지만... 보는 내내 불안하게 만든다</td>\n",
       "      <td>0</td>\n",
       "    </tr>\n",
       "    <tr>\n",
       "      <th>49998</th>\n",
       "      <td>5802125</td>\n",
       "      <td>절대 봐서는 안 될 영화.. 재미도 없고 기분만 잡치고.. 한 세트장에서 다 해먹네</td>\n",
       "      <td>0</td>\n",
       "    </tr>\n",
       "    <tr>\n",
       "      <th>49999</th>\n",
       "      <td>6070594</td>\n",
       "      <td>마무리는 또 왜이래</td>\n",
       "      <td>0</td>\n",
       "    </tr>\n",
       "  </tbody>\n",
       "</table>\n",
       "<p>50000 rows × 3 columns</p>\n",
       "</div>"
      ],
      "text/plain": [
       "            id                                           document  label\n",
       "0      6270596                                                굳 ㅋ      1\n",
       "1      9274899                               GDNTOPCLASSINTHECLUB      0\n",
       "2      8544678             뭐야 이 평점들은.... 나쁘진 않지만 10점 짜리는 더더욱 아니잖아      0\n",
       "3      6825595                   지루하지는 않은데 완전 막장임... 돈주고 보기에는....      0\n",
       "4      6723715  3D만 아니었어도 별 다섯 개 줬을텐데.. 왜 3D로 나와서 제 심기를 불편하게 하죠??      0\n",
       "...        ...                                                ...    ...\n",
       "49995  4608761          오랜만에 평점 로긴했네ㅋㅋ 킹왕짱 쌈뽕한 영화를 만났습니다 강렬하게 육쾌함      1\n",
       "49996  5308387       의지 박약들이나 하는거다 탈영은 일단 주인공 김대희 닮았고 이등병 찐따 OOOO      0\n",
       "49997  9072549                 그림도 좋고 완성도도 높았지만... 보는 내내 불안하게 만든다      0\n",
       "49998  5802125     절대 봐서는 안 될 영화.. 재미도 없고 기분만 잡치고.. 한 세트장에서 다 해먹네      0\n",
       "49999  6070594                                         마무리는 또 왜이래      0\n",
       "\n",
       "[50000 rows x 3 columns]"
      ]
     },
     "metadata": {},
     "output_type": "display_data"
    }
   ],
   "source": [
    "display(train_data)    # 15만개\n",
    "display(test_data)     # 5만개"
   ]
  },
  {
   "cell_type": "markdown",
   "id": "4d92d35c",
   "metadata": {},
   "source": [
    "긍정/부정 레이블 분포"
   ]
  },
  {
   "cell_type": "code",
   "execution_count": 4,
   "id": "f2d76650",
   "metadata": {},
   "outputs": [
    {
     "data": {
      "text/plain": [
       "<AxesSubplot:>"
      ]
     },
     "execution_count": 4,
     "metadata": {},
     "output_type": "execute_result"
    },
    {
     "data": {
      "image/png": "[encoded data removed]",
      "text/plain": [
       "<Figure size 432x288 with 1 Axes>"
      ]
     },
     "metadata": {
      "needs_background": "light"
     },
     "output_type": "display_data"
    }
   ],
   "source": [
    "train_data['label'].value_counts().plot(kind = 'bar')"
   ]
  },
  {
   "cell_type": "markdown",
   "id": "940082a4",
   "metadata": {},
   "source": [
    "2) 데이터로더 구성"
   ]
  },
  {
   "cell_type": "markdown",
   "id": "6f32d816",
   "metadata": {},
   "source": [
    "imdb.data_loader()와 동일하게 동작하는 data_loader를 만든다. 다음과 같은 동작을 수행한다."
   ]
  },
  {
   "cell_type": "markdown",
   "id": "90c06972",
   "metadata": {},
   "source": [
    "데이터의 중복 제거, NaN 결측치 제거, 한국어 토크나이저로 토큰화, 불용어(Stopwords) 제거, 사전word_to_index 구성, 텍스트 스트링을 사전 인덱스 스트링으로 변환, X_train, y_train, X_test, y_test, word_to_index 리턴"
   ]
  },
  {
   "cell_type": "markdown",
   "id": "cf989d88",
   "metadata": {},
   "source": [
    "속도가 압도적으로 제일빠른 Mecab이 적합하다."
   ]
  },
  {
   "cell_type": "code",
   "execution_count": 5,
   "id": "ffa501c6",
   "metadata": {},
   "outputs": [
    {
     "name": "stderr",
     "output_type": "stream",
     "text": [
      "/tmp/ipykernel_1355/881825640.py:8: FutureWarning: The default value of regex will change from True to False in a future version.\n",
      "  train_data['document'] = train_data['document'].str.replace(r\"[^ㄱ-ㅎㅏ-ㅣ가-힣 ]\",\"\")\n",
      "/tmp/ipykernel_1355/881825640.py:11: FutureWarning: The default value of regex will change from True to False in a future version.\n",
      "  train_data['document'] = train_data['document'].str.replace('^ +', \"\")\n"
     ]
    }
   ],
   "source": [
    "import re\n",
    "from konlpy.tag import Mecab\n",
    "tokenizer = Mecab()\n",
    "stopwords = ['의','가','이','은','들','는','과','도','를','으로','자','에','와','한','하다', '이다']\n",
    "\n",
    "def load_data(train_data, test_data, num_words=10000):\n",
    "    # 1) 특수기호 및 공백 제거\n",
    "    train_data['document'] = train_data['document'].str.replace(r\"[^ㄱ-ㅎㅏ-ㅣ가-힣 ]\",\"\")\n",
    "    #re.sub(r'[^ㄱ-ㅎㅏ-ㅣ가-힣 ]', '', train_data['document'])\n",
    "    \n",
    "    train_data['document'] = train_data['document'].str.replace('^ +', \"\")\n",
    "    train_data['document'].replace('', np.nan, inplace=True)\n",
    "    \n",
    "    # 2) 중복 및 결측치 제거\n",
    "    train_data.drop_duplicates(subset=['document'], inplace=True)    # subset에 중복데이터를 처리할 칼럼명을 전달\n",
    "    train_data = train_data.dropna(how = 'any')    # NaN이 있으면 제거\n",
    "    test_data.drop_duplicates(subset=['document'], inplace=True)\n",
    "    test_data = test_data.dropna(how = 'any') \n",
    "    \n",
    "    # 3) 토큰화 및 불용어 제거\n",
    "    X_train = []\n",
    "    for sentence in train_data['document']:\n",
    "        temp_X = tokenizer.morphs(sentence) # 토큰화\n",
    "        temp_X = [word for word in temp_X if not word in stopwords] # 불용어 제거\n",
    "        X_train.append(temp_X)\n",
    "\n",
    "    X_test = []\n",
    "    for sentence in test_data['document']:\n",
    "        temp_X = tokenizer.morphs(sentence) # 토큰화\n",
    "        temp_X = [word for word in temp_X if not word in stopwords] # 불용어 제거\n",
    "        X_test.append(temp_X)\n",
    "    \n",
    "    # 4) 단어사전 구성\n",
    "    words = np.concatenate(X_train).tolist() # 단어들을 리스트로 저장\n",
    "    counter = Counter(words)\n",
    "    counter = counter.most_common(num_words-4)   # count기준 상위 num_words-4개의 단어로 축소\n",
    "    #print(counter)\n",
    "    vocab = ['', '', '', ''] + [key for key, _ in counter]    # 리스트 5번째부터 토큰화한 단어가 count 큰 순으로 저장됨\n",
    "    #print(vocab)\n",
    "    word_to_index = {word:index for index, word in enumerate(vocab)}    # 키: 단어, 값: 인덱스(3~num_words-1)\n",
    "    #print(word_to_index)\n",
    "    \n",
    "    # 5) 텍스트 문자열을 사전인덱스 문자열로 변환\n",
    "    def wordlist_to_indexlist(wordlist):\n",
    "        # 키==단어이면 단어의 인덱스, 해당하는 단어가 없으면 3\n",
    "        return [word_to_index[word] if word in word_to_index else word_to_index[''] for word in wordlist]\n",
    "    \n",
    "    # X_train 또는 X_test의 모든 원소에 wordlist_to_indexlist함수를 적용시킨 결과들을 리스트로 저장\n",
    "    # X_train과 X_test는 각 문장에 있는 모든 단어가 담긴 이중리스트였으므로\n",
    "    # 원래 단어가 있던 곳에 해당하는 인덱스가 들어간 이중리스트가 된다.\n",
    "    X_train = list(map(wordlist_to_indexlist, X_train))\n",
    "    X_test = list(map(wordlist_to_indexlist, X_test))\n",
    "        \n",
    "    return X_train, np.array(list(train_data['label'])), X_test, np.array(list(test_data['label'])), word_to_index\n",
    "\n",
    "vocab_size = 30000\n",
    "X_train, y_train, X_test, y_test, word_to_index = load_data(train_data, test_data, num_words=vocab_size) "
   ]
  },
  {
   "cell_type": "markdown",
   "id": "c356fb67",
   "metadata": {},
   "source": [
    "train 데이터"
   ]
  },
  {
   "cell_type": "code",
   "execution_count": 6,
   "id": "79cd278a",
   "metadata": {},
   "outputs": [
    {
     "name": "stdout",
     "output_type": "stream",
     "text": [
      "[[27, 68, 894, 33, 216, 15, 28, 701], [997, 483, 494, 639, 4, 112, 1556, 47, 867, 950, 11, 38, 366], [19, 194, 28635], [8034, 145, 4134, 280, 88, 13, 5, 52, 3329], [21628, 8491, 1052, 47, 2701, 55, 4, 2623, 34, 1119, 29, 325, 36, 17, 35, 55, 15312, 21629, 395, 2878, 1677, 5], [628, 21630, 17796, 427, 173, 1465, 663, 1593, 672, 46, 28636, 4, 62, 2169, 120, 723], [239, 352, 8, 356, 1921, 51, 11, 782, 5], [235, 1360, 135, 5, 393, 710, 10358, 15313, 47, 1435, 271, 94, 234, 23, 889, 24, 323, 611, 503, 478, 549, 5, 3168, 8492, 17, 1385, 1385, 67, 284, 13, 5, 47, 97, 7, 70, 17, 28637, 37], [118, 13, 18, 88, 12, 271, 22, 43, 4], [58, 615, 52, 227, 708, 535, 83, 17, 480, 1405, 599, 691, 75, 17, 19, 15314, 12, 15]]\n",
      "[0 1 0 0 1 0 0 0 1 1]\n"
     ]
    }
   ],
   "source": [
    "print(X_train[:10])\n",
    "print(y_train[:10])"
   ]
  },
  {
   "cell_type": "code",
   "execution_count": 7,
   "id": "ef0d6e62",
   "metadata": {},
   "outputs": [
    {
     "data": {
      "text/plain": [
       "143620"
      ]
     },
     "execution_count": 7,
     "metadata": {},
     "output_type": "execute_result"
    }
   ],
   "source": [
    "len(X_train)"
   ]
  },
  {
   "cell_type": "markdown",
   "id": "5968b1c1",
   "metadata": {},
   "source": [
    "test 데이터"
   ]
  },
  {
   "cell_type": "code",
   "execution_count": 8,
   "id": "1369579c",
   "metadata": {},
   "outputs": [
    {
     "name": "stdout",
     "output_type": "stream",
     "text": [
      "[[805, 130], [3], [81, 111, 52, 3, 3, 898, 316, 38, 30, 3, 40, 600, 3401, 65, 865], [90, 7, 11, 38, 218, 127, 330, 123, 3, 3, 140, 50, 6, 9, 36, 3, 3], [3, 3, 17, 65, 16, 432, 235, 2013, 120, 522, 8, 548, 3, 3, 58, 3, 3, 24, 595, 329, 19691, 794, 7, 10, 7, 278, 3, 3], [223, 50, 148, 3, 53, 223, 4], [580, 99], [1046, 423, 573, 34, 13046, 64, 4707, 1592, 13, 1469, 4089, 173, 3, 5619, 2804, 10, 188], [524, 1231, 43, 637, 4, 221, 7, 6, 82, 13, 26, 2849, 461, 5, 116, 114, 48, 22, 43, 2821, 221, 3, 3, 27, 1334, 5, 16571, 32, 4, 119, 3, 467, 1509, 301, 5], [2801, 1371, 585, 10809, 779, 3017, 3842, 3, 3, 256, 70, 310, 11, 38, 37, 3, 3]]\n",
      "[1 0 0 0 0 1 0 0 0 1]\n"
     ]
    }
   ],
   "source": [
    "print(X_test[:10])\n",
    "print(y_test[:10])"
   ]
  },
  {
   "cell_type": "code",
   "execution_count": 9,
   "id": "1a81136e",
   "metadata": {},
   "outputs": [
    {
     "data": {
      "text/plain": [
       "49157"
      ]
     },
     "execution_count": 9,
     "metadata": {},
     "output_type": "execute_result"
    }
   ],
   "source": [
    "len(X_test)"
   ]
  },
  {
   "cell_type": "markdown",
   "id": "ea66b3ca",
   "metadata": {},
   "source": [
    "3) 모델 구성을 위한 데이터 분석 및 가공"
   ]
  },
  {
   "cell_type": "markdown",
   "id": "3daab073",
   "metadata": {},
   "source": [
    "데이터셋 내 문장 길이 분포, 적절한 최대 문장 길이 지정,keras.preprocessing.sequence.pad_sequences 을 활용한 패딩 추가"
   ]
  },
  {
   "cell_type": "markdown",
   "id": "23d02f63",
   "metadata": {},
   "source": [
    "키: 인덱스, 값: 단어로 가지는 딕셔너리"
   ]
  },
  {
   "cell_type": "code",
   "execution_count": 10,
   "id": "9986e07d",
   "metadata": {},
   "outputs": [
    {
     "data": {
      "text/plain": [
       "{3: '',\n",
       " 4: '영화',\n",
       " 5: '다',\n",
       " 6: '고',\n",
       " 7: '하',\n",
       " 8: '을',\n",
       " 9: '보',\n",
       " 10: '게',\n",
       " 11: '지',\n",
       " 12: '있',\n",
       " 13: '없',\n",
       " 14: '좋',\n",
       " 15: '나',\n",
       " 16: '었',\n",
       " 17: '만',\n",
       " 18: '는데',\n",
       " 19: '너무',\n",
       " 20: '봤',\n",
       " 21: '적',\n",
       " 22: '안',\n",
       " 23: '정말',\n",
       " 24: '로',\n",
       " 25: '것',\n",
       " 26: '음',\n",
       " 27: '아',\n",
       " 28: '네요',\n",
       " 29: '어',\n",
       " 30: '지만',\n",
       " 31: '재밌',\n",
       " 32: '같',\n",
       " 33: '진짜',\n",
       " 34: '에서',\n",
       " 35: '했',\n",
       " 36: '기',\n",
       " 37: '네',\n",
       " 38: '않',\n",
       " 39: '거',\n",
       " 40: '점',\n",
       " 41: '았',\n",
       " 42: '수',\n",
       " 43: '되',\n",
       " 44: '면',\n",
       " 45: 'ㅋㅋ',\n",
       " 46: '인',\n",
       " 47: '연기',\n",
       " 48: '말',\n",
       " 49: '잘',\n",
       " 50: '주',\n",
       " 51: '내',\n",
       " 52: '평점',\n",
       " 53: '최고',\n",
       " 54: '이런',\n",
       " 55: '던',\n",
       " 56: '어요',\n",
       " 57: '할',\n",
       " 58: '왜',\n",
       " 59: '겠',\n",
       " 60: '스토리',\n",
       " 61: '해',\n",
       " 62: 'ㅋㅋㅋ',\n",
       " 63: '습니다',\n",
       " 64: '듯',\n",
       " 65: '아니',\n",
       " 66: '생각',\n",
       " 67: '드라마',\n",
       " 68: '더',\n",
       " 69: '그',\n",
       " 70: '사람',\n",
       " 71: '싶',\n",
       " 72: '때',\n",
       " 73: '감동',\n",
       " 74: '배우',\n",
       " 75: '함',\n",
       " 76: '본',\n",
       " 77: '까지',\n",
       " 78: '좀',\n",
       " 79: '알',\n",
       " 80: '만들',\n",
       " 81: '뭐',\n",
       " 82: '내용',\n",
       " 83: '볼',\n",
       " 84: '보다',\n",
       " 85: '감독',\n",
       " 86: '라',\n",
       " 87: '그냥',\n",
       " 88: '재미',\n",
       " 89: '시간',\n",
       " 90: '지루',\n",
       " 91: '중',\n",
       " 92: '재미있',\n",
       " 93: '였',\n",
       " 94: '년',\n",
       " 95: '잼',\n",
       " 96: '사랑',\n",
       " 97: '못',\n",
       " 98: '냐',\n",
       " 99: '쓰레기',\n",
       " 100: '재미없',\n",
       " 101: '서',\n",
       " 102: '라고',\n",
       " 103: '니',\n",
       " 104: '면서',\n",
       " 105: '다시',\n",
       " 106: '번',\n",
       " 107: '나오',\n",
       " 108: '하나',\n",
       " 109: '작품',\n",
       " 110: '이거',\n",
       " 111: '야',\n",
       " 112: '줄',\n",
       " 113: '해서',\n",
       " 114: '남',\n",
       " 115: '마지막',\n",
       " 116: '끝',\n",
       " 117: '정도',\n",
       " 118: '액션',\n",
       " 119: '이건',\n",
       " 120: '개',\n",
       " 121: '건',\n",
       " 122: '기대',\n",
       " 123: '임',\n",
       " 124: '다는',\n",
       " 125: '라는',\n",
       " 126: '입니다',\n",
       " 127: '완전',\n",
       " 128: '참',\n",
       " 129: '많',\n",
       " 130: 'ㅋ',\n",
       " 131: '처음',\n",
       " 132: '장면',\n",
       " 133: '다가',\n",
       " 134: '으면',\n",
       " 135: '아깝',\n",
       " 136: '모르',\n",
       " 137: '지금',\n",
       " 138: '이렇게',\n",
       " 139: '분',\n",
       " 140: '돈',\n",
       " 141: 'ㅠㅠ',\n",
       " 142: '성',\n",
       " 143: '이게',\n",
       " 144: '느낌',\n",
       " 145: '이야기',\n",
       " 146: '일',\n",
       " 147: '최악',\n",
       " 148: '된',\n",
       " 149: '시',\n",
       " 150: '봐도',\n",
       " 151: '님',\n",
       " 152: '어서',\n",
       " 153: '애',\n",
       " 154: '편',\n",
       " 155: '다고',\n",
       " 156: '넘',\n",
       " 157: '인데',\n",
       " 158: '이해',\n",
       " 159: '전',\n",
       " 160: '걸',\n",
       " 161: '그리고',\n",
       " 162: '명작',\n",
       " 163: '난',\n",
       " 164: '여자',\n",
       " 165: '또',\n",
       " 166: '역시',\n",
       " 167: '별로',\n",
       " 168: '한국',\n",
       " 169: '이상',\n",
       " 170: '는지',\n",
       " 171: '많이',\n",
       " 172: '에게',\n",
       " 173: '부터',\n",
       " 174: '주인공',\n",
       " 175: '받',\n",
       " 176: '합니다',\n",
       " 177: '대',\n",
       " 178: '두',\n",
       " 179: '우리',\n",
       " 180: '만든',\n",
       " 181: '길',\n",
       " 182: '살',\n",
       " 183: '엔',\n",
       " 184: '기억',\n",
       " 185: '괜찮',\n",
       " 186: '요',\n",
       " 187: '연출',\n",
       " 188: '한다',\n",
       " 189: 'ㅡㅡ',\n",
       " 190: '때문',\n",
       " 191: 'ㅎㅎ',\n",
       " 192: '저',\n",
       " 193: '이나',\n",
       " 194: '재',\n",
       " 195: '꼭',\n",
       " 196: '며',\n",
       " 197: '랑',\n",
       " 198: '현실',\n",
       " 199: '긴',\n",
       " 200: '무슨',\n",
       " 201: '내내',\n",
       " 202: '죽',\n",
       " 203: '결말',\n",
       " 204: '남자',\n",
       " 205: '전개',\n",
       " 206: '마음',\n",
       " 207: '세요',\n",
       " 208: '소재',\n",
       " 209: '속',\n",
       " 210: '공포',\n",
       " 211: '데',\n",
       " 212: '아서',\n",
       " 213: '다른',\n",
       " 214: '씨',\n",
       " 215: '인생',\n",
       " 216: '짜증',\n",
       " 217: '뿐',\n",
       " 218: '은데',\n",
       " 219: '아이',\n",
       " 220: '가장',\n",
       " 221: '유치',\n",
       " 222: '아요',\n",
       " 223: '음악',\n",
       " 224: '짱',\n",
       " 225: '필요',\n",
       " 226: '일본',\n",
       " 227: '낮',\n",
       " 228: '오',\n",
       " 229: '반전',\n",
       " 230: '수준',\n",
       " 231: '웃',\n",
       " 232: '매력',\n",
       " 233: '다니',\n",
       " 234: '인지',\n",
       " 235: '별',\n",
       " 236: '맞',\n",
       " 237: '가슴',\n",
       " 238: '없이',\n",
       " 239: '원작',\n",
       " 240: '인간',\n",
       " 241: 'ㄷ',\n",
       " 242: '높',\n",
       " 243: '밋',\n",
       " 244: '굿',\n",
       " 245: '만드',\n",
       " 246: '눈물',\n",
       " 247: '급',\n",
       " 248: '보여',\n",
       " 249: '준',\n",
       " 250: '찍',\n",
       " 251: '인가',\n",
       " 252: '코미디',\n",
       " 253: '노',\n",
       " 254: '신',\n",
       " 255: '용',\n",
       " 256: '모든',\n",
       " 257: '화',\n",
       " 258: '마',\n",
       " 259: '아직',\n",
       " 260: '추천',\n",
       " 261: '아닌',\n",
       " 262: '처럼',\n",
       " 263: '쓰',\n",
       " 264: '눈',\n",
       " 265: '자체',\n",
       " 266: '울',\n",
       " 267: '몰입',\n",
       " 268: '란',\n",
       " 269: '대박',\n",
       " 270: '스럽',\n",
       " 271: '몇',\n",
       " 272: '을까',\n",
       " 273: '대한',\n",
       " 274: '실망',\n",
       " 275: '는다',\n",
       " 276: '여',\n",
       " 277: '그런',\n",
       " 278: '죠',\n",
       " 279: '캐릭터',\n",
       " 280: '솔직히',\n",
       " 281: '아주',\n",
       " 282: '모두',\n",
       " 283: '전혀',\n",
       " 284: '가족',\n",
       " 285: '여운',\n",
       " 286: '건지',\n",
       " 287: '연기력',\n",
       " 288: '될',\n",
       " 289: '다면',\n",
       " 290: '뭔가',\n",
       " 291: '그래도',\n",
       " 292: '후',\n",
       " 293: '나라',\n",
       " 294: '시리즈',\n",
       " 295: 'ㅎ',\n",
       " 296: '근데',\n",
       " 297: '표현',\n",
       " 298: '모습',\n",
       " 299: '계속',\n",
       " 300: '공감',\n",
       " 301: '작',\n",
       " 302: '먹',\n",
       " 303: '제목',\n",
       " 304: '비',\n",
       " 305: '이랑',\n",
       " 306: '극장',\n",
       " 307: '치',\n",
       " 308: '이걸',\n",
       " 309: '부분',\n",
       " 310: '그렇',\n",
       " 311: '대사',\n",
       " 312: '바',\n",
       " 313: '대단',\n",
       " 314: '어디',\n",
       " 315: '개봉',\n",
       " 316: '진',\n",
       " 317: '된다',\n",
       " 318: '아쉽',\n",
       " 319: '작가',\n",
       " 320: '기분',\n",
       " 321: '진심',\n",
       " 322: '구',\n",
       " 323: '해도',\n",
       " 324: '놓',\n",
       " 325: '보이',\n",
       " 326: '봐야',\n",
       " 327: '타임',\n",
       " 328: '웃기',\n",
       " 329: '제',\n",
       " 330: '막장',\n",
       " 331: '삶',\n",
       " 332: '물',\n",
       " 333: '친구',\n",
       " 334: '이제',\n",
       " 335: '잔잔',\n",
       " 336: '조금',\n",
       " 337: '억지',\n",
       " 338: '가지',\n",
       " 339: 'ㅠ',\n",
       " 340: '영상',\n",
       " 341: '찾',\n",
       " 342: '라도',\n",
       " 343: '씬',\n",
       " 344: '요즘',\n",
       " 345: '딱',\n",
       " 346: '같이',\n",
       " 347: '스릴러',\n",
       " 348: '믿',\n",
       " 349: '싫',\n",
       " 350: '나왔',\n",
       " 351: '중간',\n",
       " 352: '긴장감',\n",
       " 353: '아까운',\n",
       " 354: '어떻게',\n",
       " 355: '개인',\n",
       " 356: '제대로',\n",
       " 357: '부족',\n",
       " 358: '이유',\n",
       " 359: '점수',\n",
       " 360: '노래',\n",
       " 361: '만큼',\n",
       " 362: '라면',\n",
       " 363: 'ㅜㅜ',\n",
       " 364: '시작',\n",
       " 365: '잇',\n",
       " 366: '구나',\n",
       " 367: '한테',\n",
       " 368: '특히',\n",
       " 369: '려고',\n",
       " 370: '날',\n",
       " 371: '제일',\n",
       " 372: '아름다운',\n",
       " 373: '시대',\n",
       " 374: '니까',\n",
       " 375: '엔딩',\n",
       " 376: '당시',\n",
       " 377: '나름',\n",
       " 378: '무섭',\n",
       " 379: '오랜만',\n",
       " 380: '나온',\n",
       " 381: '봐',\n",
       " 382: '사',\n",
       " 383: '팬',\n",
       " 384: '해요',\n",
       " 385: '차라리',\n",
       " 386: '세상',\n",
       " 387: '이것',\n",
       " 388: '절대',\n",
       " 389: '못하',\n",
       " 390: '감',\n",
       " 391: '의미',\n",
       " 392: '봄',\n",
       " 393: '욕',\n",
       " 394: '훌륭',\n",
       " 395: '너무나',\n",
       " 396: '드',\n",
       " 397: '됨',\n",
       " 398: '빼',\n",
       " 399: '느끼',\n",
       " 400: '해야',\n",
       " 401: '강추',\n",
       " 402: '따뜻',\n",
       " 403: '명',\n",
       " 404: '글',\n",
       " 405: '뻔',\n",
       " 406: '도대체',\n",
       " 407: '마다',\n",
       " 408: '어야',\n",
       " 409: '답답',\n",
       " 410: '전쟁',\n",
       " 411: '던데',\n",
       " 412: '놈',\n",
       " 413: '무엇',\n",
       " 414: '설정',\n",
       " 415: '만화',\n",
       " 416: '감정',\n",
       " 417: '흥미',\n",
       " 418: '준다',\n",
       " 419: '그저',\n",
       " 420: '수작',\n",
       " 421: '행복',\n",
       " 422: '신선',\n",
       " 423: '미국',\n",
       " 424: '앞',\n",
       " 425: '허접',\n",
       " 426: '형',\n",
       " 427: '세',\n",
       " 428: '시절',\n",
       " 429: '관객',\n",
       " 430: '사실',\n",
       " 431: '배경',\n",
       " 432: '어도',\n",
       " 433: '초반',\n",
       " 434: '답',\n",
       " 435: '웃음',\n",
       " 436: '엄청',\n",
       " 437: '자신',\n",
       " 438: '더라',\n",
       " 439: '질',\n",
       " 440: '추억',\n",
       " 441: '캐스팅',\n",
       " 442: '군',\n",
       " 443: '라니',\n",
       " 444: '멋있',\n",
       " 445: '정신',\n",
       " 446: '시나리오',\n",
       " 447: '어색',\n",
       " 448: '첨',\n",
       " 449: '머',\n",
       " 450: '밖에',\n",
       " 451: '분위기',\n",
       " 452: '슬프',\n",
       " 453: '소름',\n",
       " 454: '힘들',\n",
       " 455: '오늘',\n",
       " 456: '멋진',\n",
       " 457: '봐서',\n",
       " 458: '간',\n",
       " 459: '집',\n",
       " 460: '구성',\n",
       " 461: '잡',\n",
       " 462: '어이없',\n",
       " 463: '엄마',\n",
       " 464: '함께',\n",
       " 465: '위해',\n",
       " 466: '잊',\n",
       " 467: '류',\n",
       " 468: '이딴',\n",
       " 469: '졸작',\n",
       " 470: '문제',\n",
       " 471: '유쾌',\n",
       " 472: '등',\n",
       " 473: '결국',\n",
       " 474: '소리',\n",
       " 475: '스러운',\n",
       " 476: '킬링',\n",
       " 477: '걍',\n",
       " 478: '낫',\n",
       " 479: '뭘',\n",
       " 480: '한데',\n",
       " 481: '뭔',\n",
       " 482: '역사',\n",
       " 483: '포스터',\n",
       " 484: '제발',\n",
       " 485: '아무리',\n",
       " 486: '코믹',\n",
       " 487: '어떤',\n",
       " 488: '얼마나',\n",
       " 489: '맘',\n",
       " 490: '애니메이션',\n",
       " 491: '완벽',\n",
       " 492: '러',\n",
       " 493: '주연',\n",
       " 494: '보고',\n",
       " 495: '후회',\n",
       " 496: '버리',\n",
       " 497: '뻔한',\n",
       " 498: '어릴',\n",
       " 499: '진부',\n",
       " 500: '나올',\n",
       " 501: '나요',\n",
       " 502: '출연',\n",
       " 503: '보단',\n",
       " 504: '큰',\n",
       " 505: '책',\n",
       " 506: '됐',\n",
       " 507: '영화관',\n",
       " 508: '더니',\n",
       " 509: '밖',\n",
       " 510: '둘',\n",
       " 511: '개연',\n",
       " 512: '장난',\n",
       " 513: 'ㅅ',\n",
       " 514: '충격',\n",
       " 515: '여기',\n",
       " 516: '극',\n",
       " 517: '난다',\n",
       " 518: '평가',\n",
       " 519: '잔인',\n",
       " 520: '얘기',\n",
       " 521: '아름답',\n",
       " 522: '줬',\n",
       " 523: '예술',\n",
       " 524: '갈수록',\n",
       " 525: '매우',\n",
       " 526: '든',\n",
       " 527: '위한',\n",
       " 528: '불',\n",
       " 529: '꺼',\n",
       " 530: '이후',\n",
       " 531: '이리',\n",
       " 532: '자기',\n",
       " 533: '읽',\n",
       " 534: '얼굴',\n",
       " 535: '꽤',\n",
       " 536: '반',\n",
       " 537: '옛날',\n",
       " 538: '깊',\n",
       " 539: '점대',\n",
       " 540: '티비',\n",
       " 541: '이쁘',\n",
       " 542: '원',\n",
       " 543: '시청',\n",
       " 544: '못한',\n",
       " 545: '불쌍',\n",
       " 546: '순수',\n",
       " 547: '별점',\n",
       " 548: '텐데',\n",
       " 549: '겟',\n",
       " 550: '으나',\n",
       " 551: '봐라',\n",
       " 552: '언제',\n",
       " 553: '비디오',\n",
       " 554: '배',\n",
       " 555: '건가',\n",
       " 556: '장르',\n",
       " 557: '낭비',\n",
       " 558: '머리',\n",
       " 559: '라서',\n",
       " 560: '엇',\n",
       " 561: '그래서',\n",
       " 562: '주제',\n",
       " 563: '다음',\n",
       " 564: '생각나',\n",
       " 565: '다운',\n",
       " 566: '다큐',\n",
       " 567: '궁금',\n",
       " 568: '아님',\n",
       " 569: '존나',\n",
       " 570: '그렇게',\n",
       " 571: '하지만',\n",
       " 572: '시키',\n",
       " 573: '애니',\n",
       " 574: '예전',\n",
       " 575: '누구',\n",
       " 576: '아무',\n",
       " 577: '그만',\n",
       " 578: '미친',\n",
       " 579: '미',\n",
       " 580: '진정',\n",
       " 581: '크',\n",
       " 582: '인상',\n",
       " 583: '상황',\n",
       " 584: '그러',\n",
       " 585: '뒤',\n",
       " 586: '스릴',\n",
       " 587: '이름',\n",
       " 588: '감사',\n",
       " 589: '오래',\n",
       " 590: '집중',\n",
       " 591: '본다',\n",
       " 592: '어느',\n",
       " 593: '시즌',\n",
       " 594: '약간',\n",
       " 595: '나와서',\n",
       " 596: '로맨스',\n",
       " 597: '방송',\n",
       " 598: '그나마',\n",
       " 599: '식',\n",
       " 600: '짜리',\n",
       " 601: '났',\n",
       " 602: '소설',\n",
       " 603: '까',\n",
       " 604: '그대로',\n",
       " 605: '마세요',\n",
       " 606: '여주인공',\n",
       " 607: '인물',\n",
       " 608: '떨어지',\n",
       " 609: '걸작',\n",
       " 610: '훨씬',\n",
       " 611: '그것',\n",
       " 612: '힘',\n",
       " 613: '동안',\n",
       " 614: '몰',\n",
       " 615: '케',\n",
       " 616: '죽이',\n",
       " 617: '꿈',\n",
       " 618: '너',\n",
       " 619: '대체',\n",
       " 620: '실화',\n",
       " 621: '사회',\n",
       " 622: '평',\n",
       " 623: '짓',\n",
       " 624: '해라',\n",
       " 625: '누가',\n",
       " 626: '전체',\n",
       " 627: '비슷',\n",
       " 628: '막',\n",
       " 629: '발연기',\n",
       " 630: '엉성',\n",
       " 631: '에요',\n",
       " 632: '만점',\n",
       " 633: '왔',\n",
       " 634: '입',\n",
       " 635: '귀엽',\n",
       " 636: '끝나',\n",
       " 637: '중국',\n",
       " 638: '햇',\n",
       " 639: '초딩',\n",
       " 640: '여주',\n",
       " 641: '비교',\n",
       " 642: '세계',\n",
       " 643: '여배우',\n",
       " 644: '영상미',\n",
       " 645: '감성',\n",
       " 646: '네이버',\n",
       " 647: '는가',\n",
       " 648: '구만',\n",
       " 649: '느껴',\n",
       " 650: '단',\n",
       " 651: '상',\n",
       " 652: '순간',\n",
       " 653: 'ㅎㅎㅎ',\n",
       " 654: '나이',\n",
       " 655: '려는',\n",
       " 656: '대해',\n",
       " 657: '무',\n",
       " 658: '첫',\n",
       " 659: '쯤',\n",
       " 660: '어렸',\n",
       " 661: '망',\n",
       " 662: '판',\n",
       " 663: '학교',\n",
       " 664: '꿀',\n",
       " 665: '갔',\n",
       " 666: '어설픈',\n",
       " 667: '돋',\n",
       " 668: '회',\n",
       " 669: '셨',\n",
       " 670: '아야',\n",
       " 671: '느낄',\n",
       " 672: '생',\n",
       " 673: '혼자',\n",
       " 674: '아들',\n",
       " 675: '더럽',\n",
       " 676: '어린',\n",
       " 677: '가능',\n",
       " 678: '타',\n",
       " 679: '졸',\n",
       " 680: '성룡',\n",
       " 681: '바로',\n",
       " 682: '교훈',\n",
       " 683: '멋지',\n",
       " 684: '잘못',\n",
       " 685: '한마디',\n",
       " 686: '나가',\n",
       " 687: '맛',\n",
       " 688: '당신',\n",
       " 689: '끌',\n",
       " 690: '딸',\n",
       " 691: '화려',\n",
       " 692: '길래',\n",
       " 693: '티',\n",
       " 694: '판타지',\n",
       " 695: '땜',\n",
       " 696: '달',\n",
       " 697: '맨',\n",
       " 698: '잠',\n",
       " 699: '빨리',\n",
       " 700: '거의',\n",
       " 701: '목소리',\n",
       " 702: '든다',\n",
       " 703: '똥',\n",
       " 704: '삼류',\n",
       " 705: '듣',\n",
       " 706: '전부',\n",
       " 707: '봤었',\n",
       " 708: '건데',\n",
       " 709: '독특',\n",
       " 710: '나온다',\n",
       " 711: '다르',\n",
       " 712: '한번',\n",
       " 713: '어른',\n",
       " 714: '질질',\n",
       " 715: '지루함',\n",
       " 716: 'ㅉㅉ',\n",
       " 717: '률',\n",
       " 718: '상당히',\n",
       " 719: '가치',\n",
       " 720: '씩',\n",
       " 721: '넣',\n",
       " 722: '아버지',\n",
       " 723: '아까움',\n",
       " 724: '차',\n",
       " 725: '줄거리',\n",
       " 726: '스타일',\n",
       " 727: '평론가',\n",
       " 728: '대로',\n",
       " 729: '영',\n",
       " 730: '다만',\n",
       " 731: '여러',\n",
       " 732: '갑자기',\n",
       " 733: '이번',\n",
       " 734: '의도',\n",
       " 735: '그러나',\n",
       " 736: '저런',\n",
       " 737: 'ㅂ',\n",
       " 738: '군요',\n",
       " 739: '존',\n",
       " 740: '허무',\n",
       " 741: '밑',\n",
       " 742: '존재',\n",
       " 743: '초',\n",
       " 744: '위',\n",
       " 745: '에선',\n",
       " 746: '너무너무',\n",
       " 747: '째',\n",
       " 748: '예상',\n",
       " 749: '으면서',\n",
       " 750: '성우',\n",
       " 751: '버린',\n",
       " 752: '각본',\n",
       " 753: '이러',\n",
       " 754: '그녀',\n",
       " 755: '화면',\n",
       " 756: '당',\n",
       " 757: 'ㄱ',\n",
       " 758: '비해',\n",
       " 759: '점점',\n",
       " 760: '떠나',\n",
       " 761: '자연',\n",
       " 762: '뻔하',\n",
       " 763: '굉장히',\n",
       " 764: '만나',\n",
       " 765: '담',\n",
       " 766: '평범',\n",
       " 767: '슬픈',\n",
       " 768: '그런지',\n",
       " 769: '예쁘',\n",
       " 770: '복수',\n",
       " 771: '단순',\n",
       " 772: '중요',\n",
       " 773: '낸',\n",
       " 774: '갖',\n",
       " 775: '댓글',\n",
       " 776: '극장판',\n",
       " 777: '돼',\n",
       " 778: '줌',\n",
       " 779: '새로운',\n",
       " 780: '제작',\n",
       " 781: '피',\n",
       " 782: '못했',\n",
       " 783: '앗',\n",
       " 784: '일단',\n",
       " 785: '만족',\n",
       " 786: '쉽',\n",
       " 787: '선택',\n",
       " 788: '한편',\n",
       " 789: '쓴',\n",
       " 790: '버렸',\n",
       " 791: '아빠',\n",
       " 792: '관람',\n",
       " 793: '요소',\n",
       " 794: '불편',\n",
       " 795: '항상',\n",
       " 796: '스',\n",
       " 797: '지나',\n",
       " 798: '거기',\n",
       " 799: '한다는',\n",
       " 800: '나옴',\n",
       " 801: '연출력',\n",
       " 802: '그때',\n",
       " 803: '탄탄',\n",
       " 804: '롭',\n",
       " 805: '굳',\n",
       " 806: '에로',\n",
       " 807: '잃',\n",
       " 808: '려',\n",
       " 809: '흥행',\n",
       " 810: '물론',\n",
       " 811: '부',\n",
       " 812: '거나',\n",
       " 813: '한심',\n",
       " 814: '역대',\n",
       " 815: '편집',\n",
       " 816: '예요',\n",
       " 817: '따라',\n",
       " 818: '관계',\n",
       " 819: '산',\n",
       " 820: '전형',\n",
       " 821: '삼',\n",
       " 822: '짧',\n",
       " 823: '진행',\n",
       " 824: '아닌가',\n",
       " 825: '충분히',\n",
       " 826: '멜',\n",
       " 827: '법',\n",
       " 828: '총',\n",
       " 829: '에겐',\n",
       " 830: '던가',\n",
       " 831: '조',\n",
       " 832: '안타깝',\n",
       " 833: '따',\n",
       " 834: '이하',\n",
       " 835: '식상',\n",
       " 836: '자꾸',\n",
       " 837: '도록',\n",
       " 838: '게임',\n",
       " 839: '미안',\n",
       " 840: '훈훈',\n",
       " 841: '아까워',\n",
       " 842: '곳',\n",
       " 843: '원래',\n",
       " 844: '그게',\n",
       " 845: '구요',\n",
       " 846: '김',\n",
       " 847: '자극',\n",
       " 848: '몰랐',\n",
       " 849: '화이팅',\n",
       " 850: '몸',\n",
       " 851: '손',\n",
       " 852: '어쩔',\n",
       " 853: '풀',\n",
       " 854: '사건',\n",
       " 855: '똑같',\n",
       " 856: '설명',\n",
       " 857: '어울리',\n",
       " 858: '팔',\n",
       " 859: '나쁜',\n",
       " 860: '뭔지',\n",
       " 861: '그래픽',\n",
       " 862: '노력',\n",
       " 863: '귀신',\n",
       " 864: '짐',\n",
       " 865: '잖아',\n",
       " 866: '도저히',\n",
       " 867: '조차',\n",
       " 868: '상상',\n",
       " 869: '과거',\n",
       " 870: '됬',\n",
       " 871: '간다',\n",
       " 872: '닿',\n",
       " 873: '장',\n",
       " 874: '개그',\n",
       " 875: '황당',\n",
       " 876: '프랑스',\n",
       " 877: '아프',\n",
       " 878: '무조건',\n",
       " 879: '홍콩',\n",
       " 880: '죽음',\n",
       " 881: '듬',\n",
       " 882: '코메디',\n",
       " 883: '취향',\n",
       " 884: '중반',\n",
       " 885: '속편',\n",
       " 886: '새끼',\n",
       " 887: '했었',\n",
       " 888: '미치',\n",
       " 889: '발',\n",
       " 890: '빠져',\n",
       " 891: '프로',\n",
       " 892: '소중',\n",
       " 893: '빠',\n",
       " 894: '빙',\n",
       " 895: '짱짱',\n",
       " 896: '역',\n",
       " 897: 'ㅜ',\n",
       " 898: '나쁘',\n",
       " 899: '무비',\n",
       " 900: '간만에',\n",
       " 901: '좋아하',\n",
       " 902: '더빙',\n",
       " 903: '아쉬운',\n",
       " 904: '멋',\n",
       " 905: '넘치',\n",
       " 906: '병맛',\n",
       " 907: '상영',\n",
       " 908: '진지',\n",
       " 909: '빠지',\n",
       " 910: '더욱',\n",
       " 911: '참신',\n",
       " 912: '쳐',\n",
       " 913: '끝내',\n",
       " 914: '무서운',\n",
       " 915: '특유',\n",
       " 916: '유명',\n",
       " 917: '척',\n",
       " 918: '심리',\n",
       " 919: '결혼',\n",
       " 920: '엄청난',\n",
       " 921: '괜히',\n",
       " 922: '숨',\n",
       " 923: '오히려',\n",
       " 924: '예고편',\n",
       " 925: '전설',\n",
       " 926: '짜',\n",
       " 927: '또한',\n",
       " 928: '고자',\n",
       " 929: '후반부',\n",
       " 930: '틀',\n",
       " 931: '아저씨',\n",
       " 932: '심하',\n",
       " 933: '바보',\n",
       " 934: '왕',\n",
       " 935: '연기자',\n",
       " 936: '헐',\n",
       " 937: '촬영',\n",
       " 938: '리',\n",
       " 939: '아도',\n",
       " 940: '천재',\n",
       " 941: '소녀',\n",
       " 942: '느꼈',\n",
       " 943: '그리',\n",
       " 944: '로맨틱',\n",
       " 945: '조연',\n",
       " 946: '최근',\n",
       " 947: '희망',\n",
       " 948: '으니',\n",
       " 949: '억지로',\n",
       " 950: '가볍',\n",
       " 951: '이란',\n",
       " 952: '비추',\n",
       " 953: '는구나',\n",
       " 954: 'ㄴ',\n",
       " 955: '마무리',\n",
       " 956: '표정',\n",
       " 957: '쩔',\n",
       " 958: '현재',\n",
       " 959: '전편',\n",
       " 960: '아무것',\n",
       " 961: '온',\n",
       " 962: '힘든',\n",
       " 963: '로서',\n",
       " 964: '부모',\n",
       " 965: '어라',\n",
       " 966: '이야',\n",
       " 967: '던지',\n",
       " 968: '동화',\n",
       " 969: '순',\n",
       " 970: '아쉬움',\n",
       " 971: '대작',\n",
       " 972: '서로',\n",
       " 973: '진실',\n",
       " 974: '점주',\n",
       " 975: '즐겁',\n",
       " 976: '저질',\n",
       " 977: '노출',\n",
       " 978: '빨',\n",
       " 979: '대한민국',\n",
       " 980: '메세지',\n",
       " 981: '우연히',\n",
       " 982: '적당',\n",
       " 983: '그림',\n",
       " 984: '묘사',\n",
       " 985: '여성',\n",
       " 986: '이미',\n",
       " 987: '그런데',\n",
       " 988: '땐',\n",
       " 989: '지난',\n",
       " 990: '엉망',\n",
       " 991: '이래',\n",
       " 992: '경찰',\n",
       " 993: '그닥',\n",
       " 994: '프로그램',\n",
       " 995: '살인',\n",
       " 996: '오빠',\n",
       " 997: '흠',\n",
       " 998: '남기',\n",
       " 999: '쩌',\n",
       " 1000: '유머',\n",
       " 1001: '십',\n",
       " 1002: '돌',\n",
       " ...}"
      ]
     },
     "execution_count": 10,
     "metadata": {},
     "output_type": "execute_result"
    }
   ],
   "source": [
    "index_to_word = {index:word for word, index in word_to_index.items()}\n",
    "index_to_word"
   ]
  },
  {
   "cell_type": "code",
   "execution_count": 11,
   "id": "ecd6ed7b",
   "metadata": {},
   "outputs": [],
   "source": [
    "# 문장 1개를 활용할 딕셔너리와 함께 주면, 단어 인덱스 리스트 벡터로 변환해 주는 함수입니다. \n",
    "# 단, 모든 문장은 <BOS>로 시작하는 것으로 합니다. \n",
    "def get_encoded_sentence(sentence, word_to_index):\n",
    "    return [word_to_index['<BOS>']]+[word_to_index[word] if word in word_to_index else word_to_index['<UNK>'] for word in sentence.split()]\n",
    "\n",
    "# 여러 개의 문장 리스트를 한꺼번에 단어 인덱스 리스트 벡터로 encode해 주는 함수입니다. \n",
    "def get_encoded_sentences(sentences, word_to_index):\n",
    "    return [get_encoded_sentence(sentence, word_to_index) for sentence in sentences]\n",
    "\n",
    "# 숫자 벡터로 encode된 문장을 원래대로 decode하는 함수입니다. \n",
    "def get_decoded_sentence(encoded_sentence, index_to_word):\n",
    "    return ' '.join(index_to_word[index] if index in index_to_word else '<UNK>' for index in encoded_sentence[1:])  #[1:]를 통해 <BOS>를 제외\n",
    "\n",
    "# 여러 개의 숫자 벡터로 encode된 문장을 한꺼번에 원래대로 decode하는 함수입니다. \n",
    "def get_decoded_sentences(encoded_sentences, index_to_word):\n",
    "    return [get_decoded_sentence(encoded_sentence, index_to_word) for encoded_sentence in encoded_sentences]"
   ]
  },
  {
   "cell_type": "code",
   "execution_count": 12,
   "id": "89dd2d2a",
   "metadata": {},
   "outputs": [
    {
     "name": "stdout",
     "output_type": "stream",
     "text": [
      "[27, 68, 894, 33, 216, 15, 28, 701]\n",
      "라벨:  0\n",
      "1번째 리뷰 문장 길이:  8\n",
      "2번째 리뷰 문장 길이:  13\n"
     ]
    }
   ],
   "source": [
    "print(X_train[0])  # 1번째 리뷰데이터\n",
    "print('라벨: ', y_train[0])  # 1번째 리뷰데이터의 라벨\n",
    "print('1번째 리뷰 문장 길이: ', len(X_train[0]))\n",
    "print('2번째 리뷰 문장 길이: ', len(X_train[1]))"
   ]
  },
  {
   "cell_type": "code",
   "execution_count": 13,
   "id": "dbf25e42",
   "metadata": {},
   "outputs": [
    {
     "name": "stdout",
     "output_type": "stream",
     "text": [
      "<PAD>\n",
      "<BOS>\n",
      "<UNK>\n",
      "<UNUSED>\n"
     ]
    }
   ],
   "source": [
    "# 처음 몇 개 인덱스는 사전에 정의되어 있습니다\n",
    "word_to_index[\"<PAD>\"] = 0\n",
    "word_to_index[\"<BOS>\"] = 1\n",
    "word_to_index[\"<UNK>\"] = 2  # unknown\n",
    "word_to_index[\"<UNUSED>\"] = 3\n",
    "\n",
    "index_to_word[0] = \"<PAD>\"\n",
    "index_to_word[1] = \"<BOS>\"\n",
    "index_to_word[2] = \"<UNK>\"\n",
    "index_to_word[3] = \"<UNUSED>\"\n",
    "\n",
    "index_to_word = {index:word for word, index in word_to_index.items()}\n",
    "\n",
    "print(index_to_word[0])\n",
    "print(index_to_word[1])     # '<BOS>' 가 출력됩니다. \n",
    "print(index_to_word[2])\n",
    "print(index_to_word[3])\n",
    "#print(index_to_word)"
   ]
  },
  {
   "cell_type": "code",
   "execution_count": 14,
   "id": "4219de61",
   "metadata": {},
   "outputs": [
    {
     "name": "stdout",
     "output_type": "stream",
     "text": [
      "더 빙 진짜 짜증 나 네요 목소리\n",
      "라벨:  0\n"
     ]
    }
   ],
   "source": [
    "print(get_decoded_sentence(X_train[0], index_to_word))\n",
    "print('라벨: ', y_train[0])  # 1번째 리뷰데이터의 라벨"
   ]
  },
  {
   "cell_type": "markdown",
   "id": "3afb7d8f",
   "metadata": {},
   "source": [
    "데이터셋 내 문장 길이 분포"
   ]
  },
  {
   "cell_type": "code",
   "execution_count": 15,
   "id": "51e502e0",
   "metadata": {},
   "outputs": [
    {
     "name": "stdout",
     "output_type": "stream",
     "text": [
      "리뷰의 최대 길이 : 83\n",
      "리뷰의 평균 길이 : 14.020554240356496\n"
     ]
    },
    {
     "data": {
      "image/png": "[encoded data removed]",
      "text/plain": [
       "<Figure size 432x288 with 1 Axes>"
      ]
     },
     "metadata": {
      "needs_background": "light"
     },
     "output_type": "display_data"
    }
   ],
   "source": [
    "print('리뷰의 최대 길이 :',max(len(l) for l in X_train))\n",
    "print('리뷰의 평균 길이 :',sum(map(len, X_train))/len(X_train))\n",
    "plt.hist([len(s) for s in X_train], bins=50)\n",
    "plt.xlabel('length of samples')\n",
    "plt.ylabel('number of samples')\n",
    "plt.show()"
   ]
  },
  {
   "cell_type": "markdown",
   "id": "62a603ca",
   "metadata": {},
   "source": [
    "최대 문장 길이 지정"
   ]
  },
  {
   "cell_type": "code",
   "execution_count": 16,
   "id": "ff2ab7e3",
   "metadata": {},
   "outputs": [
    {
     "name": "stdout",
     "output_type": "stream",
     "text": [
      "문장길이 평균 :  14.528138730242716\n",
      "문장길이 최대 :  105\n",
      "문장길이 표준편차 :  11.921158321890513\n",
      "pad_sequences maxlen :  38\n",
      "전체 문장의 0.9352204879212769가 maxlen 설정값 이내에 포함됩니다. \n"
     ]
    }
   ],
   "source": [
    "total_data_text = list(X_train) + list(X_test)\n",
    "# 텍스트데이터 문장길이의 리스트를 생성한 후\n",
    "num_tokens = [len(tokens) for tokens in total_data_text]\n",
    "num_tokens = np.array(num_tokens)\n",
    "# 문장길이의 평균값, 최대값, 표준편차를 계산해 본다. \n",
    "print('문장길이 평균 : ', np.mean(num_tokens))\n",
    "print('문장길이 최대 : ', np.max(num_tokens))\n",
    "print('문장길이 표준편차 : ', np.std(num_tokens))\n",
    "\n",
    "# 예를들어, 최대 길이를 (평균 + 2*표준편차)로 한다면,  \n",
    "max_tokens = np.mean(num_tokens) + 2 * np.std(num_tokens)\n",
    "maxlen = int(max_tokens)\n",
    "print('pad_sequences maxlen : ', maxlen)\n",
    "print('전체 문장의 {}가 maxlen 설정값 이내에 포함됩니다. '.format(np.sum(num_tokens < max_tokens) / len(num_tokens)))"
   ]
  },
  {
   "cell_type": "markdown",
   "id": "2087f371",
   "metadata": {},
   "source": [
    "패딩 추가"
   ]
  },
  {
   "cell_type": "markdown",
   "id": "002312d6",
   "metadata": {},
   "source": [
    "padding을 'post'와 'pre'로 모두 해본 결과, 그나마 'post'가 더 나았다."
   ]
  },
  {
   "cell_type": "code",
   "execution_count": 17,
   "id": "e217d180",
   "metadata": {},
   "outputs": [
    {
     "name": "stdout",
     "output_type": "stream",
     "text": [
      "(143620, 38)\n"
     ]
    }
   ],
   "source": [
    "X_train = keras.preprocessing.sequence.pad_sequences(X_train,\n",
    "                                                        value=word_to_index[\"<PAD>\"],\n",
    "                                                        padding='post', # 혹은 'pre'\n",
    "                                                        maxlen=maxlen)\n",
    "X_test = keras.preprocessing.sequence.pad_sequences(X_test,\n",
    "                                                       value=word_to_index[\"<PAD>\"],\n",
    "                                                       padding='post', # 혹은 'pre'\n",
    "                                                       maxlen=maxlen)\n",
    "\n",
    "print(X_train.shape)"
   ]
  },
  {
   "cell_type": "markdown",
   "id": "4d628b30",
   "metadata": {},
   "source": [
    "4) 모델 구성 및 validation set 구성"
   ]
  },
  {
   "cell_type": "markdown",
   "id": "790936f0",
   "metadata": {},
   "source": [
    "모델을 3가지 이상 다양하게 구성하여 실험해보기"
   ]
  },
  {
   "cell_type": "markdown",
   "id": "9fa10865",
   "metadata": {},
   "source": [
    "validation 데이터셋 구성"
   ]
  },
  {
   "cell_type": "code",
   "execution_count": 18,
   "id": "96169081",
   "metadata": {},
   "outputs": [
    {
     "name": "stdout",
     "output_type": "stream",
     "text": [
      "(103620, 38)\n",
      "(103620,)\n"
     ]
    }
   ],
   "source": [
    "# validation set 40000건 분리 (약30%)\n",
    "x_val = X_train[:40000]   \n",
    "y_val = y_train[:40000]\n",
    "\n",
    "# validation set을 제외한 나머지 약 11만건\n",
    "partial_x_train = X_train[40000:]  \n",
    "partial_y_train = y_train[40000:]\n",
    "\n",
    "print(partial_x_train.shape)\n",
    "print(partial_y_train.shape)"
   ]
  },
  {
   "cell_type": "markdown",
   "id": "3cb8dd82",
   "metadata": {},
   "source": [
    "1) LSTM"
   ]
  },
  {
   "cell_type": "code",
   "execution_count": 19,
   "id": "ad76ec02",
   "metadata": {},
   "outputs": [
    {
     "name": "stdout",
     "output_type": "stream",
     "text": [
      "Model: \"sequential\"\n",
      "_________________________________________________________________\n",
      "Layer (type)                 Output Shape              Param #   \n",
      "=================================================================\n",
      "embedding (Embedding)        (None, None, 200)         6000000   \n",
      "_________________________________________________________________\n",
      "lstm (LSTM)                  (None, 128)               168448    \n",
      "_________________________________________________________________\n",
      "dropout (Dropout)            (None, 128)               0         \n",
      "_________________________________________________________________\n",
      "dense (Dense)                (None, 1)                 129       \n",
      "=================================================================\n",
      "Total params: 6,168,577\n",
      "Trainable params: 6,168,577\n",
      "Non-trainable params: 0\n",
      "_________________________________________________________________\n"
     ]
    }
   ],
   "source": [
    "word_vector_dim = 200  # 워드 벡터의 차원 수 (변경 가능한 하이퍼파라미터)\n",
    "\n",
    "from keras.layers.core import Dropout\n",
    "\n",
    "model = keras.Sequential()\n",
    "model.add(keras.layers.Embedding(vocab_size, word_vector_dim, input_shape=(None,)))\n",
    "model.add(keras.layers.LSTM(128))   # LSTM레이어. LSTM state 벡터의 차원수는 128로 함. (변경 가능)\n",
    "# model.add(Dropout(0.2))\n",
    "# model.add(keras.layers.Dense(8, activation='relu'))\n",
    "model.add(Dropout(0.2))  # 드롭아웃 추가. 비율은 20%\n",
    "model.add(keras.layers.Dense(1, activation='sigmoid'))  # 최종 출력은 긍정/부정을 나타내는 1차원데이터이다.\n",
    "\n",
    "model.summary()"
   ]
  },
  {
   "cell_type": "markdown",
   "id": "f0d4cdf9",
   "metadata": {},
   "source": [
    "2) 1-D CNN: GlobalMaxPooling1D()레이어만 사용"
   ]
  },
  {
   "cell_type": "code",
   "execution_count": 20,
   "id": "070e5e8c",
   "metadata": {},
   "outputs": [
    {
     "name": "stdout",
     "output_type": "stream",
     "text": [
      "Model: \"sequential_1\"\n",
      "_________________________________________________________________\n",
      "Layer (type)                 Output Shape              Param #   \n",
      "=================================================================\n",
      "embedding_1 (Embedding)      (None, None, 200)         6000000   \n",
      "_________________________________________________________________\n",
      "global_max_pooling1d (Global (None, 200)               0         \n",
      "_________________________________________________________________\n",
      "dense_1 (Dense)              (None, 8)                 1608      \n",
      "_________________________________________________________________\n",
      "dense_2 (Dense)              (None, 1)                 9         \n",
      "=================================================================\n",
      "Total params: 6,001,617\n",
      "Trainable params: 6,001,617\n",
      "Non-trainable params: 0\n",
      "_________________________________________________________________\n"
     ]
    }
   ],
   "source": [
    "word_vector_dim = 200   # 단어 하나를 표현하는 임베딩 벡터의 차원 수\n",
    "\n",
    "model2 = keras.Sequential()\n",
    "model2.add(keras.layers.Embedding(vocab_size, word_vector_dim, input_shape=(None,)))\n",
    "model2.add(keras.layers.GlobalMaxPooling1D())\n",
    "model2.add(keras.layers.Dense(8, activation='relu'))\n",
    "model2.add(keras.layers.Dense(1, activation='sigmoid'))  # 최종 출력은 긍정/부정을 나타내는 1dim 입니다.\n",
    "\n",
    "model2.summary()\n"
   ]
  },
  {
   "cell_type": "markdown",
   "id": "89c85a45",
   "metadata": {},
   "source": [
    "3) GRU (Gated Reccurent Unit)"
   ]
  },
  {
   "cell_type": "code",
   "execution_count": 21,
   "id": "74e72c18",
   "metadata": {},
   "outputs": [],
   "source": [
    "from tensorflow.keras.layers import GRU\n",
    "word_vector_dim = 200   # 단어 하나를 표현하는 임베딩 벡터의 차원 수\n",
    "\n",
    "model3 = keras.Sequential()\n",
    "model3.add(keras.layers.Embedding(vocab_size, word_vector_dim))\n",
    "model3.add(GRU(128))\n",
    "model3.add(keras.layers.Dense(1, activation='sigmoid'))"
   ]
  },
  {
   "cell_type": "markdown",
   "id": "233836e8",
   "metadata": {},
   "source": [
    "5) 모델 훈련"
   ]
  },
  {
   "cell_type": "code",
   "execution_count": 22,
   "id": "82a2e33e",
   "metadata": {},
   "outputs": [],
   "source": [
    "# 오버피팅 방지 및 checkpoint저장\n",
    "callbacks = [keras.callbacks.EarlyStopping(monitor='val_loss',\n",
    "                                           patience=5),\n",
    "             keras.callbacks.ModelCheckpoint(filepath='best_model.h5',\n",
    "                                             monitor='val_loss',\n",
    "                                             save_best_only=True)]"
   ]
  },
  {
   "cell_type": "markdown",
   "id": "97d85968",
   "metadata": {},
   "source": [
    "모델1 (LSTM)"
   ]
  },
  {
   "cell_type": "code",
   "execution_count": 23,
   "id": "b1b5147c",
   "metadata": {},
   "outputs": [
    {
     "name": "stdout",
     "output_type": "stream",
     "text": [
      "Epoch 1/15\n",
      "810/810 [==============================] - 10s 9ms/step - loss: 0.4262 - accuracy: 0.7911 - val_loss: 0.3684 - val_accuracy: 0.8376\n",
      "Epoch 2/15\n",
      "810/810 [==============================] - 7s 9ms/step - loss: 0.2985 - accuracy: 0.8753 - val_loss: 0.3429 - val_accuracy: 0.8544\n",
      "Epoch 3/15\n",
      "810/810 [==============================] - 7s 9ms/step - loss: 0.2366 - accuracy: 0.9049 - val_loss: 0.3730 - val_accuracy: 0.8471\n",
      "Epoch 4/15\n",
      "810/810 [==============================] - 7s 9ms/step - loss: 0.1911 - accuracy: 0.9250 - val_loss: 0.4104 - val_accuracy: 0.8481\n",
      "Epoch 5/15\n",
      "810/810 [==============================] - 7s 9ms/step - loss: 0.1564 - accuracy: 0.9402 - val_loss: 0.4775 - val_accuracy: 0.8441\n",
      "Epoch 6/15\n",
      "810/810 [==============================] - 7s 9ms/step - loss: 0.1306 - accuracy: 0.9496 - val_loss: 0.5172 - val_accuracy: 0.8440\n",
      "Epoch 7/15\n",
      "810/810 [==============================] - 7s 8ms/step - loss: 0.1097 - accuracy: 0.9585 - val_loss: 0.4998 - val_accuracy: 0.8390\n"
     ]
    }
   ],
   "source": [
    "model.compile(optimizer='adam',\n",
    "              loss='binary_crossentropy',\n",
    "              metrics=['accuracy'])\n",
    "              \n",
    "epochs=15  # 몇 epoch를 훈련하면 좋을지 결과를 보면서 바꾸어 봅시다. \n",
    "\n",
    "\n",
    "history = model.fit(partial_x_train,\n",
    "                    partial_y_train,\n",
    "                    epochs=epochs,\n",
    "                    batch_size=128,\n",
    "                    validation_data=(x_val, y_val),\n",
    "                    callbacks=callbacks,\n",
    "                    verbose=1)"
   ]
  },
  {
   "cell_type": "code",
   "execution_count": 24,
   "id": "01dbe751",
   "metadata": {},
   "outputs": [
    {
     "name": "stdout",
     "output_type": "stream",
     "text": [
      "1537/1537 - 3s - loss: 0.5180 - accuracy: 0.8280\n",
      "[0.5180185437202454, 0.8280407786369324]\n"
     ]
    }
   ],
   "source": [
    "results = model.evaluate(X_test,  y_test, verbose=2)\n",
    "\n",
    "print(results)"
   ]
  },
  {
   "cell_type": "markdown",
   "id": "bad79fca",
   "metadata": {},
   "source": [
    "모델2"
   ]
  },
  {
   "cell_type": "code",
   "execution_count": 25,
   "id": "a914f259",
   "metadata": {},
   "outputs": [
    {
     "name": "stdout",
     "output_type": "stream",
     "text": [
      "Epoch 1/15\n",
      "810/810 [==============================] - 3s 4ms/step - loss: 0.4313 - accuracy: 0.8095 - val_loss: 0.3614 - val_accuracy: 0.8393\n",
      "Epoch 2/15\n",
      "810/810 [==============================] - 3s 3ms/step - loss: 0.3406 - accuracy: 0.8539 - val_loss: 0.3507 - val_accuracy: 0.8446\n",
      "Epoch 3/15\n",
      "810/810 [==============================] - 3s 4ms/step - loss: 0.3210 - accuracy: 0.8652 - val_loss: 0.3484 - val_accuracy: 0.8471\n",
      "Epoch 4/15\n",
      "810/810 [==============================] - 3s 3ms/step - loss: 0.3089 - accuracy: 0.8716 - val_loss: 0.3493 - val_accuracy: 0.8473\n",
      "Epoch 5/15\n",
      "810/810 [==============================] - 3s 3ms/step - loss: 0.3001 - accuracy: 0.8762 - val_loss: 0.3491 - val_accuracy: 0.8479\n",
      "Epoch 6/15\n",
      "810/810 [==============================] - 3s 3ms/step - loss: 0.2922 - accuracy: 0.8806 - val_loss: 0.3495 - val_accuracy: 0.8490\n",
      "Epoch 7/15\n",
      "810/810 [==============================] - 3s 3ms/step - loss: 0.2841 - accuracy: 0.8850 - val_loss: 0.3489 - val_accuracy: 0.8491\n",
      "Epoch 8/15\n",
      "810/810 [==============================] - 3s 3ms/step - loss: 0.2765 - accuracy: 0.8893 - val_loss: 0.3511 - val_accuracy: 0.8498\n"
     ]
    }
   ],
   "source": [
    "model2.compile(optimizer='rmsprop', loss='binary_crossentropy', metrics=['accuracy'])\n",
    "\n",
    "              \n",
    "epochs=15  # 하이퍼파라미터\n",
    "\n",
    "\n",
    "history2 = model2.fit(partial_x_train,\n",
    "                    partial_y_train,\n",
    "                    epochs=epochs,\n",
    "                    batch_size=128,\n",
    "                    validation_data=(x_val, y_val),\n",
    "                    callbacks=callbacks,\n",
    "                    verbose=1)"
   ]
  },
  {
   "cell_type": "code",
   "execution_count": 26,
   "id": "43497c63",
   "metadata": {},
   "outputs": [
    {
     "name": "stdout",
     "output_type": "stream",
     "text": [
      "1537/1537 - 2s - loss: 0.3645 - accuracy: 0.8408\n",
      "[0.3645184636116028, 0.8407754898071289]\n"
     ]
    }
   ],
   "source": [
    "results = model2.evaluate(X_test,  y_test, verbose=2)\n",
    "\n",
    "print(results)"
   ]
  },
  {
   "cell_type": "markdown",
   "id": "a92ac65c",
   "metadata": {},
   "source": [
    "모델 정의하는 코드를 다시 실행후, 다른 하이퍼파라미터로 학습시켜보자."
   ]
  },
  {
   "cell_type": "markdown",
   "id": "328640ec",
   "metadata": {},
   "source": [
    "batch_size 축소"
   ]
  },
  {
   "cell_type": "code",
   "execution_count": 27,
   "id": "210abced",
   "metadata": {},
   "outputs": [
    {
     "name": "stdout",
     "output_type": "stream",
     "text": [
      "Epoch 1/15\n",
      "1620/1620 [==============================] - 6s 3ms/step - loss: 0.2742 - accuracy: 0.8903 - val_loss: 0.3549 - val_accuracy: 0.8493\n",
      "Epoch 2/15\n",
      "1620/1620 [==============================] - 5s 3ms/step - loss: 0.2733 - accuracy: 0.8905 - val_loss: 0.3543 - val_accuracy: 0.8461\n",
      "Epoch 3/15\n",
      "1620/1620 [==============================] - 5s 3ms/step - loss: 0.2711 - accuracy: 0.8924 - val_loss: 0.3578 - val_accuracy: 0.8486\n",
      "Epoch 4/15\n",
      "1620/1620 [==============================] - 5s 3ms/step - loss: 0.2692 - accuracy: 0.8935 - val_loss: 0.3619 - val_accuracy: 0.8443\n",
      "Epoch 5/15\n",
      "1620/1620 [==============================] - 5s 3ms/step - loss: 0.2671 - accuracy: 0.8946 - val_loss: 0.3557 - val_accuracy: 0.8475\n",
      "Epoch 6/15\n",
      "1620/1620 [==============================] - 5s 3ms/step - loss: 0.2649 - accuracy: 0.8958 - val_loss: 0.3571 - val_accuracy: 0.8472\n",
      "Epoch 7/15\n",
      "1620/1620 [==============================] - 5s 3ms/step - loss: 0.2621 - accuracy: 0.8972 - val_loss: 0.3572 - val_accuracy: 0.8471\n"
     ]
    }
   ],
   "source": [
    "model2.compile(optimizer='rmsprop', loss='binary_crossentropy', metrics=['accuracy'])\n",
    "\n",
    "              \n",
    "epochs=15  # 하이퍼파라미터\n",
    "\n",
    "\n",
    "history2 = model2.fit(partial_x_train,\n",
    "                    partial_y_train,\n",
    "                    epochs=epochs,\n",
    "                    batch_size=64,\n",
    "                    validation_data=(x_val, y_val),\n",
    "                    callbacks=callbacks,\n",
    "                    verbose=1)"
   ]
  },
  {
   "cell_type": "code",
   "execution_count": 28,
   "id": "d85074f5",
   "metadata": {},
   "outputs": [
    {
     "name": "stdout",
     "output_type": "stream",
     "text": [
      "1537/1537 - 2s - loss: 0.3709 - accuracy: 0.8375\n",
      "[0.3708673119544983, 0.8375409245491028]\n"
     ]
    }
   ],
   "source": [
    "results = model2.evaluate(X_test,  y_test, verbose=2)\n",
    "\n",
    "print(results)"
   ]
  },
  {
   "cell_type": "markdown",
   "id": "16c73b7f",
   "metadata": {},
   "source": [
    "LSTM모델과 같은 최적화함수 adam를 사용해보자."
   ]
  },
  {
   "cell_type": "markdown",
   "id": "4aa640f5",
   "metadata": {},
   "source": [
    "optimizer 변경, epochs 증가,early stop의 patience 증가"
   ]
  },
  {
   "cell_type": "code",
   "execution_count": 29,
   "id": "2b835967",
   "metadata": {},
   "outputs": [],
   "source": [
    "# 오버피팅 방지 및 checkpoint저장\n",
    "callbacks = [keras.callbacks.EarlyStopping(monitor='val_loss',\n",
    "                                           patience=7),\n",
    "             keras.callbacks.ModelCheckpoint(filepath='best_model.h5',\n",
    "                                             monitor='val_loss',\n",
    "                                             save_best_only=True)]"
   ]
  },
  {
   "cell_type": "code",
   "execution_count": 30,
   "id": "19be35b1",
   "metadata": {},
   "outputs": [
    {
     "name": "stdout",
     "output_type": "stream",
     "text": [
      "Epoch 1/20\n",
      "810/810 [==============================] - 5s 6ms/step - loss: 0.2571 - accuracy: 0.8991 - val_loss: 0.3545 - val_accuracy: 0.8480\n",
      "Epoch 2/20\n",
      "810/810 [==============================] - 4s 6ms/step - loss: 0.2180 - accuracy: 0.9173 - val_loss: 0.3668 - val_accuracy: 0.8470\n",
      "Epoch 3/20\n",
      "810/810 [==============================] - 4s 5ms/step - loss: 0.1704 - accuracy: 0.9388 - val_loss: 0.4024 - val_accuracy: 0.8383\n",
      "Epoch 4/20\n",
      "810/810 [==============================] - 4s 5ms/step - loss: 0.1222 - accuracy: 0.9584 - val_loss: 0.4558 - val_accuracy: 0.8320\n",
      "Epoch 5/20\n",
      "810/810 [==============================] - 4s 5ms/step - loss: 0.0822 - accuracy: 0.9741 - val_loss: 0.5258 - val_accuracy: 0.8246\n",
      "Epoch 6/20\n",
      "810/810 [==============================] - 4s 5ms/step - loss: 0.0541 - accuracy: 0.9839 - val_loss: 0.5878 - val_accuracy: 0.8213\n",
      "Epoch 7/20\n",
      "810/810 [==============================] - 4s 6ms/step - loss: 0.0359 - accuracy: 0.9898 - val_loss: 0.6623 - val_accuracy: 0.8167\n",
      "Epoch 8/20\n",
      "810/810 [==============================] - 4s 5ms/step - loss: 0.0250 - accuracy: 0.9929 - val_loss: 0.7288 - val_accuracy: 0.8129\n"
     ]
    }
   ],
   "source": [
    "model2.compile(optimizer='adam', loss='binary_crossentropy', metrics=['accuracy'])\n",
    "\n",
    "              \n",
    "epochs=20  # 하이퍼파라미터\n",
    "\n",
    "\n",
    "history2 = model2.fit(partial_x_train,\n",
    "                    partial_y_train,\n",
    "                    epochs=epochs,\n",
    "                    batch_size=128,\n",
    "                    validation_data=(x_val, y_val),\n",
    "                    callbacks=callbacks,\n",
    "                    verbose=1)"
   ]
  },
  {
   "cell_type": "code",
   "execution_count": 31,
   "id": "ad6a727d",
   "metadata": {},
   "outputs": [
    {
     "name": "stdout",
     "output_type": "stream",
     "text": [
      "1537/1537 - 2s - loss: 0.7218 - accuracy: 0.8083\n",
      "[0.7218092083930969, 0.8083080649375916]\n"
     ]
    }
   ],
   "source": [
    "results = model2.evaluate(X_test,  y_test, verbose=2)\n",
    "\n",
    "print(results)"
   ]
  },
  {
   "cell_type": "markdown",
   "id": "b62d4944",
   "metadata": {},
   "source": [
    "모델3"
   ]
  },
  {
   "cell_type": "code",
   "execution_count": 32,
   "id": "012af519",
   "metadata": {},
   "outputs": [],
   "source": [
    "# 오버피팅 방지 및 checkpoint저장\n",
    "callbacks = [keras.callbacks.EarlyStopping(monitor='val_loss',\n",
    "                                           patience=5),\n",
    "             keras.callbacks.ModelCheckpoint(filepath='best_model.h5',\n",
    "                                             monitor='val_loss',\n",
    "                                             save_best_only=True)]"
   ]
  },
  {
   "cell_type": "code",
   "execution_count": 33,
   "id": "0a47efc0",
   "metadata": {},
   "outputs": [
    {
     "name": "stdout",
     "output_type": "stream",
     "text": [
      "Epoch 1/15\n",
      "810/810 [==============================] - 7s 7ms/step - loss: 0.4697 - accuracy: 0.7542 - val_loss: 0.3526 - val_accuracy: 0.8436\n",
      "Epoch 2/15\n",
      "810/810 [==============================] - 5s 6ms/step - loss: 0.3248 - accuracy: 0.8606 - val_loss: 0.3308 - val_accuracy: 0.8549\n",
      "Epoch 3/15\n",
      "810/810 [==============================] - 5s 6ms/step - loss: 0.2925 - accuracy: 0.8769 - val_loss: 0.3249 - val_accuracy: 0.8564\n",
      "Epoch 4/15\n",
      "810/810 [==============================] - 5s 6ms/step - loss: 0.2665 - accuracy: 0.8912 - val_loss: 0.3369 - val_accuracy: 0.8556\n",
      "Epoch 5/15\n",
      "810/810 [==============================] - 5s 6ms/step - loss: 0.2435 - accuracy: 0.9028 - val_loss: 0.3482 - val_accuracy: 0.8592\n",
      "Epoch 6/15\n",
      "810/810 [==============================] - 5s 6ms/step - loss: 0.2213 - accuracy: 0.9128 - val_loss: 0.3370 - val_accuracy: 0.8569\n",
      "Epoch 7/15\n",
      "810/810 [==============================] - 5s 6ms/step - loss: 0.2025 - accuracy: 0.9214 - val_loss: 0.3475 - val_accuracy: 0.8529\n",
      "Epoch 8/15\n",
      "810/810 [==============================] - 5s 6ms/step - loss: 0.1839 - accuracy: 0.9288 - val_loss: 0.3653 - val_accuracy: 0.8510\n"
     ]
    }
   ],
   "source": [
    "model3.compile(optimizer='rmsprop', loss='binary_crossentropy', metrics=['accuracy'])\n",
    "\n",
    "              \n",
    "epochs=15  # 하이퍼파라미터\n",
    "\n",
    "\n",
    "history3 = model3.fit(partial_x_train,\n",
    "                    partial_y_train,\n",
    "                    epochs=epochs,\n",
    "                    batch_size=128,\n",
    "                    validation_data=(x_val, y_val),\n",
    "                    callbacks=callbacks,\n",
    "                    verbose=1)"
   ]
  },
  {
   "cell_type": "code",
   "execution_count": 34,
   "id": "944a99dd",
   "metadata": {},
   "outputs": [
    {
     "name": "stdout",
     "output_type": "stream",
     "text": [
      "1537/1537 - 3s - loss: 0.3759 - accuracy: 0.8456\n",
      "[0.37587451934814453, 0.8455967903137207]\n"
     ]
    }
   ],
   "source": [
    "results = model3.evaluate(X_test,  y_test, verbose=2)\n",
    "\n",
    "print(results)"
   ]
  },
  {
   "cell_type": "markdown",
   "id": "34c7978f",
   "metadata": {},
   "source": [
    "임베딩 벡터 차원과 batch_size를 축소해보았다."
   ]
  },
  {
   "cell_type": "code",
   "execution_count": 35,
   "id": "654c07aa",
   "metadata": {},
   "outputs": [],
   "source": [
    "from tensorflow.keras.layers import GRU\n",
    "word_vector_dim = 100   # 단어 하나를 표현하는 임베딩 벡터의 차원 수\n",
    "\n",
    "model3 = keras.Sequential()\n",
    "model3.add(keras.layers.Embedding(vocab_size, word_vector_dim))\n",
    "model3.add(GRU(128))\n",
    "model3.add(keras.layers.Dense(1, activation='sigmoid'))"
   ]
  },
  {
   "cell_type": "code",
   "execution_count": 36,
   "id": "e4d5b121",
   "metadata": {},
   "outputs": [
    {
     "name": "stdout",
     "output_type": "stream",
     "text": [
      "Epoch 1/15\n",
      "1620/1620 [==============================] - 11s 6ms/step - loss: 0.4596 - accuracy: 0.7615 - val_loss: 0.3568 - val_accuracy: 0.8443\n",
      "Epoch 2/15\n",
      "1620/1620 [==============================] - 10s 6ms/step - loss: 0.3302 - accuracy: 0.8568 - val_loss: 0.3438 - val_accuracy: 0.8483\n",
      "Epoch 3/15\n",
      "1620/1620 [==============================] - 10s 6ms/step - loss: 0.3002 - accuracy: 0.8739 - val_loss: 0.3330 - val_accuracy: 0.8556\n",
      "Epoch 4/15\n",
      "1620/1620 [==============================] - 9s 6ms/step - loss: 0.2758 - accuracy: 0.8869 - val_loss: 0.3218 - val_accuracy: 0.8622\n",
      "Epoch 5/15\n",
      "1620/1620 [==============================] - 10s 6ms/step - loss: 0.2546 - accuracy: 0.8979 - val_loss: 0.3254 - val_accuracy: 0.8586\n",
      "Epoch 6/15\n",
      "1620/1620 [==============================] - 9s 6ms/step - loss: 0.2367 - accuracy: 0.9065 - val_loss: 0.3224 - val_accuracy: 0.8609\n",
      "Epoch 7/15\n",
      "1620/1620 [==============================] - 9s 6ms/step - loss: 0.2204 - accuracy: 0.9131 - val_loss: 0.3339 - val_accuracy: 0.8576\n",
      "Epoch 8/15\n",
      "1620/1620 [==============================] - 10s 6ms/step - loss: 0.2049 - accuracy: 0.9200 - val_loss: 0.3456 - val_accuracy: 0.8555\n",
      "Epoch 9/15\n",
      "1620/1620 [==============================] - 10s 6ms/step - loss: 0.1893 - accuracy: 0.9263 - val_loss: 0.3849 - val_accuracy: 0.8510\n"
     ]
    }
   ],
   "source": [
    "model3.compile(optimizer='rmsprop', loss='binary_crossentropy', metrics=['accuracy'])\n",
    "\n",
    "              \n",
    "epochs=15  # 하이퍼파라미터\n",
    "\n",
    "\n",
    "history3 = model3.fit(partial_x_train,\n",
    "                    partial_y_train,\n",
    "                    epochs=epochs,\n",
    "                    batch_size=64,\n",
    "                    validation_data=(x_val, y_val),\n",
    "                    callbacks=callbacks,\n",
    "                    verbose=1)"
   ]
  },
  {
   "cell_type": "code",
   "execution_count": 37,
   "id": "7c18e5a9",
   "metadata": {},
   "outputs": [
    {
     "name": "stdout",
     "output_type": "stream",
     "text": [
      "1537/1537 - 4s - loss: 0.3983 - accuracy: 0.8448\n",
      "[0.3982711732387543, 0.8447830677032471]\n"
     ]
    }
   ],
   "source": [
    "results = model3.evaluate(X_test,  y_test, verbose=2)\n",
    "\n",
    "print(results)"
   ]
  },
  {
   "cell_type": "markdown",
   "id": "4e5a3d7d",
   "metadata": {},
   "source": [
    "모델3 개선"
   ]
  },
  {
   "cell_type": "markdown",
   "id": "ee107773",
   "metadata": {},
   "source": [
    "모델 다시 정의"
   ]
  },
  {
   "cell_type": "code",
   "execution_count": 38,
   "id": "c2522853",
   "metadata": {},
   "outputs": [],
   "source": [
    "from tensorflow.keras.layers import GRU\n",
    "word_vector_dim = 100   # 단어 하나를 표현하는 임베딩 벡터의 차원 수\n",
    "\n",
    "model3 = keras.Sequential()\n",
    "model3.add(keras.layers.Embedding(vocab_size, word_vector_dim))\n",
    "model3.add(GRU(128))\n",
    "model.add(Dropout(0.2))  # 드롭아웃 추가. 비율은 20%\n",
    "model3.add(keras.layers.Dense(1, activation='sigmoid'))"
   ]
  },
  {
   "cell_type": "markdown",
   "id": "3dac8fb5",
   "metadata": {},
   "source": [
    "모델 학습 및 평가"
   ]
  },
  {
   "cell_type": "code",
   "execution_count": 39,
   "id": "8e232e4e",
   "metadata": {},
   "outputs": [
    {
     "name": "stdout",
     "output_type": "stream",
     "text": [
      "Epoch 1/15\n",
      "1620/1620 [==============================] - 11s 6ms/step - loss: 0.4749 - accuracy: 0.7472 - val_loss: 0.3573 - val_accuracy: 0.8436\n",
      "Epoch 2/15\n",
      "1620/1620 [==============================] - 9s 6ms/step - loss: 0.3318 - accuracy: 0.8572 - val_loss: 0.3399 - val_accuracy: 0.8511\n",
      "Epoch 3/15\n",
      "1620/1620 [==============================] - 10s 6ms/step - loss: 0.3008 - accuracy: 0.8737 - val_loss: 0.3281 - val_accuracy: 0.8571\n",
      "Epoch 4/15\n",
      "1620/1620 [==============================] - 10s 6ms/step - loss: 0.2740 - accuracy: 0.8885 - val_loss: 0.3167 - val_accuracy: 0.8598\n",
      "Epoch 5/15\n",
      "1620/1620 [==============================] - 9s 6ms/step - loss: 0.2528 - accuracy: 0.8990 - val_loss: 0.3215 - val_accuracy: 0.8587\n",
      "Epoch 6/15\n",
      "1620/1620 [==============================] - 10s 6ms/step - loss: 0.2347 - accuracy: 0.9074 - val_loss: 0.3307 - val_accuracy: 0.8600\n",
      "Epoch 7/15\n",
      "1620/1620 [==============================] - 9s 6ms/step - loss: 0.2181 - accuracy: 0.9145 - val_loss: 0.3651 - val_accuracy: 0.8508\n",
      "Epoch 8/15\n",
      "1620/1620 [==============================] - 9s 6ms/step - loss: 0.2016 - accuracy: 0.9218 - val_loss: 0.3530 - val_accuracy: 0.8568\n",
      "Epoch 9/15\n",
      "1620/1620 [==============================] - 9s 6ms/step - loss: 0.1858 - accuracy: 0.9282 - val_loss: 0.4153 - val_accuracy: 0.8235\n"
     ]
    }
   ],
   "source": [
    "model3.compile(optimizer='rmsprop', loss='binary_crossentropy', metrics=['accuracy'])\n",
    "\n",
    "              \n",
    "epochs=15  # 하이퍼파라미터\n",
    "\n",
    "\n",
    "history3 = model3.fit(partial_x_train,\n",
    "                    partial_y_train,\n",
    "                    epochs=epochs,\n",
    "                    batch_size=64,\n",
    "                    validation_data=(x_val, y_val),\n",
    "                    callbacks=callbacks,\n",
    "                    verbose=1)"
   ]
  },
  {
   "cell_type": "code",
   "execution_count": 40,
   "id": "872a7f69",
   "metadata": {},
   "outputs": [
    {
     "name": "stdout",
     "output_type": "stream",
     "text": [
      "1537/1537 - 4s - loss: 0.4369 - accuracy: 0.8127\n",
      "[0.4368743300437927, 0.8127225041389465]\n"
     ]
    }
   ],
   "source": [
    "results = model3.evaluate(X_test,  y_test, verbose=2)\n",
    "\n",
    "print(results)"
   ]
  },
  {
   "cell_type": "code",
   "execution_count": 41,
   "id": "387c8641",
   "metadata": {},
   "outputs": [
    {
     "name": "stdout",
     "output_type": "stream",
     "text": [
      "1537/1537 [==============================] - 4s 2ms/step - loss: 0.3272 - accuracy: 0.8548\n",
      "\n",
      " 테스트 정확도: 0.8548\n"
     ]
    }
   ],
   "source": [
    "from tensorflow.keras.models import load_model\n",
    "\n",
    "loaded_model = load_model('best_model.h5')\n",
    "print(\"\\n 테스트 정확도: %.4f\" % (loaded_model.evaluate(X_test, y_test)[1]))"
   ]
  },
  {
   "cell_type": "markdown",
   "id": "af395e7e",
   "metadata": {},
   "source": [
    "test데이터에 대한 정확도는 85%이다."
   ]
  },
  {
   "cell_type": "markdown",
   "id": "9f53e05d",
   "metadata": {},
   "source": [
    "6) Loss, Accuracy 그래프 시각화"
   ]
  },
  {
   "cell_type": "markdown",
   "id": "3db9c9ad",
   "metadata": {},
   "source": [
    "모델3 시각화"
   ]
  },
  {
   "cell_type": "code",
   "execution_count": 42,
   "id": "2575ff7e",
   "metadata": {},
   "outputs": [
    {
     "name": "stdout",
     "output_type": "stream",
     "text": [
      "dict_keys(['loss', 'accuracy', 'val_loss', 'val_accuracy'])\n"
     ]
    }
   ],
   "source": [
    "history_dict = history3.history\n",
    "print(history_dict.keys()) # epoch에 따른 그래프를 그려볼 수 있는 항목들"
   ]
  },
  {
   "cell_type": "code",
   "execution_count": 43,
   "id": "6c3fcab1",
   "metadata": {},
   "outputs": [
    {
     "data": {
      "image/png": "[encoded data removed]",
      "text/plain": [
       "<Figure size 432x288 with 1 Axes>"
      ]
     },
     "metadata": {
      "needs_background": "light"
     },
     "output_type": "display_data"
    }
   ],
   "source": [
    "acc = history_dict['accuracy']\n",
    "val_acc = history_dict['val_accuracy']\n",
    "loss = history_dict['loss']\n",
    "val_loss = history_dict['val_loss']\n",
    "\n",
    "epochs = range(1, len(acc) + 1)\n",
    "\n",
    "# \"bo\"는 \"파란색 점\"입니다\n",
    "plt.plot(epochs, loss, 'bo', label='Training loss')\n",
    "# b는 \"파란 실선\"입니다\n",
    "plt.plot(epochs, val_loss, 'b', label='Validation loss')\n",
    "plt.title('Training and validation loss')\n",
    "plt.xlabel('Epochs')\n",
    "plt.ylabel('Loss')\n",
    "plt.legend()\n",
    "\n",
    "plt.show()"
   ]
  },
  {
   "cell_type": "code",
   "execution_count": 44,
   "id": "889be2c8",
   "metadata": {},
   "outputs": [
    {
     "data": {
      "image/png": "[encoded data removed]",
      "text/plain": [
       "<Figure size 432x288 with 1 Axes>"
      ]
     },
     "metadata": {
      "needs_background": "light"
     },
     "output_type": "display_data"
    }
   ],
   "source": [
    "plt.clf()   # 그림을 초기화합니다\n",
    "## 모델1 시각화\n",
    "plt.plot(epochs, acc, 'bo', label='Training acc')\n",
    "plt.plot(epochs, val_acc, 'b', label='Validation acc')\n",
    "plt.title('Training and validation accuracy')\n",
    "plt.xlabel('Epochs')\n",
    "plt.ylabel('Accuracy')\n",
    "plt.legend()\n",
    "\n",
    "plt.show()"
   ]
  },
  {
   "cell_type": "markdown",
   "id": "abb77c67",
   "metadata": {},
   "source": [
    "7) 학습된 Embedding 레이어 분석"
   ]
  },
  {
   "cell_type": "code",
   "execution_count": 45,
   "id": "60d8c94d",
   "metadata": {},
   "outputs": [
    {
     "name": "stdout",
     "output_type": "stream",
     "text": [
      "1537/1537 [==============================] - 4s 2ms/step - loss: 0.3272 - accuracy: 0.8548\n",
      "\n",
      " 테스트 정확도: 0.8548\n"
     ]
    }
   ],
   "source": [
    "from tensorflow.keras.models import load_model\n",
    "\n",
    "loaded_model = load_model('best_model.h5')\n",
    "print(\"\\n 테스트 정확도: %.4f\" % (loaded_model.evaluate(X_test, y_test)[1]))"
   ]
  },
  {
   "cell_type": "code",
   "execution_count": 46,
   "id": "bc76853c",
   "metadata": {},
   "outputs": [
    {
     "name": "stdout",
     "output_type": "stream",
     "text": [
      "(30000, 100)\n"
     ]
    }
   ],
   "source": [
    "embedding_layer = loaded_model.layers[0]\n",
    "weights = embedding_layer.get_weights()[0]\n",
    "print(weights.shape)    # shape: (vocab_size, embedding_dim)"
   ]
  },
  {
   "cell_type": "code",
   "execution_count": 47,
   "id": "1d0c351a",
   "metadata": {},
   "outputs": [],
   "source": [
    "import os\n",
    "\n",
    "vocab_size = weights.shape[0]\n",
    "word_vector_dim = weights.shape[1]\n",
    "\n",
    "# 학습한 Embedding 파라미터를 파일에 써서 저장합니다. \n",
    "word2vec_file_path = os.getenv('HOME')+'/aiffel/sentiment_classification/data/word2vec.txt'\n",
    "f = open(word2vec_file_path, 'w')\n",
    "f.write('{} {}\\n'.format(vocab_size-4, word_vector_dim))  # 몇개의 벡터를 얼마 사이즈로 기재할지 타이틀을 씁니다.\n",
    "\n",
    "# 단어 개수(에서 특수문자 4개는 제외하고)만큼의 워드 벡터를 파일에 기록합니다. \n",
    "vectors = loaded_model.get_weights()[0]\n",
    "for i in range(4,vocab_size):\n",
    "    f.write('{} {}\\n'.format(index_to_word[i], ' '.join(map(str, list(vectors[i, :])))))\n",
    "f.close()"
   ]
  },
  {
   "cell_type": "code",
   "execution_count": 48,
   "id": "b8c2d6ce",
   "metadata": {},
   "outputs": [
    {
     "data": {
      "text/plain": [
       "array([ 0.16543026, -0.08785205, -0.02211877, -0.00583439, -0.01294077,\n",
       "        0.08597049,  0.00731607, -0.207857  ,  0.26341426, -0.14873621,\n",
       "       -0.10410136,  0.15215263,  0.00125195, -0.08981722, -0.11994532,\n",
       "       -0.18737926, -0.01870199, -0.03417141, -0.17119819, -0.10630539,\n",
       "       -0.05150998,  0.04988074, -0.07524101, -0.03978757, -0.06972987,\n",
       "        0.10967208, -0.04714815,  0.1781501 ,  0.00857994, -0.02869519,\n",
       "       -0.00451393, -0.176514  , -0.04429872,  0.03828963, -0.09892742,\n",
       "        0.0327227 , -0.07551847,  0.10359889,  0.0889267 , -0.1275245 ,\n",
       "        0.04733416,  0.07215473,  0.02192838,  0.08764781, -0.18299228,\n",
       "        0.128193  , -0.21197301,  0.09047857, -0.14676282,  0.1712235 ,\n",
       "       -0.1440083 , -0.20923282, -0.16531955, -0.16650279,  0.01661986,\n",
       "        0.10873449,  0.05395607, -0.12982695,  0.12091354, -0.07506291,\n",
       "        0.19151494,  0.25633505, -0.06451955,  0.14639701,  0.05255519,\n",
       "       -0.02799005, -0.04820269,  0.02325187,  0.08597124,  0.20836066,\n",
       "       -0.12663579, -0.02402384, -0.2903196 , -0.05442455,  0.18693201,\n",
       "        0.07435457, -0.08110531, -0.10075141, -0.14723468, -0.03822837,\n",
       "        0.10353778,  0.02754589, -0.03971026,  0.04981242, -0.05910597,\n",
       "       -0.08358987,  0.03137997,  0.00154388,  0.05249212,  0.01861154,\n",
       "        0.04882026, -0.09142098, -0.13973436,  0.04707049,  0.04013097,\n",
       "       -0.05328436, -0.0927133 ,  0.0379311 , -0.03425913,  0.10677464],\n",
       "      dtype=float32)"
      ]
     },
     "execution_count": 48,
     "metadata": {},
     "output_type": "execute_result"
    }
   ],
   "source": [
    "from gensim.models.keyedvectors import Word2VecKeyedVectors\n",
    "\n",
    "# 저장한 워드 벡터 다시 로드\n",
    "word_vectors = Word2VecKeyedVectors.load_word2vec_format(word2vec_file_path, binary=False)\n",
    "vector = word_vectors['영화']\n",
    "vector"
   ]
  },
  {
   "cell_type": "markdown",
   "id": "121ead3f",
   "metadata": {},
   "source": [
    "gensim의 Word2VecKeyedVectors는 한국어에 대해서는 제대로 된 결과를 도출하지 못한다."
   ]
  },
  {
   "cell_type": "code",
   "execution_count": 49,
   "id": "ccbbb8b4",
   "metadata": {},
   "outputs": [
    {
     "name": "stdout",
     "output_type": "stream",
     "text": [
      "는다\n",
      "세요\n",
      "고\n",
      "한다는\n",
      "여\n",
      "자꾸\n",
      "임\n",
      "니\n",
      "구\n",
      "스릴러\n"
     ]
    }
   ],
   "source": [
    "keys = []\n",
    "for key, distance in word_vectors.similar_by_word('영화'):\n",
    "    print(key)\n",
    "    keys.append(word_to_index[key])"
   ]
  },
  {
   "cell_type": "markdown",
   "id": "d61eb10a",
   "metadata": {},
   "source": [
    "8) 한국어 Word2Vec 임베딩 활용하여 성능개선"
   ]
  },
  {
   "cell_type": "markdown",
   "id": "dfabaa4c",
   "metadata": {},
   "source": [
    "한국어 Word2Vec 임베딩 활용하기"
   ]
  },
  {
   "cell_type": "code",
   "execution_count": 53,
   "id": "cb9bd871",
   "metadata": {},
   "outputs": [
    {
     "name": "stdout",
     "output_type": "stream",
     "text": [
      "Collecting gensim==3.8.3\n",
      "  Downloading gensim-3.8.3.tar.gz (23.4 MB)\n",
      "     |████████████████████████████████| 23.4 MB 5.9 MB/s            \n",
      "\u001b[?25h  Preparing metadata (setup.py) ... \u001b[?25ldone\n",
      "\u001b[?25hRequirement already satisfied: numpy>=1.11.3 in /opt/conda/lib/python3.9/site-packages (from gensim==3.8.3) (1.21.4)\n",
      "Requirement already satisfied: scipy>=0.18.1 in /opt/conda/lib/python3.9/site-packages (from gensim==3.8.3) (1.7.1)\n",
      "Requirement already satisfied: six>=1.5.0 in /opt/conda/lib/python3.9/site-packages (from gensim==3.8.3) (1.16.0)\n",
      "Requirement already satisfied: smart_open>=1.8.1 in /opt/conda/lib/python3.9/site-packages (from gensim==3.8.3) (5.2.1)\n",
      "Building wheels for collected packages: gensim\n",
      "  Building wheel for gensim (setup.py) ... \u001b[?25ldone\n",
      "\u001b[?25h  Created wheel for gensim: filename=gensim-3.8.3-cp39-cp39-linux_x86_64.whl size=24328218 sha256=81f0a6a55d286f4a0e3acf4facaced3607306282de259f18a2e353291f20cad7\n",
      "  Stored in directory: /aiffel/.cache/pip/wheels/ca/5d/af/618594ec2f28608c1d6ee7d2b7e95a3e9b06551e3b80a491d6\n",
      "Successfully built gensim\n",
      "Installing collected packages: gensim\n",
      "  Attempting uninstall: gensim\n",
      "    Found existing installation: gensim 4.1.2\n",
      "    Uninstalling gensim-4.1.2:\n",
      "      Successfully uninstalled gensim-4.1.2\n",
      "Successfully installed gensim-3.8.3\n",
      "\u001b[33mWARNING: Running pip as the 'root' user can result in broken permissions and conflicting behaviour with the system package manager. It is recommended to use a virtual environment instead: https://pip.pypa.io/warnings/venv\u001b[0m\n"
     ]
    }
   ],
   "source": [
    "!pip install --upgrade gensim==3.8.3"
   ]
  },
  {
   "cell_type": "code",
   "execution_count": 62,
   "id": "ae47c452",
   "metadata": {},
   "outputs": [
    {
     "name": "stdout",
     "output_type": "stream",
     "text": [
      "python: can't open file '/aiffel/aiffel/이지수/8. 영화리뷰 텍스트 감성분석하기/word2vec-api': [Errno 2] No such file or directory\r\n"
     ]
    }
   ],
   "source": [
    "!python word2vec-api --model path/to/the/model [--host host --port 1234]"
   ]
  },
  {
   "cell_type": "code",
   "execution_count": 63,
   "id": "a1ba7b95",
   "metadata": {},
   "outputs": [
    {
     "name": "stdout",
     "output_type": "stream",
     "text": [
      "python: can't open file '/aiffel/aiffel/이지수/8. 영화리뷰 텍스트 감성분석하기/word2vec-api.py': [Errno 2] No such file or directory\r\n"
     ]
    }
   ],
   "source": [
    "!python word2vec-api.py --model /path/to/GoogleNews-vectors-negative300.bin --binary BINARY --path /word2vec --host 0.0.0.0 --port 5000"
   ]
  },
  {
   "cell_type": "code",
   "execution_count": 78,
   "id": "a92e1306",
   "metadata": {},
   "outputs": [],
   "source": [
    "ginsim = gensim.models"
   ]
  },
  {
   "cell_type": "code",
   "execution_count": 95,
   "id": "0fd1805b",
   "metadata": {},
   "outputs": [
    {
     "ename": "AttributeError",
     "evalue": "Can't get attribute 'Vocab' on <module 'gensim.models.word2vec' from '/opt/conda/lib/python3.9/site-packages/gensim/models/word2vec.py'>",
     "output_type": "error",
     "traceback": [
      "\u001b[0;31m---------------------------------------------------------------------------\u001b[0m",
      "\u001b[0;31mAttributeError\u001b[0m                            Traceback (most recent call last)",
      "\u001b[0;32m/tmp/ipykernel_1355/1425868533.py\u001b[0m in \u001b[0;36m<module>\u001b[0;34m\u001b[0m\n\u001b[1;32m      3\u001b[0m \u001b[0;34m\u001b[0m\u001b[0m\n\u001b[1;32m      4\u001b[0m \u001b[0mword2vec_path\u001b[0m \u001b[0;34m=\u001b[0m \u001b[0mos\u001b[0m\u001b[0;34m.\u001b[0m\u001b[0mgetenv\u001b[0m\u001b[0;34m(\u001b[0m\u001b[0;34m'HOME'\u001b[0m\u001b[0;34m)\u001b[0m\u001b[0;34m+\u001b[0m\u001b[0;34m'/aiffel/sentiment_classification/data/ko.bin'\u001b[0m\u001b[0;34m\u001b[0m\u001b[0;34m\u001b[0m\u001b[0m\n\u001b[0;32m----> 5\u001b[0;31m \u001b[0mword2vec\u001b[0m \u001b[0;34m=\u001b[0m \u001b[0mgensim\u001b[0m\u001b[0;34m.\u001b[0m\u001b[0mmodels\u001b[0m\u001b[0;34m.\u001b[0m\u001b[0mWord2Vec\u001b[0m\u001b[0;34m.\u001b[0m\u001b[0mload\u001b[0m\u001b[0;34m(\u001b[0m\u001b[0mword2vec_path\u001b[0m\u001b[0;34m)\u001b[0m\u001b[0;34m\u001b[0m\u001b[0;34m\u001b[0m\u001b[0m\n\u001b[0m",
      "\u001b[0;32m/opt/conda/lib/python3.9/site-packages/gensim/models/word2vec.py\u001b[0m in \u001b[0;36mload\u001b[0;34m(cls, rethrow, *args, **kwargs)\u001b[0m\n",
      "\u001b[0;32m/opt/conda/lib/python3.9/site-packages/gensim/models/word2vec.py\u001b[0m in \u001b[0;36mload\u001b[0;34m(cls, rethrow, *args, **kwargs)\u001b[0m\n",
      "\u001b[0;32m/opt/conda/lib/python3.9/site-packages/gensim/utils.py\u001b[0m in \u001b[0;36mload\u001b[0;34m(cls, fname, mmap)\u001b[0m\n\u001b[1;32m    483\u001b[0m         \u001b[0;32mfor\u001b[0m \u001b[0mattrib\u001b[0m \u001b[0;32min\u001b[0m \u001b[0mgetattr\u001b[0m\u001b[0;34m(\u001b[0m\u001b[0mself\u001b[0m\u001b[0;34m,\u001b[0m \u001b[0;34m'__scipys'\u001b[0m\u001b[0;34m,\u001b[0m \u001b[0;34m[\u001b[0m\u001b[0;34m]\u001b[0m\u001b[0;34m)\u001b[0m\u001b[0;34m:\u001b[0m\u001b[0;34m\u001b[0m\u001b[0;34m\u001b[0m\u001b[0m\n\u001b[1;32m    484\u001b[0m             \u001b[0mlogger\u001b[0m\u001b[0;34m.\u001b[0m\u001b[0minfo\u001b[0m\u001b[0;34m(\u001b[0m\u001b[0;34m\"loading %s from %s with mmap=%s\"\u001b[0m\u001b[0;34m,\u001b[0m \u001b[0mattrib\u001b[0m\u001b[0;34m,\u001b[0m \u001b[0msubname\u001b[0m\u001b[0;34m(\u001b[0m\u001b[0mfname\u001b[0m\u001b[0;34m,\u001b[0m \u001b[0mattrib\u001b[0m\u001b[0;34m)\u001b[0m\u001b[0;34m,\u001b[0m \u001b[0mmmap\u001b[0m\u001b[0;34m)\u001b[0m\u001b[0;34m\u001b[0m\u001b[0;34m\u001b[0m\u001b[0m\n\u001b[0;32m--> 485\u001b[0;31m             \u001b[0msparse\u001b[0m \u001b[0;34m=\u001b[0m \u001b[0munpickle\u001b[0m\u001b[0;34m(\u001b[0m\u001b[0msubname\u001b[0m\u001b[0;34m(\u001b[0m\u001b[0mfname\u001b[0m\u001b[0;34m,\u001b[0m \u001b[0mattrib\u001b[0m\u001b[0;34m)\u001b[0m\u001b[0;34m)\u001b[0m\u001b[0;34m\u001b[0m\u001b[0;34m\u001b[0m\u001b[0m\n\u001b[0m\u001b[1;32m    486\u001b[0m             \u001b[0;32mif\u001b[0m \u001b[0mcompress\u001b[0m\u001b[0;34m:\u001b[0m\u001b[0;34m\u001b[0m\u001b[0;34m\u001b[0m\u001b[0m\n\u001b[1;32m    487\u001b[0m                 \u001b[0;32mif\u001b[0m \u001b[0mmmap\u001b[0m\u001b[0;34m:\u001b[0m\u001b[0;34m\u001b[0m\u001b[0;34m\u001b[0m\u001b[0m\n",
      "\u001b[0;32m/opt/conda/lib/python3.9/site-packages/gensim/utils.py\u001b[0m in \u001b[0;36munpickle\u001b[0;34m(fname)\u001b[0m\n\u001b[1;32m   1458\u001b[0m                     \u001b[0mcategory\u001b[0m\u001b[0;34m=\u001b[0m\u001b[0mDeprecationWarning\u001b[0m\u001b[0;34m,\u001b[0m\u001b[0;34m\u001b[0m\u001b[0;34m\u001b[0m\u001b[0m\n\u001b[1;32m   1459\u001b[0m                     \u001b[0mstacklevel\u001b[0m\u001b[0;34m=\u001b[0m\u001b[0;36m2\u001b[0m\u001b[0;34m\u001b[0m\u001b[0;34m\u001b[0m\u001b[0m\n\u001b[0;32m-> 1460\u001b[0;31m                 )\n\u001b[0m\u001b[1;32m   1461\u001b[0m                 \u001b[0;32mreturn\u001b[0m \u001b[0mfunc\u001b[0m\u001b[0;34m(\u001b[0m\u001b[0;34m*\u001b[0m\u001b[0margs\u001b[0m\u001b[0;34m,\u001b[0m \u001b[0;34m**\u001b[0m\u001b[0mkwargs\u001b[0m\u001b[0;34m)\u001b[0m\u001b[0;34m\u001b[0m\u001b[0;34m\u001b[0m\u001b[0m\n\u001b[1;32m   1462\u001b[0m \u001b[0;34m\u001b[0m\u001b[0m\n",
      "\u001b[0;31mAttributeError\u001b[0m: Can't get attribute 'Vocab' on <module 'gensim.models.word2vec' from '/opt/conda/lib/python3.9/site-packages/gensim/models/word2vec.py'>"
     ]
    }
   ],
   "source": [
    "import gensim\n",
    "import os\n",
    "\n",
    "word2vec_path = os.getenv('HOME')+'/aiffel/sentiment_classification/data/ko.bin'\n",
    "word2vec = gensim.models.Word2Vec.load(word2vec_path)"
   ]
  },
  {
   "cell_type": "code",
   "execution_count": 92,
   "id": "88475a13",
   "metadata": {},
   "outputs": [
    {
     "ename": "NameError",
     "evalue": "name 'A' is not defined",
     "output_type": "error",
     "traceback": [
      "\u001b[0;31m---------------------------------------------------------------------------\u001b[0m",
      "\u001b[0;31mNameError\u001b[0m                                 Traceback (most recent call last)",
      "\u001b[0;32m/tmp/ipykernel_1355/2155296131.py\u001b[0m in \u001b[0;36m<module>\u001b[0;34m\u001b[0m\n\u001b[0;32m----> 1\u001b[0;31m \u001b[0mA\u001b[0m\u001b[0;34m.\u001b[0m\u001b[0mwv\u001b[0m\u001b[0;34m.\u001b[0m\u001b[0mmost_similar\u001b[0m\u001b[0;34m(\u001b[0m\u001b[0;34m'영화'\u001b[0m\u001b[0;34m)\u001b[0m\u001b[0;34m\u001b[0m\u001b[0;34m\u001b[0m\u001b[0m\n\u001b[0m",
      "\u001b[0;31mNameError\u001b[0m: name 'A' is not defined"
     ]
    }
   ],
   "source": [
    "A.wv.most_similar('영화')"
   ]
  },
  {
   "cell_type": "markdown",
   "id": "179226ab",
   "metadata": {},
   "source": [
    "회고"
   ]
  },
  {
   "cell_type": "markdown",
   "id": "c6e8cfbd",
   "metadata": {},
   "source": [
    "마지막 한국어로도  Word2Vec 임베딩 활용하여 성능 개선을 하면 좋을텐데 자꾸 뜻대로 되지 않고 시간은 흘러간다. 결국 이렇게 제출을 하게 되지만 왜 import하는 과정에서 자꾸 AttributeError가 계속 발생하는지에대해 검색해 보았다."
   ]
  },
  {
   "cell_type": "markdown",
   "id": "a076b0ac",
   "metadata": {},
   "source": [
    "결론은 호출한 모듈명과 파일명이 같으면 안된다는 것이었다. 모듈명과 변수명을 똑같이 작성한 것이 원인이 되어 나타기도 했고, 모듈에서 가져올 속성의 이름이 오타가 나서 이 모듈에 이런 속성은 없다면서 AttributeError가 나온 경우도 있었고. 다음부터는 변수 이름을 좀 더 신경써서 짓던가 모듈명을 대충 선언하지 말아야겠다. 오류 문구는 Can't get attribute 'Vocab' on <module 'gensim.models.word2vec' from '/opt/conda/lib/python3.9/site-packages/gensim/models/word2vec.py'>였다. 구글링해보니 AttributeError가 많이 나오는 경우를 볼 수 있었는데, 이 오류들의 사례를 조금 더 알아보며 이리 저리 따라해보고 시도해봐야겠다는 생각이 들었다.\n",
    "\n",
    " "
   ]
  },
  {
   "cell_type": "code",
   "execution_count": null,
   "id": "29f8b108",
   "metadata": {},
   "outputs": [],
   "source": []
  }
 ],
 "metadata": {
  "kernelspec": {
   "display_name": "Python 3 (ipykernel)",
   "language": "python",
   "name": "python3"
  },
  "language_info": {
   "codemirror_mode": {
    "name": "ipython",
    "version": 3
   },
   "file_extension": ".py",
   "mimetype": "text/x-python",
   "name": "python",
   "nbconvert_exporter": "python",
   "pygments_lexer": "ipython3",
   "version": "3.9.7"
  }
 },
 "nbformat": 4,
 "nbformat_minor": 5
}
