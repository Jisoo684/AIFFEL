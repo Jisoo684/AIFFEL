{
 "cells": [
  {
   "cell_type": "code",
   "execution_count": 1,
   "id": "e3ff6c7c",
   "metadata": {},
   "outputs": [
    {
     "name": "stdout",
     "output_type": "stream",
     "text": [
      "3.6.5\n",
      "2.6.0\n",
      "1.2.0\n"
     ]
    }
   ],
   "source": [
    "from importlib.metadata import version\n",
    "import nltk\n",
    "import tensorflow\n",
    "import summa\n",
    "\n",
    "print(nltk.__version__)\n",
    "print(tensorflow.__version__)\n",
    "print(version('summa'))"
   ]
  },
  {
   "cell_type": "markdown",
   "id": "fb9e5f03",
   "metadata": {},
   "source": [
    "Step 1. 데이터 수집하기"
   ]
  },
  {
   "cell_type": "code",
   "execution_count": 2,
   "id": "9df7f5ec",
   "metadata": {},
   "outputs": [],
   "source": [
    "import pandas as pd\n",
    "\n",
    "import urllib.request\n",
    "urllib.request.urlretrieve(\"https://raw.githubusercontent.com/sunnysai12345/News_Summary/master/news_summary_more.csv\", filename=\"news_summary_more.csv\")\n",
    "data = pd.read_csv('news_summary_more.csv', encoding='iso-8859-1')"
   ]
  },
  {
   "cell_type": "code",
   "execution_count": 3,
   "id": "a54d118a",
   "metadata": {},
   "outputs": [
    {
     "data": {
      "text/html": [
       "<div>\n",
       "<style scoped>\n",
       "    .dataframe tbody tr th:only-of-type {\n",
       "        vertical-align: middle;\n",
       "    }\n",
       "\n",
       "    .dataframe tbody tr th {\n",
       "        vertical-align: top;\n",
       "    }\n",
       "\n",
       "    .dataframe thead th {\n",
       "        text-align: right;\n",
       "    }\n",
       "</style>\n",
       "<table border=\"1\" class=\"dataframe\">\n",
       "  <thead>\n",
       "    <tr style=\"text-align: right;\">\n",
       "      <th></th>\n",
       "      <th>headlines</th>\n",
       "      <th>text</th>\n",
       "    </tr>\n",
       "  </thead>\n",
       "  <tbody>\n",
       "    <tr>\n",
       "      <th>28403</th>\n",
       "      <td>Boeing hypersonic jet concept aims UK to US fl...</td>\n",
       "      <td>Aerospace company Boeing has unveiled its hype...</td>\n",
       "    </tr>\n",
       "    <tr>\n",
       "      <th>83898</th>\n",
       "      <td>Trump's 5-year-old real estate prediction prov...</td>\n",
       "      <td>US President Donald Trump's call to buy housin...</td>\n",
       "    </tr>\n",
       "    <tr>\n",
       "      <th>19167</th>\n",
       "      <td>Dipak Misra recommends Ranjan Gogoi as next CJI</td>\n",
       "      <td>Chief Justice of India (CJI) Dipak Misra on Sa...</td>\n",
       "    </tr>\n",
       "    <tr>\n",
       "      <th>12803</th>\n",
       "      <td>FB ads ask 10mn British voters to oppose UK PM...</td>\n",
       "      <td>An anonymous political campaign on Facebook by...</td>\n",
       "    </tr>\n",
       "    <tr>\n",
       "      <th>25165</th>\n",
       "      <td>TV actress Sumona slams UrbanClap over its wax...</td>\n",
       "      <td>Television actress Sumona Chakravarti, known f...</td>\n",
       "    </tr>\n",
       "    <tr>\n",
       "      <th>27555</th>\n",
       "      <td>Bigg Boss makers approach teacher suspended by...</td>\n",
       "      <td>Uttara Pant Bahuguna, the teacher who was susp...</td>\n",
       "    </tr>\n",
       "    <tr>\n",
       "      <th>18502</th>\n",
       "      <td>Apple drops plan for payments in India over RB...</td>\n",
       "      <td>Apple has reportedly shelved plans to launch a...</td>\n",
       "    </tr>\n",
       "    <tr>\n",
       "      <th>14484</th>\n",
       "      <td>Rahul Gandhi performs aarti during Narmada Puj...</td>\n",
       "      <td>Congress President Rahul Gandhi on Saturday pe...</td>\n",
       "    </tr>\n",
       "    <tr>\n",
       "      <th>70017</th>\n",
       "      <td>3 injured as police team attacked by sand mafi...</td>\n",
       "      <td>A six-member police team was attacked by aroun...</td>\n",
       "    </tr>\n",
       "    <tr>\n",
       "      <th>74251</th>\n",
       "      <td>US begins computer-simulated drills amid N Kor...</td>\n",
       "      <td>The US and South Korean forces on Monday began...</td>\n",
       "    </tr>\n",
       "  </tbody>\n",
       "</table>\n",
       "</div>"
      ],
      "text/plain": [
       "                                               headlines  \\\n",
       "28403  Boeing hypersonic jet concept aims UK to US fl...   \n",
       "83898  Trump's 5-year-old real estate prediction prov...   \n",
       "19167    Dipak Misra recommends Ranjan Gogoi as next CJI   \n",
       "12803  FB ads ask 10mn British voters to oppose UK PM...   \n",
       "25165  TV actress Sumona slams UrbanClap over its wax...   \n",
       "27555  Bigg Boss makers approach teacher suspended by...   \n",
       "18502  Apple drops plan for payments in India over RB...   \n",
       "14484  Rahul Gandhi performs aarti during Narmada Puj...   \n",
       "70017  3 injured as police team attacked by sand mafi...   \n",
       "74251  US begins computer-simulated drills amid N Kor...   \n",
       "\n",
       "                                                    text  \n",
       "28403  Aerospace company Boeing has unveiled its hype...  \n",
       "83898  US President Donald Trump's call to buy housin...  \n",
       "19167  Chief Justice of India (CJI) Dipak Misra on Sa...  \n",
       "12803  An anonymous political campaign on Facebook by...  \n",
       "25165  Television actress Sumona Chakravarti, known f...  \n",
       "27555  Uttara Pant Bahuguna, the teacher who was susp...  \n",
       "18502  Apple has reportedly shelved plans to launch a...  \n",
       "14484  Congress President Rahul Gandhi on Saturday pe...  \n",
       "70017  A six-member police team was attacked by aroun...  \n",
       "74251  The US and South Korean forces on Monday began...  "
      ]
     },
     "execution_count": 3,
     "metadata": {},
     "output_type": "execute_result"
    }
   ],
   "source": [
    "data.sample(10)"
   ]
  },
  {
   "attachments": {
    "image.png": {
     "image/png": "[encoded data removed]"
    }
   },
   "cell_type": "markdown",
   "id": "2addd8a8",
   "metadata": {},
   "source": [
    "![image.png](attachment:image.png)"
   ]
  },
  {
   "cell_type": "markdown",
   "id": "cc2ed333",
   "metadata": {},
   "source": [
    "Step 2. 데이터 전처리하기 (추상적 요약)"
   ]
  },
  {
   "attachments": {
    "image.png": {
     "image/png": "[encoded data removed]"
    }
   },
   "cell_type": "markdown",
   "id": "0f21f593",
   "metadata": {},
   "source": [
    "![image.png](attachment:image.png)"
   ]
  },
  {
   "cell_type": "code",
   "execution_count": 4,
   "id": "527cdea7",
   "metadata": {},
   "outputs": [
    {
     "name": "stderr",
     "output_type": "stream",
     "text": [
      "[nltk_data] Downloading package stopwords to /aiffel/nltk_data...\n",
      "[nltk_data]   Package stopwords is already up-to-date!\n"
     ]
    }
   ],
   "source": [
    "import nltk\n",
    "nltk.download('stopwords')\n",
    "from nltk.corpus import stopwords\n",
    "from bs4 import BeautifulSoup\n",
    "import re\n",
    "import numpy as np\n",
    "from tensorflow.keras.preprocessing.text import Tokenizer\n",
    "from tensorflow.keras.preprocessing.sequence import pad_sequences"
   ]
  },
  {
   "cell_type": "code",
   "execution_count": 5,
   "id": "91d50a41",
   "metadata": {},
   "outputs": [
    {
     "name": "stdout",
     "output_type": "stream",
     "text": [
      "Text 열에서 중복을 배제한 유일한 샘플의 수 : 98360\n",
      "Summary 열에서 중복을 배제한 유일한 샘플의 수 : 98280\n"
     ]
    }
   ],
   "source": [
    "data.rename(columns={'headlines':'Summary', 'text':'Text'}, inplace = True)\n",
    "\n",
    "print('Text 열에서 중복을 배제한 유일한 샘플의 수 :', data['Text'].nunique())\n",
    "print('Summary 열에서 중복을 배제한 유일한 샘플의 수 :', data['Summary'].nunique())"
   ]
  },
  {
   "cell_type": "code",
   "execution_count": 6,
   "id": "9dd1e520",
   "metadata": {},
   "outputs": [
    {
     "name": "stdout",
     "output_type": "stream",
     "text": [
      "전체 샘플수 : 98360\n"
     ]
    }
   ],
   "source": [
    "# inplace=True 를 설정하면 DataFrame 타입 값을 return 하지 않고 data 내부를 직접적으로 바꿉니다\n",
    "data.drop_duplicates(subset = ['Text'], inplace=True)\n",
    "print('전체 샘플수 :', (len(data)))"
   ]
  },
  {
   "cell_type": "code",
   "execution_count": 7,
   "id": "21ba2626",
   "metadata": {},
   "outputs": [
    {
     "name": "stdout",
     "output_type": "stream",
     "text": [
      "Summary    0\n",
      "Text       0\n",
      "dtype: int64\n"
     ]
    }
   ],
   "source": [
    "print(data.isnull().sum())  # 결측치 개수 확인"
   ]
  },
  {
   "cell_type": "code",
   "execution_count": 8,
   "id": "a9d0bb69",
   "metadata": {},
   "outputs": [
    {
     "name": "stdout",
     "output_type": "stream",
     "text": [
      "정규화 사전의 수:  120\n"
     ]
    }
   ],
   "source": [
    "contractions = {\"ain't\": \"is not\", \"aren't\": \"are not\",\"can't\": \"cannot\", \"'cause\": \"because\", \"could've\": \"could have\", \"couldn't\": \"could not\",\n",
    "                           \"didn't\": \"did not\",  \"doesn't\": \"does not\", \"don't\": \"do not\", \"hadn't\": \"had not\", \"hasn't\": \"has not\", \"haven't\": \"have not\",\n",
    "                           \"he'd\": \"he would\",\"he'll\": \"he will\", \"he's\": \"he is\", \"how'd\": \"how did\", \"how'd'y\": \"how do you\", \"how'll\": \"how will\", \"how's\": \"how is\",\n",
    "                           \"I'd\": \"I would\", \"I'd've\": \"I would have\", \"I'll\": \"I will\", \"I'll've\": \"I will have\",\"I'm\": \"I am\", \"I've\": \"I have\", \"i'd\": \"i would\",\n",
    "                           \"i'd've\": \"i would have\", \"i'll\": \"i will\",  \"i'll've\": \"i will have\",\"i'm\": \"i am\", \"i've\": \"i have\", \"isn't\": \"is not\", \"it'd\": \"it would\",\n",
    "                           \"it'd've\": \"it would have\", \"it'll\": \"it will\", \"it'll've\": \"it will have\",\"it's\": \"it is\", \"let's\": \"let us\", \"ma'am\": \"madam\",\n",
    "                           \"mayn't\": \"may not\", \"might've\": \"might have\",\"mightn't\": \"might not\",\"mightn't've\": \"might not have\", \"must've\": \"must have\",\n",
    "                           \"mustn't\": \"must not\", \"mustn't've\": \"must not have\", \"needn't\": \"need not\", \"needn't've\": \"need not have\",\"o'clock\": \"of the clock\",\n",
    "                           \"oughtn't\": \"ought not\", \"oughtn't've\": \"ought not have\", \"shan't\": \"shall not\", \"sha'n't\": \"shall not\", \"shan't've\": \"shall not have\",\n",
    "                           \"she'd\": \"she would\", \"she'd've\": \"she would have\", \"she'll\": \"she will\", \"she'll've\": \"she will have\", \"she's\": \"she is\",\n",
    "                           \"should've\": \"should have\", \"shouldn't\": \"should not\", \"shouldn't've\": \"should not have\", \"so've\": \"so have\",\"so's\": \"so as\",\n",
    "                           \"this's\": \"this is\",\"that'd\": \"that would\", \"that'd've\": \"that would have\", \"that's\": \"that is\", \"there'd\": \"there would\",\n",
    "                           \"there'd've\": \"there would have\", \"there's\": \"there is\", \"here's\": \"here is\",\"they'd\": \"they would\", \"they'd've\": \"they would have\",\n",
    "                           \"they'll\": \"they will\", \"they'll've\": \"they will have\", \"they're\": \"they are\", \"they've\": \"they have\", \"to've\": \"to have\",\n",
    "                           \"wasn't\": \"was not\", \"we'd\": \"we would\", \"we'd've\": \"we would have\", \"we'll\": \"we will\", \"we'll've\": \"we will have\", \"we're\": \"we are\",\n",
    "                           \"we've\": \"we have\", \"weren't\": \"were not\", \"what'll\": \"what will\", \"what'll've\": \"what will have\", \"what're\": \"what are\",\n",
    "                           \"what's\": \"what is\", \"what've\": \"what have\", \"when's\": \"when is\", \"when've\": \"when have\", \"where'd\": \"where did\", \"where's\": \"where is\",\n",
    "                           \"where've\": \"where have\", \"who'll\": \"who will\", \"who'll've\": \"who will have\", \"who's\": \"who is\", \"who've\": \"who have\",\n",
    "                           \"why's\": \"why is\", \"why've\": \"why have\", \"will've\": \"will have\", \"won't\": \"will not\", \"won't've\": \"will not have\",\n",
    "                           \"would've\": \"would have\", \"wouldn't\": \"would not\", \"wouldn't've\": \"would not have\", \"y'all\": \"you all\",\n",
    "                           \"y'all'd\": \"you all would\",\"y'all'd've\": \"you all would have\",\"y'all're\": \"you all are\",\"y'all've\": \"you all have\",\n",
    "                           \"you'd\": \"you would\", \"you'd've\": \"you would have\", \"you'll\": \"you will\", \"you'll've\": \"you will have\",\n",
    "                           \"you're\": \"you are\", \"you've\": \"you have\"}\n",
    "\n",
    "print(\"정규화 사전의 수: \",len(contractions))"
   ]
  },
  {
   "cell_type": "code",
   "execution_count": 9,
   "id": "18aab365",
   "metadata": {},
   "outputs": [
    {
     "name": "stdout",
     "output_type": "stream",
     "text": [
      "불용어 개수 : 179\n",
      "['i', 'me', 'my', 'myself', 'we', 'our', 'ours', 'ourselves', 'you', \"you're\", \"you've\", \"you'll\", \"you'd\", 'your', 'yours', 'yourself', 'yourselves', 'he', 'him', 'his', 'himself', 'she', \"she's\", 'her', 'hers', 'herself', 'it', \"it's\", 'its', 'itself', 'they', 'them', 'their', 'theirs', 'themselves', 'what', 'which', 'who', 'whom', 'this', 'that', \"that'll\", 'these', 'those', 'am', 'is', 'are', 'was', 'were', 'be', 'been', 'being', 'have', 'has', 'had', 'having', 'do', 'does', 'did', 'doing', 'a', 'an', 'the', 'and', 'but', 'if', 'or', 'because', 'as', 'until', 'while', 'of', 'at', 'by', 'for', 'with', 'about', 'against', 'between', 'into', 'through', 'during', 'before', 'after', 'above', 'below', 'to', 'from', 'up', 'down', 'in', 'out', 'on', 'off', 'over', 'under', 'again', 'further', 'then', 'once', 'here', 'there', 'when', 'where', 'why', 'how', 'all', 'any', 'both', 'each', 'few', 'more', 'most', 'other', 'some', 'such', 'no', 'nor', 'not', 'only', 'own', 'same', 'so', 'than', 'too', 'very', 's', 't', 'can', 'will', 'just', 'don', \"don't\", 'should', \"should've\", 'now', 'd', 'll', 'm', 'o', 're', 've', 'y', 'ain', 'aren', \"aren't\", 'couldn', \"couldn't\", 'didn', \"didn't\", 'doesn', \"doesn't\", 'hadn', \"hadn't\", 'hasn', \"hasn't\", 'haven', \"haven't\", 'isn', \"isn't\", 'ma', 'mightn', \"mightn't\", 'mustn', \"mustn't\", 'needn', \"needn't\", 'shan', \"shan't\", 'shouldn', \"shouldn't\", 'wasn', \"wasn't\", 'weren', \"weren't\", 'won', \"won't\", 'wouldn', \"wouldn't\"]\n"
     ]
    }
   ],
   "source": [
    "print('불용어 개수 :', len(stopwords.words('english') ))\n",
    "print(stopwords.words('english'))"
   ]
  },
  {
   "cell_type": "markdown",
   "id": "ca2b5bb0",
   "metadata": {},
   "source": [
    " 약어를 정규화를 하는 만큼 불용어 정리 (연산 속도 개선)"
   ]
  },
  {
   "cell_type": "code",
   "execution_count": 10,
   "id": "282f0764",
   "metadata": {},
   "outputs": [],
   "source": [
    "contractions_keys = contractions.keys()"
   ]
  },
  {
   "cell_type": "code",
   "execution_count": 11,
   "id": "d30057b3",
   "metadata": {},
   "outputs": [],
   "source": [
    "stopwords_temp = [x for x in stopwords.words('english') if x not in contractions_keys]"
   ]
  },
  {
   "cell_type": "code",
   "execution_count": 12,
   "id": "f46bad41",
   "metadata": {},
   "outputs": [
    {
     "name": "stdout",
     "output_type": "stream",
     "text": [
      "154\n"
     ]
    },
    {
     "data": {
      "text/plain": [
       "['i',\n",
       " 'me',\n",
       " 'my',\n",
       " 'myself',\n",
       " 'we',\n",
       " 'our',\n",
       " 'ours',\n",
       " 'ourselves',\n",
       " 'you',\n",
       " 'your',\n",
       " 'yours',\n",
       " 'yourself',\n",
       " 'yourselves',\n",
       " 'he',\n",
       " 'him',\n",
       " 'his',\n",
       " 'himself',\n",
       " 'she',\n",
       " 'her',\n",
       " 'hers',\n",
       " 'herself',\n",
       " 'it',\n",
       " 'its',\n",
       " 'itself',\n",
       " 'they',\n",
       " 'them',\n",
       " 'their',\n",
       " 'theirs',\n",
       " 'themselves',\n",
       " 'what',\n",
       " 'which',\n",
       " 'who',\n",
       " 'whom',\n",
       " 'this',\n",
       " 'that',\n",
       " \"that'll\",\n",
       " 'these',\n",
       " 'those',\n",
       " 'am',\n",
       " 'is',\n",
       " 'are',\n",
       " 'was',\n",
       " 'were',\n",
       " 'be',\n",
       " 'been',\n",
       " 'being',\n",
       " 'have',\n",
       " 'has',\n",
       " 'had',\n",
       " 'having',\n",
       " 'do',\n",
       " 'does',\n",
       " 'did',\n",
       " 'doing',\n",
       " 'a',\n",
       " 'an',\n",
       " 'the',\n",
       " 'and',\n",
       " 'but',\n",
       " 'if',\n",
       " 'or',\n",
       " 'because',\n",
       " 'as',\n",
       " 'until',\n",
       " 'while',\n",
       " 'of',\n",
       " 'at',\n",
       " 'by',\n",
       " 'for',\n",
       " 'with',\n",
       " 'about',\n",
       " 'against',\n",
       " 'between',\n",
       " 'into',\n",
       " 'through',\n",
       " 'during',\n",
       " 'before',\n",
       " 'after',\n",
       " 'above',\n",
       " 'below',\n",
       " 'to',\n",
       " 'from',\n",
       " 'up',\n",
       " 'down',\n",
       " 'in',\n",
       " 'out',\n",
       " 'on',\n",
       " 'off',\n",
       " 'over',\n",
       " 'under',\n",
       " 'again',\n",
       " 'further',\n",
       " 'then',\n",
       " 'once',\n",
       " 'here',\n",
       " 'there',\n",
       " 'when',\n",
       " 'where',\n",
       " 'why',\n",
       " 'how',\n",
       " 'all',\n",
       " 'any',\n",
       " 'both',\n",
       " 'each',\n",
       " 'few',\n",
       " 'more',\n",
       " 'most',\n",
       " 'other',\n",
       " 'some',\n",
       " 'such',\n",
       " 'no',\n",
       " 'nor',\n",
       " 'not',\n",
       " 'only',\n",
       " 'own',\n",
       " 'same',\n",
       " 'so',\n",
       " 'than',\n",
       " 'too',\n",
       " 'very',\n",
       " 's',\n",
       " 't',\n",
       " 'can',\n",
       " 'will',\n",
       " 'just',\n",
       " 'don',\n",
       " 'should',\n",
       " 'now',\n",
       " 'd',\n",
       " 'll',\n",
       " 'm',\n",
       " 'o',\n",
       " 're',\n",
       " 've',\n",
       " 'y',\n",
       " 'ain',\n",
       " 'aren',\n",
       " 'couldn',\n",
       " 'didn',\n",
       " 'doesn',\n",
       " 'hadn',\n",
       " 'hasn',\n",
       " 'haven',\n",
       " 'isn',\n",
       " 'ma',\n",
       " 'mightn',\n",
       " 'mustn',\n",
       " 'needn',\n",
       " 'shan',\n",
       " 'shouldn',\n",
       " 'wasn',\n",
       " 'weren',\n",
       " 'won',\n",
       " 'wouldn']"
      ]
     },
     "execution_count": 12,
     "metadata": {},
     "output_type": "execute_result"
    }
   ],
   "source": [
    "print(len(stopwords_temp))\n",
    "stopwords_temp"
   ]
  },
  {
   "cell_type": "code",
   "execution_count": 13,
   "id": "43cf6998",
   "metadata": {},
   "outputs": [],
   "source": [
    "stopwords_new = ['i', 'me', 'my', 'myself', 'we', 'our', 'ours', 'ourselves', 'you', 'your', 'yours', 'yourself', 'yourselves', 'he', 'him', 'his', 'himself', 'she', 'her', 'hers', 'herself', 'it', 'its', 'itself', 'they', 'them', 'their', 'theirs', 'themselves', 'what', 'which', 'who', 'whom', 'this', 'that', \"that'll\", 'these', 'those', 'am', 'is', 'are', 'was', 'were', 'be', 'been', 'being', 'have', 'has', 'had', 'having', 'do', 'does', 'did', 'doing', 'a', 'an', 'the', 'and', 'but', 'if', 'or', 'because', 'as', 'until', 'while', 'of', 'at', 'by', 'for', 'with', 'about', 'against', 'between', 'into', 'through', 'during', 'before', 'after', 'above', 'below', 'to', 'from', 'up', 'down', 'in', 'out', 'on', 'off', 'over', 'under', 'again', 'further', 'then', 'once', 'here', 'there', 'when', 'where', 'why', 'how', 'all', 'any', 'both', 'each', 'few', 'more', 'most', 'other', 'some', 'such', 'no', 'nor', 'not', 'only', 'own', 'same', 'so', 'than', 'too', 'very', 'can', 'will', 'just', 'don', 'should', 'now']"
   ]
  },
  {
   "cell_type": "code",
   "execution_count": 14,
   "id": "4d05e1c4",
   "metadata": {},
   "outputs": [
    {
     "name": "stdout",
     "output_type": "stream",
     "text": [
      "=3\n"
     ]
    }
   ],
   "source": [
    "# 데이터 전처리 함수\n",
    "def preprocess_sentence(sentence, remove_stopwords=True):\n",
    "    sentence = sentence.lower() # 텍스트 소문자화\n",
    "    sentence = BeautifulSoup(sentence, \"lxml\").text # <br />, <a href = ...> 등의 html 태그 제거\n",
    "    sentence = re.sub(r'\\([^)]*\\)', '', sentence) # 괄호로 닫힌 문자열 (...) 제거 Ex) my husband (and myself!) for => my husband for\n",
    "    sentence = re.sub('\"','', sentence) # 쌍따옴표 \" 제거\n",
    "    sentence = ' '.join([contractions[t] if t in contractions else t for t in sentence.split(\" \")]) # 약어 정규화\n",
    "    sentence = re.sub(r\"'s\\b\",\"\", sentence) # 소유격 제거. Ex) roland's -> roland\n",
    "    sentence = re.sub(\"[^a-zA-Z]\", \" \", sentence) # 영어 외 문자(숫자, 특수문자 등) 공백으로 변환\n",
    "    sentence = re.sub('[m]{2,}', 'mm', sentence) # m이 3개 이상이면 2개로 변경. Ex) ummmmmmm yeah -> umm yeah\n",
    "    \n",
    "    # 불용어 제거 (Text)\n",
    "    if remove_stopwords:\n",
    "        tokens = ' '.join(word for word in sentence.split() if not word in stopwords.words('english') if len(word) > 1)\n",
    "    # 불용어 미제거 (Summary)\n",
    "    else:\n",
    "        tokens = ' '.join(word for word in sentence.split() if len(word) > 1)\n",
    "    return tokens\n",
    "print('=3')"
   ]
  },
  {
   "cell_type": "code",
   "execution_count": 15,
   "id": "36f5bd7e",
   "metadata": {},
   "outputs": [
    {
     "data": {
      "text/plain": [
       "4"
      ]
     },
     "execution_count": 15,
     "metadata": {},
     "output_type": "execute_result"
    }
   ],
   "source": [
    "import multiprocessing as mp\n",
    "mp.cpu_count()"
   ]
  },
  {
   "cell_type": "code",
   "execution_count": 16,
   "id": "1b2e6acb",
   "metadata": {},
   "outputs": [
    {
     "name": "stdout",
     "output_type": "stream",
     "text": [
      "307.187132358551  seconds\n",
      "['saurav kant alumnus upgrad iiit pg program machine learning artificial intelligence sr systems engineer infosys almost years work experience program upgrad degree career support helped transition data scientist tech mahindra salary hike upgrad online power learning powered lakh careers'\n",
      " 'kunal shah credit card bill payment platform cred gave users chance win free food swiggy one year pranav kaushik delhi techie bagged reward spending cred coins users get one cred coin per rupee bill paid used avail rewards brands like ixigo bookmyshow ubereats cult fit'\n",
      " 'new zealand defeated india wickets fourth odi hamilton thursday win first match five match odi series india lost international match rohit sharma captaincy consecutive victories dating back march match witnessed india getting seventh lowest total odi cricket history'\n",
      " ...\n",
      " 'according reports new version science fiction film matrix development michael jordan reportedly play lead role film screenwriter zak penn talks write script film reports added actor keanu reeves starred original film followed two sequels'\n",
      " 'new music video shows rapper snoop dogg aiming toy gun clown character parodying us president donald trump video also shows tv airing news conference headline ronald klump wants deport doggs airing live clown house video remixed version song lavender'\n",
      " 'madhesi morcha alliance seven political parties withdrawn support pm pushpa kamal dahal led nepal government failed meet seven day ultimatum fulfil demands including endorsement revised constitution amendment bill morcha seats parliament despite withdrawal support immediate threat government']\n",
      "9.015372514724731  seconds\n",
      "['upgrad learner switches to career in ml al with salary hike'\n",
      " 'delhi techie wins free food from swiggy for one year on cred'\n",
      " 'new zealand end rohit sharma led india match winning streak' ...\n",
      " 'the matrix film to get reboot reports'\n",
      " 'snoop dogg aims gun at clown dressed as trump in new video'\n",
      " 'madhesi morcha withdraws support to nepalese government']\n"
     ]
    }
   ],
   "source": [
    "import multiprocessing as mp   # 멀티 프로세싱으로 전처리 속도를 획기적으로 줄여봅시다\n",
    "from multiprocessing import Pool\n",
    "import numpy as np\n",
    "import time\n",
    "from functools import partial  # map을 할 때 함수에 여러 인자를 넣어줄 수 있도록 합니다\n",
    "\n",
    "start = time.time()\n",
    "\n",
    "# num_cores 만큼 쪼개진 데이터를 전처리하여 반환합니다\n",
    "def appendTexts(sentences, remove_stopwords):\n",
    "    texts = []\n",
    "    for s in sentences:\n",
    "        texts += preprocess_sentence(s, remove_stopwords),\n",
    "    return texts\n",
    "\n",
    "def preprocess_data(data, remove_stopwords=True):\n",
    "    start_time = time.time()\n",
    "    num_cores = mp.cpu_count()  # 컴퓨터의 코어 수를 구합니다\n",
    "\n",
    "    text_data_split = np.array_split(data, num_cores)  # 코어 수만큼 데이터를 배분하여 병렬적으로 처리할 수 있게 합니다\n",
    "    pool = Pool(num_cores)\n",
    "\n",
    "    processed_data = np.concatenate(pool.map(partial(appendTexts, remove_stopwords=remove_stopwords), text_data_split))  # 각자 작업한 데이터를 하나로 합쳐줍니다\n",
    "    pool.close()\n",
    "    pool.join()\n",
    "    print(time.time() - start_time, \" seconds\")\n",
    "    return processed_data\n",
    "\n",
    "clean_text = preprocess_data(data['Text'])  # 클라우드 기준으로 3~4분 정도 소요 됩니다\n",
    "print(clean_text)\n",
    "\n",
    "clean_summary = preprocess_data(data['Summary'], remove_stopwords=False) # 클라우드 기준 1분정도 소요됩니다.\n",
    "print(clean_summary)"
   ]
  },
  {
   "cell_type": "markdown",
   "id": "ee8ff4b7",
   "metadata": {},
   "source": [
    "전처리 후 결측치 다시 제거"
   ]
  },
  {
   "cell_type": "code",
   "execution_count": 17,
   "id": "ae1f77ef",
   "metadata": {},
   "outputs": [],
   "source": [
    "data['Text'] = clean_text\n",
    "data['Summary'] = clean_summary\n",
    "\n",
    "# 빈 값을 Null 값으로 변환\n",
    "data.replace('', np.nan, inplace=True)"
   ]
  },
  {
   "cell_type": "code",
   "execution_count": 18,
   "id": "bbef05cd",
   "metadata": {},
   "outputs": [
    {
     "data": {
      "text/plain": [
       "Summary    0\n",
       "Text       0\n",
       "dtype: int64"
      ]
     },
     "execution_count": 18,
     "metadata": {},
     "output_type": "execute_result"
    }
   ],
   "source": [
    "data.isnull().sum()"
   ]
  },
  {
   "cell_type": "code",
   "execution_count": 19,
   "id": "67aab09f",
   "metadata": {},
   "outputs": [
    {
     "name": "stdout",
     "output_type": "stream",
     "text": [
      "전체 샘플수 : 98360\n"
     ]
    }
   ],
   "source": [
    "data.dropna(axis=0, inplace=True)\n",
    "print('전체 샘플수 :', (len(data)))"
   ]
  },
  {
   "cell_type": "markdown",
   "id": "80b30ce2",
   "metadata": {},
   "source": [
    "샘플의 최대 길이 정하기"
   ]
  },
  {
   "cell_type": "markdown",
   "id": "819430ea",
   "metadata": {},
   "source": [
    "텍스트의 길이 분포"
   ]
  },
  {
   "cell_type": "code",
   "execution_count": 20,
   "id": "7cc32937",
   "metadata": {},
   "outputs": [
    {
     "name": "stdout",
     "output_type": "stream",
     "text": [
      "텍스트의 최소 길이 : 1\n",
      "텍스트의 최대 길이 : 60\n",
      "텍스트의 평균 길이 : 35.09968483123221\n",
      "요약의 최소 길이 : 1\n",
      "요약의 최대 길이 : 16\n",
      "요약의 평균 길이 : 9.299532330215534\n"
     ]
    },
    {
     "data": {
      "image/png": "[encoded data removed]",
      "text/plain": [
       "<Figure size 432x288 with 2 Axes>"
      ]
     },
     "metadata": {
      "needs_background": "light"
     },
     "output_type": "display_data"
    },
    {
     "data": {
      "image/png": "[encoded data removed]",
      "text/plain": [
       "<Figure size 432x288 with 1 Axes>"
      ]
     },
     "metadata": {
      "needs_background": "light"
     },
     "output_type": "display_data"
    },
    {
     "data": {
      "image/png": "[encoded data removed]",
      "text/plain": [
       "<Figure size 432x288 with 1 Axes>"
      ]
     },
     "metadata": {
      "needs_background": "light"
     },
     "output_type": "display_data"
    }
   ],
   "source": [
    "# 길이 분포 출력\n",
    "import matplotlib.pyplot as plt\n",
    "\n",
    "text_len = [len(s.split()) for s in data['Text']]\n",
    "summary_len = [len(s.split()) for s in data['Summary']]\n",
    "\n",
    "print('텍스트의 최소 길이 : {}'.format(np.min(text_len)))\n",
    "print('텍스트의 최대 길이 : {}'.format(np.max(text_len)))\n",
    "print('텍스트의 평균 길이 : {}'.format(np.mean(text_len)))\n",
    "print('요약의 최소 길이 : {}'.format(np.min(summary_len)))\n",
    "print('요약의 최대 길이 : {}'.format(np.max(summary_len)))\n",
    "print('요약의 평균 길이 : {}'.format(np.mean(summary_len)))\n",
    "\n",
    "plt.subplot(1,2,1)\n",
    "plt.boxplot(summary_len)\n",
    "plt.title('Summary')\n",
    "plt.subplot(1,2,2)\n",
    "plt.boxplot(text_len)\n",
    "plt.title('Text')\n",
    "plt.tight_layout()\n",
    "plt.show()\n",
    "\n",
    "plt.title('Summary')\n",
    "plt.hist(summary_len, bins = 40)\n",
    "plt.xlabel('length of samples')\n",
    "plt.ylabel('number of samples')\n",
    "plt.show()\n",
    "\n",
    "plt.title('Text')\n",
    "plt.hist(text_len, bins = 40)\n",
    "plt.xlabel('length of samples')\n",
    "plt.ylabel('number of samples')\n",
    "plt.show()"
   ]
  },
  {
   "cell_type": "markdown",
   "id": "4f8354af",
   "metadata": {},
   "source": [
    "최대길이조건을 만족하는 샘플 비율 확인"
   ]
  },
  {
   "cell_type": "code",
   "execution_count": 21,
   "id": "17db0735",
   "metadata": {},
   "outputs": [],
   "source": [
    "def below_threshold_len(max_len, nested_list):\n",
    "    cnt = 0\n",
    "    for s in nested_list:\n",
    "        if (len(s.split()) <= max_len):\n",
    "            cnt = cnt + 1\n",
    "    print('전체 샘플 중 길이가 %s 이하인 샘플의 비율: %s'%(max_len, (cnt / len(nested_list))))"
   ]
  },
  {
   "cell_type": "code",
   "execution_count": 22,
   "id": "f83bf527",
   "metadata": {},
   "outputs": [
    {
     "name": "stdout",
     "output_type": "stream",
     "text": [
      "전체 샘플 중 길이가 40 이하인 샘플의 비율: 0.9238714924766165\n",
      "전체 샘플 중 길이가 14 이하인 샘플의 비율: 0.9997763318422123\n"
     ]
    }
   ],
   "source": [
    "text_max_len = 40\n",
    "summary_max_len = 14\n",
    "\n",
    "# 이렇게 만든 함수를 Text와 Summary에 적용해 우리가 결정한 임의의 길이가 몇%의 샘플까지 포함하는지 볼 수 있다.\n",
    "below_threshold_len(text_max_len, data['Text'])\n",
    "below_threshold_len(summary_max_len,  data['Summary'])"
   ]
  },
  {
   "cell_type": "code",
   "execution_count": 23,
   "id": "e0957dad",
   "metadata": {},
   "outputs": [
    {
     "name": "stdout",
     "output_type": "stream",
     "text": [
      "전체 샘플수 : 90852\n"
     ]
    }
   ],
   "source": [
    "data = data[data['Text'].apply(lambda x: len(x.split()) <= text_max_len)]\n",
    "data = data[data['Summary'].apply(lambda x: len(x.split()) <= summary_max_len)]\n",
    "print('전체 샘플수 :', (len(data)))"
   ]
  },
  {
   "cell_type": "markdown",
   "id": "eb38687f",
   "metadata": {},
   "source": [
    "훈련데이터, 테스트데이터 분리"
   ]
  },
  {
   "cell_type": "markdown",
   "id": "868c098b",
   "metadata": {},
   "source": [
    "\n",
    "target데이터에 시작 토큰, 종료 토큰 추가"
   ]
  },
  {
   "cell_type": "code",
   "execution_count": 24,
   "id": "5992e98a",
   "metadata": {},
   "outputs": [
    {
     "data": {
      "text/html": [
       "<div>\n",
       "<style scoped>\n",
       "    .dataframe tbody tr th:only-of-type {\n",
       "        vertical-align: middle;\n",
       "    }\n",
       "\n",
       "    .dataframe tbody tr th {\n",
       "        vertical-align: top;\n",
       "    }\n",
       "\n",
       "    .dataframe thead th {\n",
       "        text-align: right;\n",
       "    }\n",
       "</style>\n",
       "<table border=\"1\" class=\"dataframe\">\n",
       "  <thead>\n",
       "    <tr style=\"text-align: right;\">\n",
       "      <th></th>\n",
       "      <th>Summary</th>\n",
       "      <th>Text</th>\n",
       "      <th>decoder_input</th>\n",
       "      <th>decoder_target</th>\n",
       "    </tr>\n",
       "  </thead>\n",
       "  <tbody>\n",
       "    <tr>\n",
       "      <th>0</th>\n",
       "      <td>upgrad learner switches to career in ml al wit...</td>\n",
       "      <td>saurav kant alumnus upgrad iiit pg program mac...</td>\n",
       "      <td>sostoken upgrad learner switches to career in ...</td>\n",
       "      <td>upgrad learner switches to career in ml al wit...</td>\n",
       "    </tr>\n",
       "    <tr>\n",
       "      <th>2</th>\n",
       "      <td>new zealand end rohit sharma led india match w...</td>\n",
       "      <td>new zealand defeated india wickets fourth odi ...</td>\n",
       "      <td>sostoken new zealand end rohit sharma led indi...</td>\n",
       "      <td>new zealand end rohit sharma led india match w...</td>\n",
       "    </tr>\n",
       "    <tr>\n",
       "      <th>3</th>\n",
       "      <td>aegon life iterm insurance plan helps customer...</td>\n",
       "      <td>aegon life iterm insurance plan customers enjo...</td>\n",
       "      <td>sostoken aegon life iterm insurance plan helps...</td>\n",
       "      <td>aegon life iterm insurance plan helps customer...</td>\n",
       "    </tr>\n",
       "    <tr>\n",
       "      <th>4</th>\n",
       "      <td>have known hirani for yrs what if metoo claims...</td>\n",
       "      <td>speaking sexual harassment allegations rajkuma...</td>\n",
       "      <td>sostoken have known hirani for yrs what if met...</td>\n",
       "      <td>have known hirani for yrs what if metoo claims...</td>\n",
       "    </tr>\n",
       "    <tr>\n",
       "      <th>5</th>\n",
       "      <td>rahat fateh ali khan denies getting notice for...</td>\n",
       "      <td>pakistani singer rahat fateh ali khan denied r...</td>\n",
       "      <td>sostoken rahat fateh ali khan denies getting n...</td>\n",
       "      <td>rahat fateh ali khan denies getting notice for...</td>\n",
       "    </tr>\n",
       "  </tbody>\n",
       "</table>\n",
       "</div>"
      ],
      "text/plain": [
       "                                             Summary  \\\n",
       "0  upgrad learner switches to career in ml al wit...   \n",
       "2  new zealand end rohit sharma led india match w...   \n",
       "3  aegon life iterm insurance plan helps customer...   \n",
       "4  have known hirani for yrs what if metoo claims...   \n",
       "5  rahat fateh ali khan denies getting notice for...   \n",
       "\n",
       "                                                Text  \\\n",
       "0  saurav kant alumnus upgrad iiit pg program mac...   \n",
       "2  new zealand defeated india wickets fourth odi ...   \n",
       "3  aegon life iterm insurance plan customers enjo...   \n",
       "4  speaking sexual harassment allegations rajkuma...   \n",
       "5  pakistani singer rahat fateh ali khan denied r...   \n",
       "\n",
       "                                       decoder_input  \\\n",
       "0  sostoken upgrad learner switches to career in ...   \n",
       "2  sostoken new zealand end rohit sharma led indi...   \n",
       "3  sostoken aegon life iterm insurance plan helps...   \n",
       "4  sostoken have known hirani for yrs what if met...   \n",
       "5  sostoken rahat fateh ali khan denies getting n...   \n",
       "\n",
       "                                      decoder_target  \n",
       "0  upgrad learner switches to career in ml al wit...  \n",
       "2  new zealand end rohit sharma led india match w...  \n",
       "3  aegon life iterm insurance plan helps customer...  \n",
       "4  have known hirani for yrs what if metoo claims...  \n",
       "5  rahat fateh ali khan denies getting notice for...  "
      ]
     },
     "execution_count": 24,
     "metadata": {},
     "output_type": "execute_result"
    }
   ],
   "source": [
    "# 요약 데이터에는 시작 토큰과 종료 토큰을 추가한다.\n",
    "data['decoder_input'] = data['Summary'].apply(lambda x : 'sostoken '+ x)\n",
    "data['decoder_target'] = data['Summary'].apply(lambda x : x + ' eostoken')\n",
    "data.head()"
   ]
  },
  {
   "cell_type": "markdown",
   "id": "f76c543f",
   "metadata": {},
   "source": [
    "ndarray 타입으로 저장"
   ]
  },
  {
   "cell_type": "code",
   "execution_count": 25,
   "id": "a944d2a4",
   "metadata": {},
   "outputs": [],
   "source": [
    "encoder_input = np.array(data['Text']) # 인코더의 입력\n",
    "decoder_input = np.array(data['decoder_input']) # 디코더의 입력\n",
    "decoder_target = np.array(data['decoder_target']) # 디코더의 레이블"
   ]
  },
  {
   "cell_type": "code",
   "execution_count": 26,
   "id": "c5e527fe",
   "metadata": {},
   "outputs": [
    {
     "name": "stdout",
     "output_type": "stream",
     "text": [
      "[55750 54201 51200 ... 72498  9568 30515]\n"
     ]
    }
   ],
   "source": [
    "indices = np.arange(encoder_input.shape[0])\n",
    "np.random.shuffle(indices)\n",
    "print(indices)"
   ]
  },
  {
   "cell_type": "code",
   "execution_count": 27,
   "id": "3ddc05f9",
   "metadata": {},
   "outputs": [],
   "source": [
    "encoder_input = encoder_input[indices]\n",
    "decoder_input = decoder_input[indices]\n",
    "decoder_target = decoder_target[indices]"
   ]
  },
  {
   "cell_type": "markdown",
   "id": "01292a16",
   "metadata": {},
   "source": [
    "훈렌데이터와 테스트데이터를 8:2비율로 분리함."
   ]
  },
  {
   "cell_type": "code",
   "execution_count": 28,
   "id": "66d74abf",
   "metadata": {},
   "outputs": [
    {
     "name": "stdout",
     "output_type": "stream",
     "text": [
      "테스트 데이터의 수 : 18170\n"
     ]
    }
   ],
   "source": [
    "n_of_val = int(len(encoder_input)*0.2)\n",
    "print('테스트 데이터의 수 :', n_of_val)"
   ]
  },
  {
   "cell_type": "code",
   "execution_count": 29,
   "id": "d7f66f98",
   "metadata": {},
   "outputs": [
    {
     "name": "stdout",
     "output_type": "stream",
     "text": [
      "훈련 데이터의 개수 : 72682\n",
      "훈련 레이블의 개수 : 72682\n",
      "테스트 데이터의 개수 : 18170\n",
      "테스트 레이블의 개수 : 18170\n"
     ]
    }
   ],
   "source": [
    "encoder_input_train = encoder_input[:-n_of_val]\n",
    "decoder_input_train = decoder_input[:-n_of_val]\n",
    "decoder_target_train = decoder_target[:-n_of_val]\n",
    "\n",
    "encoder_input_test = encoder_input[-n_of_val:]\n",
    "decoder_input_test = decoder_input[-n_of_val:]\n",
    "decoder_target_test = decoder_target[-n_of_val:]\n",
    "\n",
    "print('훈련 데이터의 개수 :', len(encoder_input_train))\n",
    "print('훈련 레이블의 개수 :', len(decoder_input_train))\n",
    "print('테스트 데이터의 개수 :', len(encoder_input_test))\n",
    "print('테스트 레이블의 개수 :', len(decoder_input_test))"
   ]
  },
  {
   "cell_type": "markdown",
   "id": "86088327",
   "metadata": {},
   "source": [
    "정수인코딩"
   ]
  },
  {
   "cell_type": "markdown",
   "id": "95102847",
   "metadata": {},
   "source": [
    "빈도수가 낮은 단어들은 데이터에서 제외"
   ]
  },
  {
   "cell_type": "code",
   "execution_count": 30,
   "id": "5e405125",
   "metadata": {},
   "outputs": [],
   "source": [
    "src_tokenizer = Tokenizer() # 토크나이저 정의\n",
    "src_tokenizer.fit_on_texts(encoder_input_train) # 입력된 데이터로부터 단어 집합 생성"
   ]
  },
  {
   "cell_type": "code",
   "execution_count": 31,
   "id": "30eab587",
   "metadata": {},
   "outputs": [
    {
     "name": "stdout",
     "output_type": "stream",
     "text": [
      "단어 집합(vocabulary)의 크기 : 66010\n",
      "등장 빈도가 6번 이하인 희귀 단어의 수: 44996\n",
      "단어 집합에서 희귀 단어를 제외시킬 경우의 단어 집합의 크기 21014\n",
      "단어 집합에서 희귀 단어의 비율: 68.16542948038176\n",
      "전체 등장 빈도에서 희귀 단어 등장 빈도 비율: 3.651493976047737\n"
     ]
    }
   ],
   "source": [
    "threshold = 7\n",
    "total_cnt = len(src_tokenizer.word_index) # 단어의 수\n",
    "rare_cnt = 0 # 등장 빈도수가 threshold보다 작은 단어의 개수를 카운트\n",
    "total_freq = 0 # 훈련 데이터의 전체 단어 빈도수 총 합\n",
    "rare_freq = 0 # 등장 빈도수가 threshold보다 작은 단어의 등장 빈도수의 총 합\n",
    "\n",
    "# 단어와 빈도수의 쌍(pair)을 key와 value로 받는다.\n",
    "for key, value in src_tokenizer.word_counts.items():\n",
    "    total_freq = total_freq + value\n",
    "\n",
    "    # 단어의 등장 빈도수가 threshold보다 작으면\n",
    "    if(value < threshold):\n",
    "        rare_cnt = rare_cnt + 1\n",
    "        rare_freq = rare_freq + value\n",
    "\n",
    "print('단어 집합(vocabulary)의 크기 :', total_cnt)\n",
    "print('등장 빈도가 %s번 이하인 희귀 단어의 수: %s'%(threshold - 1, rare_cnt))\n",
    "print('단어 집합에서 희귀 단어를 제외시킬 경우의 단어 집합의 크기 %s'%(total_cnt - rare_cnt))\n",
    "print(\"단어 집합에서 희귀 단어의 비율:\", (rare_cnt / total_cnt)*100)\n",
    "print(\"전체 등장 빈도에서 희귀 단어 등장 빈도 비율:\", (rare_freq / total_freq)*100)"
   ]
  },
  {
   "cell_type": "code",
   "execution_count": 32,
   "id": "7b52bee9",
   "metadata": {},
   "outputs": [],
   "source": [
    "src_vocab = 20000\n",
    "src_tokenizer = Tokenizer(num_words=src_vocab) # 단어 집합의 크기 제한\n",
    "src_tokenizer.fit_on_texts(encoder_input_train) # 단어 집합 재생성."
   ]
  },
  {
   "cell_type": "code",
   "execution_count": 33,
   "id": "060f1b4d",
   "metadata": {},
   "outputs": [
    {
     "name": "stdout",
     "output_type": "stream",
     "text": [
      "[[4802, 5172, 3411, 973, 8284, 497, 182, 1340, 3270, 7425, 7650, 113, 4322, 3270, 27, 187, 3411, 1, 445, 1248, 1379, 3270, 15096, 798, 3270, 4752, 164, 1340], [201, 2469, 7323, 4803, 5013, 2624, 7547, 1312, 11804, 63, 206, 2675, 201, 1513, 7547, 9123, 275, 6451, 293, 7323, 4803, 732, 201, 132, 4546, 4469, 1, 2126, 1472, 1876, 1448, 369], [4284, 8, 994, 1383, 95, 719, 3288, 5691, 909, 319, 48, 15, 15097, 50, 88, 719, 199, 23, 2753, 1654, 3083, 674, 3, 1643, 584, 674, 5513, 488, 3994, 470, 1790, 488, 3824, 2]]\n"
     ]
    }
   ],
   "source": [
    "# 텍스트 시퀀스를 정수 시퀀스로 변환\n",
    "encoder_input_train = src_tokenizer.texts_to_sequences(encoder_input_train) \n",
    "encoder_input_test = src_tokenizer.texts_to_sequences(encoder_input_test)\n",
    "\n",
    "# 잘 진행되었는지 샘플 출력\n",
    "print(encoder_input_train[:3])"
   ]
  },
  {
   "cell_type": "code",
   "execution_count": 34,
   "id": "af403609",
   "metadata": {},
   "outputs": [],
   "source": [
    "tar_tokenizer = Tokenizer()\n",
    "tar_tokenizer.fit_on_texts(decoder_input_train)"
   ]
  },
  {
   "cell_type": "code",
   "execution_count": 35,
   "id": "34b25877",
   "metadata": {},
   "outputs": [
    {
     "name": "stdout",
     "output_type": "stream",
     "text": [
      "단어 집합(vocabulary)의 크기 : 28917\n",
      "등장 빈도가 5번 이하인 희귀 단어의 수: 18943\n",
      "단어 집합에서 희귀 단어를 제외시킬 경우의 단어 집합의 크기 9974\n",
      "단어 집합에서 희귀 단어의 비율: 65.508178580074\n",
      "전체 등장 빈도에서 희귀 단어 등장 빈도 비율: 4.862974883183815\n"
     ]
    }
   ],
   "source": [
    "threshold = 6\n",
    "total_cnt = len(tar_tokenizer.word_index) # 단어의 수\n",
    "rare_cnt = 0 # 등장 빈도수가 threshold보다 작은 단어의 개수를 카운트\n",
    "total_freq = 0 # 훈련 데이터의 전체 단어 빈도수 총 합\n",
    "rare_freq = 0 # 등장 빈도수가 threshold보다 작은 단어의 등장 빈도수의 총 합\n",
    "\n",
    "# 단어와 빈도수의 쌍(pair)을 key와 value로 받는다.\n",
    "for key, value in tar_tokenizer.word_counts.items():\n",
    "    total_freq = total_freq + value\n",
    "\n",
    "    # 단어의 등장 빈도수가 threshold보다 작으면\n",
    "    if(value < threshold):\n",
    "        rare_cnt = rare_cnt + 1\n",
    "        rare_freq = rare_freq + value\n",
    "\n",
    "print('단어 집합(vocabulary)의 크기 :', total_cnt)\n",
    "print('등장 빈도가 %s번 이하인 희귀 단어의 수: %s'%(threshold - 1, rare_cnt))\n",
    "print('단어 집합에서 희귀 단어를 제외시킬 경우의 단어 집합의 크기 %s'%(total_cnt - rare_cnt))\n",
    "print(\"단어 집합에서 희귀 단어의 비율:\", (rare_cnt / total_cnt)*100)\n",
    "print(\"전체 등장 빈도에서 희귀 단어 등장 빈도 비율:\", (rare_freq / total_freq)*100)"
   ]
  },
  {
   "cell_type": "code",
   "execution_count": 36,
   "id": "10d2f0c2",
   "metadata": {},
   "outputs": [
    {
     "name": "stdout",
     "output_type": "stream",
     "text": [
      "input\n",
      "[[1, 3677, 1991, 1065, 6472, 3, 7315, 1437, 2410], [1, 99, 5162, 4746, 3776, 2020, 5578, 2150], [1, 3049, 3, 1828, 531, 704, 3285, 3, 6886, 859], [1, 15, 316, 267, 8387, 5, 5358, 860, 1709], [1, 7316, 1829, 1632, 6473, 13, 7, 354, 5, 33]]\n",
      "target\n",
      "[[3677, 1991, 1065, 6472, 3, 7315, 1437, 2410, 2], [99, 5162, 4746, 3776, 2020, 5578, 2150, 2], [3049, 3, 1828, 531, 704, 3285, 3, 6886, 859, 2], [15, 316, 267, 8387, 5, 5358, 860, 1709, 2], [7316, 1829, 1632, 6473, 13, 7, 354, 5, 33, 2]]\n"
     ]
    }
   ],
   "source": [
    "tar_vocab = 10000\n",
    "tar_tokenizer = Tokenizer(num_words=tar_vocab) \n",
    "tar_tokenizer.fit_on_texts(decoder_input_train)\n",
    "tar_tokenizer.fit_on_texts(decoder_target_train)\n",
    "\n",
    "# 텍스트 시퀀스를 정수 시퀀스로 변환\n",
    "decoder_input_train = tar_tokenizer.texts_to_sequences(decoder_input_train) \n",
    "decoder_target_train = tar_tokenizer.texts_to_sequences(decoder_target_train)\n",
    "decoder_input_test = tar_tokenizer.texts_to_sequences(decoder_input_test)\n",
    "decoder_target_test = tar_tokenizer.texts_to_sequences(decoder_target_test)\n",
    "\n",
    "# 잘 변환되었는지 확인\n",
    "print('input')\n",
    "print(decoder_input_train[:5])\n",
    "print('target')\n",
    "print(decoder_target_train[:5])"
   ]
  },
  {
   "cell_type": "code",
   "execution_count": 37,
   "id": "d08a1260",
   "metadata": {},
   "outputs": [
    {
     "name": "stdout",
     "output_type": "stream",
     "text": [
      "삭제할 훈련 데이터의 개수 : 0\n",
      "삭제할 테스트 데이터의 개수 : 0\n",
      "훈련 데이터의 개수 : 72682\n",
      "훈련 레이블의 개수 : 72682\n",
      "테스트 데이터의 개수 : 18170\n",
      "테스트 레이블의 개수 : 18170\n"
     ]
    }
   ],
   "source": [
    "drop_train = [index for index, sentence in enumerate(decoder_input_train) if len(sentence) == 1]\n",
    "drop_test = [index for index, sentence in enumerate(decoder_input_test) if len(sentence) == 1]\n",
    "\n",
    "print('삭제할 훈련 데이터의 개수 :', len(drop_train))\n",
    "print('삭제할 테스트 데이터의 개수 :', len(drop_test))\n",
    "\n",
    "encoder_input_train = np.delete(encoder_input_train, drop_train, axis=0)\n",
    "decoder_input_train = np.delete(decoder_input_train, drop_train, axis=0)\n",
    "decoder_target_train = np.delete(decoder_target_train, drop_train, axis=0)\n",
    "\n",
    "encoder_input_test = np.delete(encoder_input_test, drop_test, axis=0)\n",
    "decoder_input_test = np.delete(decoder_input_test, drop_test, axis=0)\n",
    "decoder_target_test = np.delete(decoder_target_test, drop_test, axis=0)\n",
    "\n",
    "print('훈련 데이터의 개수 :', len(encoder_input_train))\n",
    "print('훈련 레이블의 개수 :', len(decoder_input_train))\n",
    "print('테스트 데이터의 개수 :', len(encoder_input_test))\n",
    "print('테스트 레이블의 개수 :', len(decoder_input_test))"
   ]
  },
  {
   "cell_type": "markdown",
   "id": "5879db47",
   "metadata": {},
   "source": [
    "패딩하기"
   ]
  },
  {
   "cell_type": "code",
   "execution_count": 38,
   "id": "1a9448fc",
   "metadata": {},
   "outputs": [],
   "source": [
    "encoder_input_train = pad_sequences(encoder_input_train, maxlen=text_max_len, padding='post')\n",
    "encoder_input_test = pad_sequences(encoder_input_test, maxlen=text_max_len, padding='post')\n",
    "decoder_input_train = pad_sequences(decoder_input_train, maxlen=summary_max_len, padding='post')\n",
    "decoder_target_train = pad_sequences(decoder_target_train, maxlen=summary_max_len, padding='post')\n",
    "decoder_input_test = pad_sequences(decoder_input_test, maxlen=summary_max_len, padding='post')\n",
    "decoder_target_test = pad_sequences(decoder_target_test, maxlen=summary_max_len, padding='post')"
   ]
  },
  {
   "cell_type": "markdown",
   "id": "fc474dce",
   "metadata": {},
   "source": [
    "\n",
    "Step 3. 어텐션 메커니즘 사용하기 (추상적 요약)"
   ]
  },
  {
   "attachments": {
    "image.png": {
     "image/png": "[encoded data removed]"
    }
   },
   "cell_type": "markdown",
   "id": "4dab77e5",
   "metadata": {},
   "source": [
    "![image.png](attachment:image.png)"
   ]
  },
  {
   "cell_type": "markdown",
   "id": "b96d0867",
   "metadata": {},
   "source": [
    "인코더 설계"
   ]
  },
  {
   "cell_type": "code",
   "execution_count": 39,
   "id": "b2d61dfc",
   "metadata": {},
   "outputs": [
    {
     "name": "stdout",
     "output_type": "stream",
     "text": [
      "WARNING:tensorflow:Layer lstm will not use cuDNN kernels since it doesn't meet the criteria. It will use a generic GPU kernel as fallback when running on GPU.\n",
      "WARNING:tensorflow:Layer lstm_1 will not use cuDNN kernels since it doesn't meet the criteria. It will use a generic GPU kernel as fallback when running on GPU.\n",
      "WARNING:tensorflow:Layer lstm_2 will not use cuDNN kernels since it doesn't meet the criteria. It will use a generic GPU kernel as fallback when running on GPU.\n"
     ]
    }
   ],
   "source": [
    "from tensorflow.keras.layers import Input, LSTM, Embedding, Dense, Concatenate\n",
    "from tensorflow.keras.models import Model\n",
    "from tensorflow.keras.callbacks import EarlyStopping, ModelCheckpoint\n",
    "\n",
    "\n",
    "# 인코더 설계 시작\n",
    "embedding_dim = 128\n",
    "hidden_size = 256\n",
    "\n",
    "# 인코더\n",
    "encoder_inputs = Input(shape=(text_max_len,))\n",
    "\n",
    "# 인코더의 임베딩 층\n",
    "enc_emb = Embedding(src_vocab, embedding_dim)(encoder_inputs)\n",
    "\n",
    "# 인코더의 LSTM 1\n",
    "encoder_lstm1 = LSTM(hidden_size, return_sequences=True, return_state=True ,dropout = 0.4, recurrent_dropout = 0.4)\n",
    "encoder_output1, state_h1, state_c1 = encoder_lstm1(enc_emb)\n",
    "\n",
    "# 인코더의 LSTM 2\n",
    "encoder_lstm2 = LSTM(hidden_size, return_sequences=True, return_state=True, dropout=0.4, recurrent_dropout=0.4)\n",
    "encoder_output2, state_h2, state_c2 = encoder_lstm2(encoder_output1)\n",
    "\n",
    "# 인코더의 LSTM 3\n",
    "encoder_lstm3 = LSTM(hidden_size, return_state=True, return_sequences=True, dropout=0.4, recurrent_dropout=0.4)\n",
    "encoder_outputs, state_h, state_c= encoder_lstm3(encoder_output2)"
   ]
  },
  {
   "cell_type": "markdown",
   "id": "dc480b0c",
   "metadata": {},
   "source": [
    "디코더 설계"
   ]
  },
  {
   "cell_type": "code",
   "execution_count": 40,
   "id": "20294167",
   "metadata": {},
   "outputs": [
    {
     "name": "stdout",
     "output_type": "stream",
     "text": [
      "WARNING:tensorflow:Layer lstm_3 will not use cuDNN kernels since it doesn't meet the criteria. It will use a generic GPU kernel as fallback when running on GPU.\n"
     ]
    }
   ],
   "source": [
    "# 디코더 설계\n",
    "decoder_inputs = Input(shape=(None,))\n",
    "\n",
    "# 디코더의 임베딩 층\n",
    "dec_emb_layer = Embedding(tar_vocab, embedding_dim)\n",
    "dec_emb = dec_emb_layer(decoder_inputs)\n",
    "\n",
    "# 디코더의 LSTM\n",
    "decoder_lstm = LSTM(hidden_size, return_sequences=True, return_state=True, dropout=0.4, recurrent_dropout=0.2)\n",
    "decoder_outputs, _, _ = decoder_lstm(dec_emb, initial_state=[state_h, state_c])"
   ]
  },
  {
   "cell_type": "markdown",
   "id": "d4ee1ca4",
   "metadata": {},
   "source": [
    "어텐션 메커니즘 적용"
   ]
  },
  {
   "cell_type": "code",
   "execution_count": 41,
   "id": "7a5fb9cb",
   "metadata": {},
   "outputs": [],
   "source": [
    "urllib.request.urlretrieve(\"https://raw.githubusercontent.com/thushv89/attention_keras/master/src/layers/attention.py\", filename=\"attention.py\")\n",
    "from attention import AttentionLayer"
   ]
  },
  {
   "cell_type": "code",
   "execution_count": 42,
   "id": "707eb024",
   "metadata": {},
   "outputs": [
    {
     "name": "stdout",
     "output_type": "stream",
     "text": [
      "Model: \"model\"\n",
      "__________________________________________________________________________________________________\n",
      "Layer (type)                    Output Shape         Param #     Connected to                     \n",
      "==================================================================================================\n",
      "input_1 (InputLayer)            [(None, 40)]         0                                            \n",
      "__________________________________________________________________________________________________\n",
      "embedding (Embedding)           (None, 40, 128)      2560000     input_1[0][0]                    \n",
      "__________________________________________________________________________________________________\n",
      "lstm (LSTM)                     [(None, 40, 256), (N 394240      embedding[0][0]                  \n",
      "__________________________________________________________________________________________________\n",
      "input_2 (InputLayer)            [(None, None)]       0                                            \n",
      "__________________________________________________________________________________________________\n",
      "lstm_1 (LSTM)                   [(None, 40, 256), (N 525312      lstm[0][0]                       \n",
      "__________________________________________________________________________________________________\n",
      "embedding_1 (Embedding)         (None, None, 128)    1280000     input_2[0][0]                    \n",
      "__________________________________________________________________________________________________\n",
      "lstm_2 (LSTM)                   [(None, 40, 256), (N 525312      lstm_1[0][0]                     \n",
      "__________________________________________________________________________________________________\n",
      "lstm_3 (LSTM)                   [(None, None, 256),  394240      embedding_1[0][0]                \n",
      "                                                                 lstm_2[0][1]                     \n",
      "                                                                 lstm_2[0][2]                     \n",
      "__________________________________________________________________________________________________\n",
      "attention_layer (AttentionLayer ((None, None, 256),  131328      lstm_2[0][0]                     \n",
      "                                                                 lstm_3[0][0]                     \n",
      "__________________________________________________________________________________________________\n",
      "concat_layer (Concatenate)      (None, None, 512)    0           lstm_3[0][0]                     \n",
      "                                                                 attention_layer[0][0]            \n",
      "__________________________________________________________________________________________________\n",
      "dense (Dense)                   (None, None, 10000)  5130000     concat_layer[0][0]               \n",
      "==================================================================================================\n",
      "Total params: 10,940,432\n",
      "Trainable params: 10,940,432\n",
      "Non-trainable params: 0\n",
      "__________________________________________________________________________________________________\n"
     ]
    }
   ],
   "source": [
    "# 어텐션 층(어텐션 함수)\n",
    "attn_layer = AttentionLayer(name='attention_layer')\n",
    "# 인코더와 디코더의 모든 time step의 hidden state를 어텐션 층에 전달하고 결과를 리턴\n",
    "attn_out, attn_states = attn_layer([encoder_outputs, decoder_outputs])\n",
    "\n",
    "# 어텐션의 결과와 디코더의 hidden state들을 연결\n",
    "decoder_concat_input = Concatenate(axis=-1, name='concat_layer')([decoder_outputs, attn_out])\n",
    "\n",
    "# 디코더의 출력층\n",
    "decoder_softmax_layer = Dense(tar_vocab, activation='softmax')\n",
    "decoder_softmax_outputs = decoder_softmax_layer(decoder_concat_input)\n",
    "\n",
    "# 모델 정의\n",
    "model = Model([encoder_inputs, decoder_inputs], decoder_softmax_outputs)\n",
    "model.summary()"
   ]
  },
  {
   "cell_type": "code",
   "execution_count": 43,
   "id": "b5e41ef8",
   "metadata": {},
   "outputs": [
    {
     "data": {
      "image/png": "[encoded data removed]",
      "text/plain": [
       "<IPython.core.display.Image object>"
      ]
     },
     "execution_count": 43,
     "metadata": {},
     "output_type": "execute_result"
    }
   ],
   "source": [
    "from tensorflow.keras.utils import plot_model\n",
    "plot_model(model, show_shapes=True)"
   ]
  },
  {
   "cell_type": "markdown",
   "id": "fd8d1b22",
   "metadata": {},
   "source": [
    "모델 훈련"
   ]
  },
  {
   "cell_type": "code",
   "execution_count": 44,
   "id": "3cec191b",
   "metadata": {},
   "outputs": [
    {
     "name": "stdout",
     "output_type": "stream",
     "text": [
      "Epoch 1/50\n",
      "284/284 [==============================] - 206s 655ms/step - loss: 4.9012 - val_loss: 4.5414\n",
      "Epoch 2/50\n",
      "284/284 [==============================] - 185s 652ms/step - loss: 4.4161 - val_loss: 4.2020\n",
      "Epoch 3/50\n",
      "284/284 [==============================] - 185s 650ms/step - loss: 4.1034 - val_loss: 3.9540\n",
      "Epoch 4/50\n",
      "284/284 [==============================] - 184s 648ms/step - loss: 3.8703 - val_loss: 3.8027\n",
      "Epoch 5/50\n",
      "284/284 [==============================] - 184s 646ms/step - loss: 3.6944 - val_loss: 3.6743\n",
      "Epoch 6/50\n",
      "284/284 [==============================] - 183s 643ms/step - loss: 3.5497 - val_loss: 3.5768\n",
      "Epoch 7/50\n",
      "284/284 [==============================] - 182s 640ms/step - loss: 3.4244 - val_loss: 3.5000\n",
      "Epoch 8/50\n",
      "284/284 [==============================] - 181s 639ms/step - loss: 3.3139 - val_loss: 3.4361\n",
      "Epoch 9/50\n",
      "284/284 [==============================] - 181s 636ms/step - loss: 3.2166 - val_loss: 3.3818\n",
      "Epoch 10/50\n",
      "284/284 [==============================] - 181s 636ms/step - loss: 3.1268 - val_loss: 3.3308\n",
      "Epoch 11/50\n",
      "284/284 [==============================] - 180s 635ms/step - loss: 3.0437 - val_loss: 3.2901\n",
      "Epoch 12/50\n",
      "284/284 [==============================] - 179s 630ms/step - loss: 2.9704 - val_loss: 3.2588\n",
      "Epoch 13/50\n",
      "284/284 [==============================] - 179s 631ms/step - loss: 2.9073 - val_loss: 3.2331\n",
      "Epoch 14/50\n",
      "284/284 [==============================] - 179s 631ms/step - loss: 2.8466 - val_loss: 3.2142\n",
      "Epoch 15/50\n",
      "284/284 [==============================] - 179s 629ms/step - loss: 2.7926 - val_loss: 3.1898\n",
      "Epoch 16/50\n",
      "284/284 [==============================] - 179s 631ms/step - loss: 2.7400 - val_loss: 3.1717\n",
      "Epoch 17/50\n",
      "284/284 [==============================] - 178s 626ms/step - loss: 2.6910 - val_loss: 3.1587\n",
      "Epoch 18/50\n",
      "284/284 [==============================] - 177s 625ms/step - loss: 2.6480 - val_loss: 3.1440\n",
      "Epoch 19/50\n",
      "284/284 [==============================] - 176s 620ms/step - loss: 2.6071 - val_loss: 3.1331\n",
      "Epoch 20/50\n",
      "284/284 [==============================] - 175s 618ms/step - loss: 2.5687 - val_loss: 3.1223\n",
      "Epoch 21/50\n",
      "284/284 [==============================] - 176s 618ms/step - loss: 2.5342 - val_loss: 3.1193\n",
      "Epoch 22/50\n",
      "284/284 [==============================] - 175s 618ms/step - loss: 2.5025 - val_loss: 3.1161\n",
      "Epoch 23/50\n",
      "284/284 [==============================] - 175s 617ms/step - loss: 2.4680 - val_loss: 3.1072\n",
      "Epoch 24/50\n",
      "284/284 [==============================] - 175s 615ms/step - loss: 2.4370 - val_loss: 3.0989\n",
      "Epoch 25/50\n",
      "284/284 [==============================] - 177s 622ms/step - loss: 2.4058 - val_loss: 3.0950\n",
      "Epoch 26/50\n",
      "284/284 [==============================] - 175s 617ms/step - loss: 2.3787 - val_loss: 3.0924\n",
      "Epoch 27/50\n",
      "284/284 [==============================] - 175s 617ms/step - loss: 2.3519 - val_loss: 3.0940\n",
      "Epoch 28/50\n",
      "284/284 [==============================] - 175s 616ms/step - loss: 2.3281 - val_loss: 3.0854\n",
      "Epoch 29/50\n",
      "284/284 [==============================] - 175s 616ms/step - loss: 2.3043 - val_loss: 3.0871\n",
      "Epoch 30/50\n",
      "284/284 [==============================] - 176s 618ms/step - loss: 2.2817 - val_loss: 3.0850\n",
      "Epoch 31/50\n",
      "284/284 [==============================] - 174s 614ms/step - loss: 2.2588 - val_loss: 3.0876\n",
      "Epoch 32/50\n",
      "284/284 [==============================] - 175s 616ms/step - loss: 2.2362 - val_loss: 3.0859\n",
      "Epoch 00032: early stopping\n"
     ]
    }
   ],
   "source": [
    "model.compile(optimizer='rmsprop', loss='sparse_categorical_crossentropy')\n",
    "es = EarlyStopping(monitor='val_loss', patience=2, verbose=1)\n",
    "history = model.fit(x=[encoder_input_train, decoder_input_train], y=decoder_target_train, \\\n",
    "          validation_data=([encoder_input_test, decoder_input_test], decoder_target_test), \\\n",
    "          batch_size=256, callbacks=[es], epochs=50)"
   ]
  },
  {
   "cell_type": "code",
   "execution_count": 45,
   "id": "ba0217ce",
   "metadata": {},
   "outputs": [
    {
     "data": {
      "image/png": "[encoded data removed]",
      "text/plain": [
       "<Figure size 432x288 with 1 Axes>"
      ]
     },
     "metadata": {
      "needs_background": "light"
     },
     "output_type": "display_data"
    }
   ],
   "source": [
    "plt.plot(history.history['loss'], label='train')\n",
    "plt.plot(history.history['val_loss'], label='test')\n",
    "plt.legend()\n",
    "plt.show()"
   ]
  },
  {
   "cell_type": "markdown",
   "id": "aabd9a45",
   "metadata": {},
   "source": [
    "Step 4. 실제 결과와 요약문 비교하기 (추상적 요약)"
   ]
  },
  {
   "attachments": {
    "image.png": {
     "image/png": "[encoded data removed]"
    }
   },
   "cell_type": "markdown",
   "id": "59fb3fe0",
   "metadata": {},
   "source": [
    "![image.png](attachment:image.png)"
   ]
  },
  {
   "cell_type": "markdown",
   "id": "5d9d8e28",
   "metadata": {},
   "source": [
    "\n",
    "인퍼런스 모델 구현"
   ]
  },
  {
   "cell_type": "markdown",
   "id": "d7a20fe1",
   "metadata": {},
   "source": [
    "텍스트 복원을 위해 필요한 단어사전들"
   ]
  },
  {
   "cell_type": "code",
   "execution_count": 46,
   "id": "b888c210",
   "metadata": {},
   "outputs": [],
   "source": [
    "src_index_to_word = src_tokenizer.index_word # 원문 단어 집합에서 정수 -> 단어를 얻음\n",
    "tar_word_to_index = tar_tokenizer.word_index # 요약 단어 집합에서 단어 -> 정수를 얻음\n",
    "tar_index_to_word = tar_tokenizer.index_word # 요약 단어 집합에서 정수 -> 단어를 얻음"
   ]
  },
  {
   "cell_type": "code",
   "execution_count": 47,
   "id": "0d0644ba",
   "metadata": {},
   "outputs": [],
   "source": [
    "# 인코더 설계\n",
    "encoder_model = Model(inputs=encoder_inputs, outputs=[encoder_outputs, state_h, state_c])\n",
    "\n",
    "# 이전 시점의 상태들을 저장하는 텐서\n",
    "decoder_state_input_h = Input(shape=(hidden_size,))\n",
    "decoder_state_input_c = Input(shape=(hidden_size,))\n",
    "\n",
    "dec_emb2 = dec_emb_layer(decoder_inputs)\n",
    "\n",
    "# 문장의 다음 단어를 예측하기 위해서 초기 상태(initial_state)를 이전 시점의 상태로 사용. 이는 뒤의 함수 decode_sequence()에 구현\n",
    "# 훈련 과정에서와 달리 LSTM의 리턴하는 은닉 상태와 셀 상태인 state_h와 state_c를 버리지 않음.\n",
    "decoder_outputs2, state_h2, state_c2 = decoder_lstm(dec_emb2, initial_state=[decoder_state_input_h, decoder_state_input_c])"
   ]
  },
  {
   "cell_type": "code",
   "execution_count": 48,
   "id": "6214e501",
   "metadata": {},
   "outputs": [],
   "source": [
    "# 어텐션 함수\n",
    "decoder_hidden_state_input = Input(shape=(text_max_len, hidden_size))\n",
    "attn_out_inf, attn_states_inf = attn_layer([decoder_hidden_state_input, decoder_outputs2])\n",
    "decoder_inf_concat = Concatenate(axis=-1, name='concat')([decoder_outputs2, attn_out_inf])\n",
    "\n",
    "# 디코더의 출력층\n",
    "decoder_outputs2 = decoder_softmax_layer(decoder_inf_concat) \n",
    "\n",
    "# 최종 디코더 모델\n",
    "decoder_model = Model(\n",
    "    [decoder_inputs] + [decoder_hidden_state_input,decoder_state_input_h, decoder_state_input_c],\n",
    "    [decoder_outputs2] + [state_h2, state_c2])"
   ]
  },
  {
   "cell_type": "code",
   "execution_count": 49,
   "id": "611f5e05",
   "metadata": {},
   "outputs": [],
   "source": [
    "def decode_sequence(input_seq):\n",
    "    # 입력으로부터 인코더의 상태를 얻음\n",
    "    e_out, e_h, e_c = encoder_model.predict(input_seq)\n",
    "\n",
    "     # 에 해당하는 토큰 생성\n",
    "    target_seq = np.zeros((1,1))\n",
    "    target_seq[0, 0] = tar_word_to_index['sostoken']\n",
    "\n",
    "    stop_condition = False\n",
    "    decoded_sentence = ''\n",
    "    while not stop_condition: # stop_condition이 True가 될 때까지 루프 반복\n",
    "\n",
    "        output_tokens, h, c = decoder_model.predict([target_seq] + [e_out, e_h, e_c])\n",
    "        sampled_token_index = np.argmax(output_tokens[0, -1, :])\n",
    "        sampled_token = tar_index_to_word[sampled_token_index]\n",
    "\n",
    "        if (sampled_token!='eostoken'):\n",
    "            decoded_sentence += ' '+sampled_token\n",
    "\n",
    "        #  에 도달하거나 최대 길이를 넘으면 중단.\n",
    "        if (sampled_token == 'eostoken'  or len(decoded_sentence.split()) >= (summary_max_len-1)):\n",
    "            stop_condition = True\n",
    "\n",
    "        # 길이가 1인 타겟 시퀀스를 업데이트\n",
    "        target_seq = np.zeros((1,1))\n",
    "        target_seq[0, 0] = sampled_token_index\n",
    "\n",
    "        # 상태를 업데이트 합니다.\n",
    "        e_h, e_c = h, c\n",
    "\n",
    "    return decoded_sentence"
   ]
  },
  {
   "cell_type": "markdown",
   "id": "de4ee9ea",
   "metadata": {},
   "source": [
    "모델 테스트"
   ]
  },
  {
   "cell_type": "code",
   "execution_count": 50,
   "id": "c06eb7f1",
   "metadata": {},
   "outputs": [],
   "source": [
    "# 원문의 정수 시퀀스를 텍스트 시퀀스로 변환\n",
    "def seq2text(input_seq):\n",
    "    temp=''\n",
    "    for i in input_seq:\n",
    "        if (i!=0):\n",
    "            temp = temp + src_index_to_word[i]+' '\n",
    "    return temp\n",
    "\n",
    "# 요약문의 정수 시퀀스를 텍스트 시퀀스로 변환\n",
    "def seq2summary(input_seq):\n",
    "    temp=''\n",
    "    for i in input_seq:\n",
    "        if ((i!=0 and i!=tar_word_to_index['sostoken']) and i!=tar_word_to_index['eostoken']):\n",
    "            temp = temp + tar_index_to_word[i] + ' '\n",
    "    return temp"
   ]
  },
  {
   "cell_type": "code",
   "execution_count": 51,
   "id": "f861513b",
   "metadata": {},
   "outputs": [
    {
     "name": "stdout",
     "output_type": "stream",
     "text": [
      "원문 : delhi government friday approved action plan build seven bus depots narela bawana dera mandi among others december depots built area acres would used parking new buses buses expected rolled march \n",
      "실제 요약 : delhi govt to build bus by \n",
      "예측 요약 :  delhi govt to set up electric park in gurugram\n",
      "\n",
      "\n",
      "원문 : following cbi filing chargesheet himachal pradesh cm virbhadra singh saturday rejected charges fabricated accused bjp conspiring fight begun know truth prevail bjp misusing power added cbi chargesheet also named wife disproportionate assets case \n",
      "실제 요약 : charges bjp conspiring against me himachal cm \n",
      "예측 요약 :  cbi chief accused of himachal cm over cbi probe\n",
      "\n",
      "\n",
      "원문 : many people killed least injured fell foot deep gorge jammu kashmir government officials said injured people airlifted jammu treatment reports said driver lost control en route \n",
      "실제 요약 : dead after falls into foot deep gorge in \n",
      "예측 요약 :  killed injured after blast falls into gorge in west bengal\n",
      "\n",
      "\n",
      "원문 : russian lawmaker mikhail encouraged citizens sex visiting foreign football fans fifa world cup comes day another russian mp said russian women sex visiting fans avoid becoming single mothers mixed race children children born better said \n",
      "실제 요약 : mp asks russians to have sex with foreign fans during wc \n",
      "예측 요약 :  russia accuses russia of wc over sex abuse\n",
      "\n",
      "\n",
      "원문 : speaking event nda government years power home minister rajnath singh saturday said cannot disclose anything government plans get underworld gangster dawood ibrahim back india ibrahim accused mumbai bomb blasts killed people suspected reside pakistan karachi \n",
      "실제 요약 : cannot disclose plan on getting dawood ibrahim back rajnath \n",
      "예측 요약 :  govt wants to be part of pelting in amritsar rajnath\n",
      "\n",
      "\n",
      "원문 : us asked pakistan enact legislation formally bans mumbai attack mastermind hafiz saeed led jamaat ud dawa falah insaniat foundation two longer banned ordinance banned pakistani government extend removal ban runs counter pakistan commitment fight terrorism us said \n",
      "실제 요약 : us asks pakistan to ban hafiz saeed \n",
      "예측 요약 :  us imposes hafiz saeed to saeed from terror attack\n",
      "\n",
      "\n",
      "원문 : research scholar rohith vemula mother radhika vemula promised lakh indian union muslim league build house said campaign anyone bjp also denied reports cheques given bounced saying rejected due error \n",
      "실제 요약 : will campaign for anyone who is against bjp vemula mother \n",
      "예측 요약 :  mom gave me to give birth to govt mother mom mom\n",
      "\n",
      "\n",
      "원문 : singer composer shankar mahadevan said music industry like fashion adding things keep coming things keep going trends keep changing added good music bad music music everything co exists end day good song wins mahadevan said \n",
      "실제 요약 : music industry like fashion trends keep changing \n",
      "예측 요약 :  it is not music to be music in music by singer\n",
      "\n",
      "\n",
      "원문 : passengers panicked delhi metro train noticing smoke compartment delhi metro rail corporation spokesperson said smoke emerged braking system passengers reached serious issue spokesperson added highly unlikely somebody smoking \n",
      "실제 요약 : smoke in delhi metro train causes panic \n",
      "예측 요약 :  delhi metro to get emergency landing after delhi pollution\n",
      "\n",
      "\n",
      "원문 : police officers bus ground ploughed vehicle pedestrians china province tuesday least people killed others injured attack investigation incident underway reportedly carrying knife detained \n",
      "실제 요약 : police bus to ground after he kills in china \n",
      "예측 요약 :  two chinese police station killed by van in\n",
      "\n",
      "\n",
      "원문 : russian government given approval merge us based uber russia based ride sharing businesses part deal uber invest million contribute million new company uber announced deal july year ownership stake merged company \n",
      "실제 요약 : russian govt approves uber merger with \n",
      "예측 요약 :  russia to buy uber uber for us uber stock\n",
      "\n",
      "\n",
      "원문 : bcci ceo rahul johri revealed members indian cricket team complained substandard kits supplied players kit sponsor nike matter taken committee administrators chairman vinod rai meeting nike nike paid crore kit sponsor till \n",
      "실제 요약 : nike providing to indian team bcci ceo \n",
      "예측 요약 :  bcci dravid to be paid for coach\n",
      "\n",
      "\n",
      "원문 : government soon invite fresh bids stake sale helicopter service provider pawan hans ongc also approved sale entire stake company officials said government holds stake company state run ongc owns remaining shareholding pawan hans maintains operates fleet helicopters \n",
      "실제 요약 : govt to invite bids for stake sale in pawan \n",
      "예측 요약 :  govt approves stake in bid to buy stake in coal reports\n",
      "\n",
      "\n",
      "원문 : congress written president ram nath kovind delay parliament winter session urging direct centre summon houses earliest party accused nda government delaying session without justification government avoiding answering questions flawed policies claimed \n",
      "실제 요약 : cong writes to president kovind over delay in winter session \n",
      "예측 요약 :  cong prez demands support to congress prez in parliament\n",
      "\n",
      "\n",
      "원문 : air india floated tender sell lease back seven wide body aircraft would help airline raise crore sale agreement air india sell aircraft immediately lease back leasing company air india plans sell six boeing one boeing \n",
      "실제 요약 : air india to raise crore from sale of aircraft \n",
      "예측 요약 :  air india express deal to buy planes from air india\n",
      "\n",
      "\n",
      "원문 : karnataka water resources minister mb patil said state enough water drinking purposes till june patil also urged people karnataka use water state severe drought past three years available live storage state reached time low \n",
      "실제 요약 : karnataka has drinking water to last only till june \n",
      "예측 요약 :  karnataka to karnataka cm\n",
      "\n",
      "\n",
      "원문 : union minister jitendra singh friday blamed former pm jawaharlal nehru situation jammu kashmir saying crisis state began nehru intervened functioning patel situation would different added singh attacked congress calling ki party \n",
      "실제 요약 : responsible for crisis union minister \n",
      "예측 요약 :  no one of govt in kashmir to be rohingyas union minister\n",
      "\n",
      "\n",
      "원문 : union minister arjun meghwal seen climbing tree help ladder village rajasthan bikaner sunday make call mobile phone signal per reports year old later directed setting mobile towers area within three months cost lakh \n",
      "실제 요약 : union minister climbs tree to make phone call in rajasthan \n",
      "예측 요약 :  minister son aadhaar id to be made in rajasthan\n",
      "\n",
      "\n",
      "원문 : zimbabwe become second african nation legalise production cannabis medicinal scientific purposes individual producers must citizens country whose activities subject routine audits health ministry prior legalisation production possession cannabis zimbabwe punishable years prison \n",
      "실제 요약 : zimbabwe cannabis for use \n",
      "예측 요약 :  australia scraps world first ever coal law\n",
      "\n",
      "\n",
      "원문 : tamil nadu hotels association consisting members decided offer discount people bring utensils parcel orders move aims discontinue plastic use food parcel costs us around bill amount customers bring utensils benefit chennai hotels association president said \n",
      "실제 요약 : tn hotels give off if people bring own for \n",
      "예측 요약 :  tamil nadu hotels to allow to sell items to\n",
      "\n",
      "\n",
      "원문 : former india test captain ajit wadekar passed away mumbai today aged following prolonged illness played tests india making debut west indies named national team captain also part indian team played first ever odi \n",
      "실제 요약 : former india test captain ajit passes away aged \n",
      "예측 요약 :  former india captain dies after years of heart\n",
      "\n",
      "\n",
      "원문 : winners ipl final csk srh get prize money crore crore last season winners received season runners receive crore valuable player awarded lakh tournament highest wicket taker highest run scorer also get lakh \n",
      "실제 요약 : how much prize money will ipl winners runners up get \n",
      "예측 요약 :  ipl auction sold for cr in ipl auction\n",
      "\n",
      "\n",
      "원문 : technology giant google paid nearly million awards bug bounty programs largest reward year nearly granted researcher finding bugs pixel devices bug bounty programs designed security researchers find vulnerabilities software report back sponsor \n",
      "실제 요약 : google paid nearly million in bug bounty in \n",
      "예측 요약 :  google paid million to settle lawsuit\n",
      "\n",
      "\n",
      "원문 : per reports salman khan race fetched crore film distribution eid release international offering producers amount three film studios fox star studios reliance entertainment yash raj films reportedly approached producers distribution rights film scheduled release june \n",
      "실제 요약 : salman race crore before release report \n",
      "예측 요약 :  salman to release of crore in film reports\n",
      "\n",
      "\n",
      "원문 : representatives game thrones actors kit harington rose leslie denied reports said got engaged set tie knot earlier reports kit proposed rose dinner couple recently purchased home english moved together \n",
      "실제 요약 : game of thrones actors kit rose deny engagement reports \n",
      "예측 요약 :  game of thrones actor kit got to get married reports\n",
      "\n",
      "\n",
      "원문 : india youngest weightlifter commonwealth games year old deepak india bronze medal kg men category gold coast friday making commonwealth games debut lifted total weight kg earlier commonwealth championships three medals india \n",
      "실제 요약 : india youngest weightlifter at cwg wins bronze \n",
      "예측 요약 :  india st cwg gold medalist to win cwg\n",
      "\n",
      "\n",
      "원문 : year old man arrested driving onto pitch delhi uttar pradesh ranji trophy match ground delhi friday police said man identified girish sharma charged section ipc players like gautam gambhir ishant sharma suresh raina present incident happened \n",
      "실제 요약 : man who car onto pitch in ranji game in delhi arrested \n",
      "예측 요약 :  man tries to ground thrones team gets arrested for delhi police\n",
      "\n",
      "\n",
      "원문 : new song ranbir kapoor katrina kaif starrer upcoming film jagga jasoos released song composed pritam vocals arijit singh mohan lyrics misra directed anurag basu film scheduled release july \n",
      "실제 요약 : song from jagga jasoos released \n",
      "예측 요약 :  new song from katrina katrina jagga jasoos out\n",
      "\n",
      "\n",
      "원문 : bhumi pednekar said due presence web streaming platforms present quality web shows audience cannot shown cheap thing thought gone added fact censorship internet really gives lot freedom makers believe \n",
      "실제 요약 : cannot show audience cheap thing bhumi on web shows \n",
      "예측 요약 :  tv is not the rules for the rules in india bhumi\n",
      "\n",
      "\n",
      "원문 : new resort set open national park next month five guest rooms observation deck cell coverage internet service guests served locally sourced meals like alaska king copper river \n",
      "실제 요약 : new luxury hotel to open in the middle of glacier \n",
      "예측 요약 :  launches new york opens with new york\n",
      "\n",
      "\n",
      "원문 : india looking cutting oil imports iran replacing purchases saudi arabia kuwait government officials said thursday comes us ambassador un nikki haley asked pm narendra modi reduce india dependence iran us reimposed sanctions iran withdrew nuclear deal \n",
      "실제 요약 : india plans to cut oil imports from iran amid us request \n",
      "예측 요약 :  india to cut oil imports to cut oil imports to cut oil imports\n",
      "\n",
      "\n",
      "원문 : reacting karnataka cm hd kumaraswamy saying congress mercy people bjp spokesperson sambit patra said kumaraswamy become cm chief manager congress atm machine adding statement absolutely demeaning democratic fabric country patra said question chief minister karnataka \n",
      "실제 요약 : kumaraswamy is the chief manager of congress atm bjp \n",
      "예측 요약 :  bjp is karnataka cm on karnataka cm\n",
      "\n",
      "\n",
      "원문 : congress nationalist congress party accused maharashtra housing minister prakash mehta intervening allotment government land favour private real estate firm demanding probe called resignation state assembly comes probe launched mehta misleading slum rehabilitation body favour developer \n",
      "실제 요약 : maha housing minister accused of corruption by congress ncp \n",
      "예측 요약 :  congress to take action against militants in maha\n",
      "\n",
      "\n",
      "원문 : mns chief raj thackeray said happen mumbai till time migrants continue pour city warned single brick bullet train allowed placed mumbai local trains infrastructure made better notably people died stampede mumbai station friday \n",
      "실제 요약 : will happen till migrants continue to in mns \n",
      "예측 요약 :  mumbai will not care for of mumbai vehicles mns chief\n",
      "\n",
      "\n",
      "원문 : term insurance plan one safest cost effective ways getting insured ensures loved ones circumstances aegon life plan covers years guarantees payout death benefit diagnosis terminal illness also get waiver future premium payments \n",
      "실제 요약 : aegon life iterm insurance plan covers you for years \n",
      "예측 요약 :  aegon life iterm insurance plan to be replaced by\n",
      "\n",
      "\n",
      "원문 : australian paramedics thanked fulfilling terminally ill man desire ice cream final trip hospital ron wished asked would like eat cannot thank ambulance service enough help compassion given towards us family said \n",
      "실제 요약 : australian fulfil dying man wish for ice cream \n",
      "예측 요약 :  australian cricketer saves ice cream after hot ice cream\n",
      "\n",
      "\n",
      "원문 : apple week removed various iranian apps app store following us sanctions prohibit business app developers iran notably apple officially offer version app store iran iphones believed smuggled country removed apps included uber like ride hailing app \n",
      "실제 요약 : apple removes iranian apps from its app store \n",
      "예측 요약 :  apple app store of us app to iphone app report\n",
      "\n",
      "\n",
      "원문 : makers saif ali khan starrer announced release date april also release date kangana ranaut film manikarnika queen jhansi manikarnika historical film rani laxmibai saif film crime thriller based stock market \n",
      "실제 요약 : release of manikarnika to clash with saif \n",
      "예측 요약 :  saif ali khan to release in release of release\n",
      "\n",
      "\n",
      "원문 : maharashtra chief minister devendra fadnavis wednesday said state government study uttar pradesh model farm loan waiver worth crore study uttar pradesh raise huge amount said comes shiv sena bjp legislators demanded state government announce loan waiver distressed farmers \n",
      "실제 요약 : maha to study up model on farm loan waiver fadnavis \n",
      "예측 요약 :  maha cm farmers demand loan waiver for farmers\n",
      "\n",
      "\n",
      "원문 : bihar government banned manufacture distribution sale purchase display advertisement electronic cigarettes state anyone violating ban attract jail term years government notification stated cigarettes smoked electronic nicotine delivery system uses liquid nicotine water among substances \n",
      "실제 요약 : bihar government bans electronic cigarettes in state \n",
      "예측 요약 :  bihar bans sale of banned sale for sale of banned sale\n",
      "\n",
      "\n",
      "원문 : union minister maneka gandhi responded online petition demanding study male child sexual abuse formed panel come solution issue child sexual abuse gender neutral boys sexually abused children spend lifetime silence stigma attached male survivors speaking said \n",
      "실제 요약 : centre forms panel to study male child sexual abuse \n",
      "예측 요약 :  maneka gandhi seeks sex abuse on child sex abuse\n",
      "\n",
      "\n",
      "원문 : model actress malaika arora took instagram share picture lunch family along ex husband arbaaz khan son malaika sister amrita arora also seen picture couple married years filed divorce november mutual consent \n",
      "실제 요약 : malaika ex husband arbaaz spotted together at family lunch \n",
      "예측 요약 :  malaika shares pic with khan khan for her wedding\n",
      "\n",
      "\n",
      "원문 : cricketer gautam gambhir blessed second child june shared picture daughters twitter naming newborn daughter gambhir got married october already three year old daughter named cricketer captioned picture two little princess rule hearts \n",
      "실제 요약 : gambhir shares picture of daughters names newborn \n",
      "예측 요약 :  gautam gambhir posts picture of daughter daughter\n",
      "\n",
      "\n",
      "원문 : video posted twitter user shows facial recognition lock electronics major samsung newly launched galaxy flagship smartphone unlocked photograph user reportedly registered face galaxy samsung launch event unlocked waving selfie clicked another device front phone \n",
      "실제 요약 : samsung galaxy face lock can be with photo \n",
      "예측 요약 :  youtube tests feature to face recognition for videos\n",
      "\n",
      "\n",
      "원문 : union minister hansraj ahir said constitution provision deal anti nationalists raising slogans india added offenders dealt per provisions relevant laws applicable jammu kashmir replying question whether two kinds people namely nationalists anti nationals \n",
      "실제 요약 : no in constitution against anti national slogans govt \n",
      "예측 요약 :  no one of india in india to be among india govt\n",
      "\n",
      "\n",
      "원문 : microsoft co founder bill gates tuesday said leadership pm narendra modi led government played important role improving sanitation across india tweeted time build success swachh bharat gates earlier said government congratulated focusing sanitation malnutrition rates substantially people would expect \n",
      "실제 요약 : time to build on swachh bharat success bill gates praises pm \n",
      "예측 요약 :  pm modi will not be india as india co founder\n",
      "\n",
      "\n",
      "원문 : pm narendra modi revealed officials bank account school days searched years close account empty dena bank account opened via bank scheme added first operational bank account opened became mla gujarat \n",
      "실제 요약 : dena bank searched for me for yrs to close my account pm modi \n",
      "예측 요약 :  pm modi to address cryptocurrency trading in bank\n",
      "\n",
      "\n",
      "원문 : ten thieves wearing santa claus masks avoid recognised cctv footage looted shops gurugram friday morning escaped cash valuables worth lakhs rupees shops metres away police station thieves also tried drill holes walls two bank branches \n",
      "실제 요약 : thieves wearing santa masks loot shops in gurugram \n",
      "예측 요약 :  nigerian police station to get seized in noida\n",
      "\n",
      "\n",
      "원문 : referring recently exposed privacy issues facebook ceo mark zuckerberg said think dig hole take years also said company spend enough time investing thinking uses tools could done better job far added \n",
      "실제 요약 : it will take few years zuckerberg on fb privacy issues \n",
      "예측 요약 :  zuckerberg is the biggest person says fb ceo\n",
      "\n",
      "\n",
      "원문 : taapsee pannu defending amitabh bachchan uploading male picture pink completing one year said intentional possible deliberately chose picture might skipped realise added pink starred taapsee kriti kulhari andrea lead roles \n",
      "실제 요약 : was not taapsee on big all male pic of pink \n",
      "예측 요약 :  am not just about taapsee taapsee\n",
      "\n",
      "\n"
     ]
    }
   ],
   "source": [
    "for i in range(50, 100):\n",
    "    print(\"원문 :\", seq2text(encoder_input_test[i]))\n",
    "    print(\"실제 요약 :\", seq2summary(decoder_input_test[i]))\n",
    "    print(\"예측 요약 :\", decode_sequence(encoder_input_test[i].reshape(1, text_max_len)))\n",
    "    print(\"\\n\")"
   ]
  },
  {
   "cell_type": "markdown",
   "id": "ebd08c0b",
   "metadata": {},
   "source": [
    "Step 5. Summa을 이용해서 추출적 요약해보기"
   ]
  },
  {
   "attachments": {
    "image.png": {
     "image/png": "[encoded data removed]"
    }
   },
   "cell_type": "markdown",
   "id": "af83d8cd",
   "metadata": {},
   "source": [
    "![image.png](attachment:image.png)"
   ]
  },
  {
   "cell_type": "code",
   "execution_count": 52,
   "id": "5c477a90",
   "metadata": {},
   "outputs": [
    {
     "name": "stdout",
     "output_type": "stream",
     "text": [
      "summa                         1.2.0\r\n"
     ]
    }
   ],
   "source": [
    "!pip list | grep summa"
   ]
  },
  {
   "cell_type": "code",
   "execution_count": 53,
   "id": "21b4a3a9",
   "metadata": {},
   "outputs": [
    {
     "data": {
      "text/plain": [
       "90852"
      ]
     },
     "execution_count": 53,
     "metadata": {},
     "output_type": "execute_result"
    }
   ],
   "source": [
    "import requests\n",
    "from summa.summarizer import summarize\n",
    "\n",
    "text = data['Text'].values\n",
    "len(text)"
   ]
  },
  {
   "cell_type": "markdown",
   "id": "13b048cd",
   "metadata": {},
   "source": [
    "summarize 사용해서 요약"
   ]
  },
  {
   "cell_type": "markdown",
   "id": "58f33482",
   "metadata": {},
   "source": [
    "Summa의 summarize는 문장 토큰화를 별도로 하지 않더라도 내부적으로 문장 토큰화를 수행해요. 그렇기 때문에 문장 구분이 되어있지 않은 원문을 바로 입력으로 넣을 수 있어요. 비율을 적게 주어서 요약문으로 선택되는 문장의 개수를 줄여볼게요."
   ]
  },
  {
   "cell_type": "code",
   "execution_count": 56,
   "id": "db9538fe",
   "metadata": {},
   "outputs": [],
   "source": [
    "# 원본 데이터 로드\n",
    "urllib.request.urlretrieve(\"https://raw.githubusercontent.com/sunnysai12345/News_Summary/master/news_summary_more.csv\", filename=\"news_summary_more.csv\")\n",
    "data2 = pd.read_csv('news_summary_more.csv', encoding='iso-8859-1')\n",
    "\n",
    "sum = []\n",
    "text = data2['text'].values\n",
    "\n",
    "for i in range(len(text)):\n",
    "    sum.append(summarize(text[i], ratio=0.5))"
   ]
  },
  {
   "cell_type": "code",
   "execution_count": 57,
   "id": "feb14baf",
   "metadata": {},
   "outputs": [
    {
     "name": "stdout",
     "output_type": "stream",
     "text": [
      "Text:\n",
      "Saurav Kant, an alumnus of upGrad and IIIT-B's PG Program in Machine learning and Artificial Intelligence, was a Sr Systems Engineer at Infosys with almost 5 years of work experience. The program and upGrad's 360-degree career support helped him transition to a Data Scientist at Tech Mahindra with 90% salary hike. upGrad's Online Power Learning has powered 3 lakh+ careers.\n",
      "\n",
      "Summary:\n",
      "upGrad's Online Power Learning has powered 3 lakh+ careers.\n"
     ]
    }
   ],
   "source": [
    "print('Text:')\n",
    "print(text[0])\n",
    "print()\n",
    "print('Summary:')\n",
    "print(sum[0])"
   ]
  },
  {
   "cell_type": "markdown",
   "id": "fe027848",
   "metadata": {},
   "source": [
    " loss가 많이 개선되지 않아서 성능이 좋지 않다. 이 때는 추출적 요약이 구현이 쉽다.\n",
    " 뉴스를 요약해보는 프로젝트를 진행했는데 뉴스가 완벽하지는 않지만 인공지능을 통해 요약이 될 수 있다는 점이 신기하다.\n",
    " 다른 모델을 통해 학습을 시켜보았다면 뉴스 요약이 조금 더 잘 되지 않았을까 싶다. 아직은 요약이 어색한 부분이 많지만 계속 학습시켜나가다 보면 문장도 매끄럽게 요약이 되지 않을까 싶다. "
   ]
  },
  {
   "cell_type": "code",
   "execution_count": null,
   "id": "20f0b2ff",
   "metadata": {},
   "outputs": [],
   "source": []
  }
 ],
 "metadata": {
  "kernelspec": {
   "display_name": "Python 3 (ipykernel)",
   "language": "python",
   "name": "python3"
  },
  "language_info": {
   "codemirror_mode": {
    "name": "ipython",
    "version": 3
   },
   "file_extension": ".py",
   "mimetype": "text/x-python",
   "name": "python",
   "nbconvert_exporter": "python",
   "pygments_lexer": "ipython3",
   "version": "3.9.7"
  }
 },
 "nbformat": 4,
 "nbformat_minor": 5
}
