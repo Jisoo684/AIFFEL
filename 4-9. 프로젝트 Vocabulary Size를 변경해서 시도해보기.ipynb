{
 "cells": [
  {
   "cell_type": "code",
   "execution_count": 1,
   "id": "90ac38ce",
   "metadata": {},
   "outputs": [],
   "source": [
    "from tensorflow.keras.datasets import reuters\n",
    "import matplotlib.pyplot as plt\n",
    "import seaborn as sns\n",
    "import numpy as np\n",
    "import pandas as pd\n",
    "\n",
    "from sklearn.feature_extraction.text import CountVectorizer\n",
    "from sklearn.feature_extraction.text import TfidfTransformer\n",
    "\n",
    "from sklearn.naive_bayes import MultinomialNB #다항분포 나이브 베이즈 모델\n",
    "from sklearn.linear_model import LogisticRegression, SGDClassifier\n",
    "from sklearn.naive_bayes import ComplementNB\n",
    "from sklearn.tree import DecisionTreeClassifier\n",
    "from sklearn.ensemble import RandomForestClassifier\n",
    "from sklearn.ensemble import GradientBoostingClassifier\n",
    "from sklearn.ensemble import VotingClassifier\n",
    "from sklearn.svm import LinearSVC\n",
    "from sklearn.metrics import accuracy_score #정확도 계산\n",
    "\n",
    "from sklearn.metrics import classification_report\n",
    "from sklearn.metrics import confusion_matrix"
   ]
  },
  {
   "cell_type": "markdown",
   "id": "2da06261",
   "metadata": {},
   "source": [
    "# 1. 모든 단어 사용"
   ]
  },
  {
   "cell_type": "code",
   "execution_count": 2,
   "id": "373eb99b",
   "metadata": {},
   "outputs": [
    {
     "name": "stdout",
     "output_type": "stream",
     "text": [
      "Downloading data from https://storage.googleapis.com/tensorflow/tf-keras-datasets/reuters.npz\n",
      "2113536/2110848 [==============================] - 0s 0us/step\n",
      "2121728/2110848 [==============================] - 0s 0us/step\n"
     ]
    }
   ],
   "source": [
    "(x_train, y_train), (x_test, y_test) = reuters.load_data(num_words=None, \n",
    "                                                         test_split=0.2)"
   ]
  },
  {
   "cell_type": "code",
   "execution_count": 3,
   "id": "b448cfc2",
   "metadata": {},
   "outputs": [
    {
     "name": "stdout",
     "output_type": "stream",
     "text": [
      "훈련용 뉴스의 최대 길이 :2376\n",
      "훈련용 뉴스의 평균 길이 :145.5398574927633\n"
     ]
    },
    {
     "data": {
      "image/png": "[encoded data removed]",
      "text/plain": [
       "<Figure size 432x288 with 1 Axes>"
      ]
     },
     "metadata": {
      "needs_background": "light"
     },
     "output_type": "display_data"
    }
   ],
   "source": [
    "# 데이터 분포 파악\n",
    "print('훈련용 뉴스의 최대 길이 :{}'.format(max(len(l) for l in x_train)))\n",
    "print('훈련용 뉴스의 평균 길이 :{}'.format(sum(map(len, x_train))/len(x_train)))\n",
    "\n",
    "plt.hist([len(s) for s in x_train], bins=50)\n",
    "plt.xlabel('length of samples')\n",
    "plt.ylabel('number of samples')\n",
    "plt.show()"
   ]
  },
  {
   "cell_type": "code",
   "execution_count": 4,
   "id": "4b7f16b8",
   "metadata": {},
   "outputs": [
    {
     "name": "stderr",
     "output_type": "stream",
     "text": [
      "/opt/conda/lib/python3.9/site-packages/seaborn/_decorators.py:36: FutureWarning: Pass the following variable as a keyword arg: x. From version 0.12, the only valid positional argument will be `data`, and passing other arguments without an explicit keyword will result in an error or misinterpretation.\n",
      "  warnings.warn(\n"
     ]
    },
    {
     "data": {
      "text/plain": [
       "<AxesSubplot:ylabel='count'>"
      ]
     },
     "execution_count": 4,
     "metadata": {},
     "output_type": "execute_result"
    },
    {
     "data": {
      "image/png": "[encoded data removed]",
      "text/plain": [
       "<Figure size 864x360 with 1 Axes>"
      ]
     },
     "metadata": {
      "needs_background": "light"
     },
     "output_type": "display_data"
    }
   ],
   "source": [
    "# 타겟데이터 파악\n",
    "fig, axe = plt.subplots(ncols=1)\n",
    "fig.set_size_inches(12, 5)\n",
    "sns.countplot(y_train)"
   ]
  },
  {
   "cell_type": "code",
   "execution_count": 5,
   "id": "8f84a5aa",
   "metadata": {},
   "outputs": [
    {
     "name": "stdout",
     "output_type": "stream",
     "text": [
      "Downloading data from https://storage.googleapis.com/tensorflow/tf-keras-datasets/reuters_word_index.json\n",
      "557056/550378 [==============================] - 0s 0us/step\n",
      "565248/550378 [==============================] - 0s 0us/step\n"
     ]
    }
   ],
   "source": [
    "# 텍스트 데이터로 복원\n",
    "word_index = reuters.get_word_index(path=\"reuters_word_index.json\")\n",
    "\n",
    "# 인덱스 +3\n",
    "index_to_word = {index + 3 : word for word, index in word_index.items()}\n",
    "\n",
    "# index_to_word에서 숫자 0은 , 숫자 1은 , 숫자 2는  로 설정\n",
    "for index, token in enumerate((\"\", \"\", \"\")):\n",
    "    index_to_word[index] = token"
   ]
  },
  {
   "cell_type": "code",
   "execution_count": 6,
   "id": "eaca9f2b",
   "metadata": {},
   "outputs": [],
   "source": [
    "# 전체 학습데이터 복원\n",
    "decoded = []\n",
    "for i in range(len(x_train)):\n",
    "    t = ' '.join([index_to_word[index] for index in x_train[i]])\n",
    "    decoded.append(t)\n",
    "    \n",
    "x_train = decoded"
   ]
  },
  {
   "cell_type": "code",
   "execution_count": 7,
   "id": "2862bd23",
   "metadata": {},
   "outputs": [],
   "source": [
    "# 전체 테스트데이터 복원\n",
    "decoded = []\n",
    "for i in range(len(x_test)):\n",
    "    t = ' '.join([index_to_word[index] for index in x_test[i]])\n",
    "    decoded.append(t)\n",
    "    \n",
    "x_test = decoded"
   ]
  },
  {
   "cell_type": "code",
   "execution_count": 8,
   "id": "25156e00",
   "metadata": {},
   "outputs": [
    {
     "name": "stdout",
     "output_type": "stream",
     "text": [
      "(8982, 26504)\n"
     ]
    }
   ],
   "source": [
    "# DTM 확인\n",
    "dtmvector = CountVectorizer()\n",
    "x_train_dtm = dtmvector.fit_transform(x_train)\n",
    "print(x_train_dtm.shape)\n",
    "\n",
    "# 테스트 데이터\n",
    "x_test_dtm = dtmvector.transform(x_test)  # 테스트 데이터를 DTM 으로 변환"
   ]
  },
  {
   "cell_type": "code",
   "execution_count": 9,
   "id": "6984ee26",
   "metadata": {},
   "outputs": [
    {
     "name": "stdout",
     "output_type": "stream",
     "text": [
      "(8982, 26504)\n"
     ]
    }
   ],
   "source": [
    "\n",
    "# TF-IDF Matrix 확인\n",
    "tfidf_transformer = TfidfTransformer()\n",
    "tfidfv = tfidf_transformer.fit_transform(x_train_dtm)\n",
    "print(tfidfv.shape)\n",
    "\n",
    "# 테스트 데이터\n",
    "tfidfv_test = tfidf_transformer.transform(x_test_dtm)  # DTM을 TF-ODF 행렬로 변환"
   ]
  },
  {
   "cell_type": "markdown",
   "id": "301f3859",
   "metadata": {},
   "source": [
    "모델별 정확도 예측"
   ]
  },
  {
   "cell_type": "code",
   "execution_count": 10,
   "id": "948a56d4",
   "metadata": {},
   "outputs": [],
   "source": [
    "# 결과값 비교를 위한 리스트 선언\n",
    "classifier_list = [\"MultinomialNB\", \"ComplementNB\", \"Logistic Regression\", \"LinearSVC\", \"Decision Tree\", \"Random Forest\", \"GradientBoostingClassifier\", \"Voting\"]\n",
    "classifier_answer_list = []"
   ]
  },
  {
   "cell_type": "markdown",
   "id": "98df79e6",
   "metadata": {},
   "source": [
    "나이브 베이즈 분류기"
   ]
  },
  {
   "cell_type": "code",
   "execution_count": 11,
   "id": "84cbb772",
   "metadata": {},
   "outputs": [
    {
     "name": "stdout",
     "output_type": "stream",
     "text": [
      "정확도 : 0.5997328584149599\n"
     ]
    }
   ],
   "source": [
    "mod = MultinomialNB()\n",
    "mod.fit(tfidfv, y_train)\n",
    "\n",
    "predicted = mod.predict(tfidfv_test)  # 테스트 데이터에 대한 예측\n",
    "print(\"정확도 :\", accuracy_score(y_test, predicted))  # 예측값과 실제값 비교\n",
    "\n",
    "classifier_answer_list.append(accuracy_score(y_test, predicted))"
   ]
  },
  {
   "cell_type": "markdown",
   "id": "37129fb8",
   "metadata": {},
   "source": [
    "Complement Naive Bayes Classifier(CNB)"
   ]
  },
  {
   "cell_type": "code",
   "execution_count": 12,
   "id": "7e5fe3c4",
   "metadata": {},
   "outputs": [
    {
     "name": "stdout",
     "output_type": "stream",
     "text": [
      "정확도 : 0.7649154051647373\n"
     ]
    }
   ],
   "source": [
    "cb = ComplementNB()\n",
    "cb.fit(tfidfv, y_train)\n",
    "\n",
    "predicted = cb.predict(tfidfv_test)\n",
    "print(\"정확도 :\", accuracy_score(y_test, predicted))\n",
    "\n",
    "classifier_answer_list.append(accuracy_score(y_test, predicted))"
   ]
  },
  {
   "cell_type": "markdown",
   "id": "6e9bf42f",
   "metadata": {},
   "source": [
    "로지스틱 회귀"
   ]
  },
  {
   "cell_type": "code",
   "execution_count": 13,
   "id": "70194571",
   "metadata": {},
   "outputs": [
    {
     "name": "stdout",
     "output_type": "stream",
     "text": [
      "정확도 : 0.8125556544968834\n"
     ]
    },
    {
     "name": "stderr",
     "output_type": "stream",
     "text": [
      "/opt/conda/lib/python3.9/site-packages/sklearn/linear_model/_logistic.py:814: ConvergenceWarning: lbfgs failed to converge (status=1):\n",
      "STOP: TOTAL NO. of ITERATIONS REACHED LIMIT.\n",
      "\n",
      "Increase the number of iterations (max_iter) or scale the data as shown in:\n",
      "    https://scikit-learn.org/stable/modules/preprocessing.html\n",
      "Please also refer to the documentation for alternative solver options:\n",
      "    https://scikit-learn.org/stable/modules/linear_model.html#logistic-regression\n",
      "  n_iter_i = _check_optimize_result(\n"
     ]
    }
   ],
   "source": [
    "lr = LogisticRegression(C=10000, penalty='l2')\n",
    "lr.fit(tfidfv, y_train)\n",
    "\n",
    "predicted = lr.predict(tfidfv_test)\n",
    "print(\"정확도 :\", accuracy_score(y_test, predicted))\n",
    "\n",
    "classifier_answer_list.append(accuracy_score(y_test, predicted))"
   ]
  },
  {
   "cell_type": "markdown",
   "id": "50d8f8a6",
   "metadata": {},
   "source": [
    "\n",
    "선형 서포트 벡터 머신"
   ]
  },
  {
   "cell_type": "code",
   "execution_count": 14,
   "id": "85702988",
   "metadata": {},
   "outputs": [
    {
     "name": "stdout",
     "output_type": "stream",
     "text": [
      "정확도 : 0.7782724844167409\n"
     ]
    },
    {
     "name": "stderr",
     "output_type": "stream",
     "text": [
      "/opt/conda/lib/python3.9/site-packages/sklearn/svm/_base.py:1199: ConvergenceWarning: Liblinear failed to converge, increase the number of iterations.\n",
      "  warnings.warn(\n"
     ]
    }
   ],
   "source": [
    "lsvc = LinearSVC(C=1000, penalty='l1', max_iter=500, dual=False)\n",
    "lsvc.fit(tfidfv, y_train)\n",
    "\n",
    "predicted = lsvc.predict(tfidfv_test)\n",
    "print(\"정확도 :\", accuracy_score(y_test, predicted))\n",
    "\n",
    "classifier_answer_list.append(accuracy_score(y_test, predicted))"
   ]
  },
  {
   "cell_type": "markdown",
   "id": "159b6719",
   "metadata": {},
   "source": [
    "결정 트리"
   ]
  },
  {
   "cell_type": "code",
   "execution_count": 15,
   "id": "5b76ceea",
   "metadata": {},
   "outputs": [
    {
     "name": "stdout",
     "output_type": "stream",
     "text": [
      "정확도 : 0.6219946571682992\n"
     ]
    }
   ],
   "source": [
    "tree = DecisionTreeClassifier(max_depth=10, random_state=0)\n",
    "tree.fit(tfidfv, y_train)\n",
    "\n",
    "predicted = tree.predict(tfidfv_test)\n",
    "print(\"정확도 :\", accuracy_score(y_test, predicted))\n",
    "\n",
    "classifier_answer_list.append(accuracy_score(y_test, predicted))"
   ]
  },
  {
   "cell_type": "markdown",
   "id": "b6acd102",
   "metadata": {},
   "source": [
    "랜덤 포레스트\n"
   ]
  },
  {
   "cell_type": "code",
   "execution_count": 16,
   "id": "a3386fb9",
   "metadata": {},
   "outputs": [
    {
     "name": "stdout",
     "output_type": "stream",
     "text": [
      "정확도 : 0.6607301869991096\n"
     ]
    }
   ],
   "source": [
    "forest = RandomForestClassifier(n_estimators=5, random_state=0)\n",
    "forest.fit(tfidfv, y_train)\n",
    "\n",
    "predicted = forest.predict(tfidfv_test)\n",
    "print(\"정확도 :\", accuracy_score(y_test, predicted))\n",
    "\n",
    "classifier_answer_list.append(accuracy_score(y_test, predicted))"
   ]
  },
  {
   "cell_type": "markdown",
   "id": "c036d103",
   "metadata": {},
   "source": [
    "그래디언트 부스팅 트리"
   ]
  },
  {
   "cell_type": "code",
   "execution_count": 17,
   "id": "bf70cd51",
   "metadata": {},
   "outputs": [
    {
     "name": "stdout",
     "output_type": "stream",
     "text": [
      "정확도 : 0.769813000890472\n"
     ]
    }
   ],
   "source": [
    "grbt = GradientBoostingClassifier(random_state=0)\n",
    "grbt.fit(tfidfv, y_train)\n",
    "\n",
    "predicted = grbt.predict(tfidfv_test)\n",
    "print(\"정확도 :\", accuracy_score(y_test, predicted))\n",
    "\n",
    "classifier_answer_list.append(accuracy_score(y_test, predicted))"
   ]
  },
  {
   "cell_type": "markdown",
   "id": "9a06035d",
   "metadata": {},
   "source": [
    "보팅(로지스틱 회귀, CNB, 그래디언트 부스팅 트리 세 가지 사용)"
   ]
  },
  {
   "cell_type": "code",
   "execution_count": 18,
   "id": "facb9ea2",
   "metadata": {},
   "outputs": [
    {
     "name": "stderr",
     "output_type": "stream",
     "text": [
      "/opt/conda/lib/python3.9/site-packages/sklearn/linear_model/_logistic.py:814: ConvergenceWarning: lbfgs failed to converge (status=1):\n",
      "STOP: TOTAL NO. of ITERATIONS REACHED LIMIT.\n",
      "\n",
      "Increase the number of iterations (max_iter) or scale the data as shown in:\n",
      "    https://scikit-learn.org/stable/modules/preprocessing.html\n",
      "Please also refer to the documentation for alternative solver options:\n",
      "    https://scikit-learn.org/stable/modules/linear_model.html#logistic-regression\n",
      "  n_iter_i = _check_optimize_result(\n"
     ]
    },
    {
     "name": "stdout",
     "output_type": "stream",
     "text": [
      "정확도 : 0.8192341941228851\n"
     ]
    }
   ],
   "source": [
    "voting_classifier = VotingClassifier(estimators=[\n",
    "    ('lr', LogisticRegression(C=10000, penalty='l2')),\n",
    "    ('cb', ComplementNB()),\n",
    "    ('grbt', GradientBoostingClassifier(random_state=0))\n",
    "], voting='soft', n_jobs=-1)\n",
    "voting_classifier.fit(tfidfv, y_train)\n",
    "\n",
    "predicted = voting_classifier.predict(tfidfv_test)\n",
    "print(\"정확도 :\", accuracy_score(y_test, predicted))\n",
    "\n",
    "classifier_answer_list.append(accuracy_score(y_test, predicted))"
   ]
  },
  {
   "cell_type": "markdown",
   "id": "6a10e668",
   "metadata": {},
   "source": [
    "전체 결과 & f1 score"
   ]
  },
  {
   "cell_type": "code",
   "execution_count": 19,
   "id": "dab7255b",
   "metadata": {},
   "outputs": [
    {
     "name": "stdout",
     "output_type": "stream",
     "text": [
      "빈도수 제한없을 때 정확도 리스트\n",
      "\n",
      "MultinomialNB : 0.6\n",
      "ComplementNB : 0.76\n",
      "Logistic Regression : 0.81\n",
      "LinearSVC : 0.78\n",
      "Decision Tree : 0.62\n",
      "Random Forest : 0.66\n",
      "GradientBoostingClassifier : 0.77\n",
      "Voting : 0.82\n"
     ]
    }
   ],
   "source": [
    "# 전체 결과 비교\n",
    "\n",
    "print(\"빈도수 제한없을 때 정확도 리스트\\n\")\n",
    "\n",
    "for x in range(len(classifier_list)):\n",
    "    print(classifier_list[x], \":\", classifier_answer_list[x].round(2))"
   ]
  },
  {
   "cell_type": "code",
   "execution_count": 20,
   "id": "1e21b8f7",
   "metadata": {},
   "outputs": [
    {
     "name": "stdout",
     "output_type": "stream",
     "text": [
      "f1 score :               precision    recall  f1-score   support\n",
      "\n",
      "           0       0.75      0.75      0.75        12\n",
      "           1       0.78      0.77      0.78       105\n",
      "           2       0.64      0.80      0.71        20\n",
      "           3       0.93      0.93      0.93       813\n",
      "           4       0.82      0.88      0.85       474\n",
      "           5       1.00      0.20      0.33         5\n",
      "           6       0.86      0.86      0.86        14\n",
      "           7       1.00      0.67      0.80         3\n",
      "           8       0.73      0.71      0.72        38\n",
      "           9       0.80      0.80      0.80        25\n",
      "          10       0.90      0.90      0.90        30\n",
      "          11       0.68      0.72      0.70        83\n",
      "          12       0.50      0.46      0.48        13\n",
      "          13       0.69      0.65      0.67        37\n",
      "          14       0.33      1.00      0.50         2\n",
      "          15       0.40      0.22      0.29         9\n",
      "          16       0.75      0.77      0.76        99\n",
      "          17       0.70      0.58      0.64        12\n",
      "          18       0.79      0.55      0.65        20\n",
      "          19       0.72      0.73      0.73       133\n",
      "          20       0.67      0.50      0.57        70\n",
      "          21       0.67      0.81      0.73        27\n",
      "          22       0.00      0.00      0.00         7\n",
      "          23       0.62      0.67      0.64        12\n",
      "          24       0.73      0.58      0.65        19\n",
      "          25       0.92      0.74      0.82        31\n",
      "          26       0.88      0.88      0.88         8\n",
      "          27       1.00      0.50      0.67         4\n",
      "          28       0.27      0.30      0.29        10\n",
      "          29       0.44      1.00      0.62         4\n",
      "          30       0.50      0.50      0.50        12\n",
      "          31       0.82      0.69      0.75        13\n",
      "          32       1.00      1.00      1.00        10\n",
      "          33       0.80      0.80      0.80         5\n",
      "          34       0.80      0.57      0.67         7\n",
      "          35       1.00      0.50      0.67         6\n",
      "          36       0.58      0.64      0.61        11\n",
      "          37       0.50      0.50      0.50         2\n",
      "          38       0.50      0.33      0.40         3\n",
      "          39       1.00      0.40      0.57         5\n",
      "          40       1.00      0.40      0.57        10\n",
      "          41       0.80      0.50      0.62         8\n",
      "          42       1.00      1.00      1.00         3\n",
      "          43       0.60      1.00      0.75         6\n",
      "          44       0.57      0.80      0.67         5\n",
      "          45       0.50      1.00      0.67         1\n",
      "\n",
      "    accuracy                           0.82      2246\n",
      "   macro avg       0.72      0.66      0.66      2246\n",
      "weighted avg       0.82      0.82      0.82      2246\n",
      "\n"
     ]
    }
   ],
   "source": [
    "# f1 score 알아보기\n",
    "#from sklearn.metrics import f1_score\n",
    "\n",
    "predicted = voting_classifier.predict(tfidfv_test)\n",
    "# print(\"f1 score :\", f1_score(y_test, predicted, average='micro'))\n",
    "print(\"f1 score :\", classification_report(y_test, predicted, zero_division=0))"
   ]
  },
  {
   "cell_type": "markdown",
   "id": "c6a7128c",
   "metadata": {},
   "source": [
    "\n",
    "4. 딥러닝 모델과 비교"
   ]
  },
  {
   "cell_type": "code",
   "execution_count": 23,
   "id": "0ed87d10",
   "metadata": {},
   "outputs": [
    {
     "name": "stdout",
     "output_type": "stream",
     "text": [
      "(8982,) (8982,)\n"
     ]
    }
   ],
   "source": [
    "\n",
    "from tensorflow import keras\n",
    "import numpy as np\n",
    "\n",
    "(train_data, train_labels), (test_data, test_labels) = reuters.load_data(num_words=10000, \n",
    "                                                                         test_split=0.2)\n",
    "\n",
    "print(train_data.shape, train_labels.shape)"
   ]
  },
  {
   "cell_type": "code",
   "execution_count": 24,
   "id": "a20c17c6",
   "metadata": {},
   "outputs": [
    {
     "name": "stdout",
     "output_type": "stream",
     "text": [
      "(2246,) (2246,)\n"
     ]
    }
   ],
   "source": [
    "\n",
    "print(test_data.shape, test_labels.shape)"
   ]
  },
  {
   "cell_type": "code",
   "execution_count": 25,
   "id": "2bf0bee2",
   "metadata": {},
   "outputs": [],
   "source": [
    "from keras.utils.np_utils import to_categorical\n",
    "\n",
    "def vectorize_sequences(sequences, dimension=10000):\n",
    "    results = np.zeros((len(sequences), dimension))\n",
    "    for i, sequence in enumerate(sequences):\n",
    "        results[i, sequence] = 1.\n",
    "    return results\n",
    "\n",
    "x_train = vectorize_sequences(train_data)\n",
    "x_test = vectorize_sequences(test_data)\n",
    "\n",
    "# 원핫인코딩을 해줍시다\n",
    "from keras.utils.np_utils import to_categorical\n",
    "\n",
    "one_hot_train_labels = to_categorical(train_labels)\n",
    "one_hot_test_labels = to_categorical(test_labels)"
   ]
  },
  {
   "cell_type": "code",
   "execution_count": 26,
   "id": "411a4eff",
   "metadata": {},
   "outputs": [
    {
     "name": "stdout",
     "output_type": "stream",
     "text": [
      "Model: \"sequential\"\n",
      "_________________________________________________________________\n",
      "Layer (type)                 Output Shape              Param #   \n",
      "=================================================================\n",
      "dense (Dense)                (None, 64)                640064    \n",
      "_________________________________________________________________\n",
      "dense_1 (Dense)              (None, 64)                4160      \n",
      "_________________________________________________________________\n",
      "dense_2 (Dense)              (None, 46)                2990      \n",
      "=================================================================\n",
      "Total params: 647,214\n",
      "Trainable params: 647,214\n",
      "Non-trainable params: 0\n",
      "_________________________________________________________________\n"
     ]
    }
   ],
   "source": [
    "model = keras.Sequential()\n",
    "\n",
    "model.add(keras.layers.Dense(64, activation='relu', input_shape=(10000,)))\n",
    "model.add(keras.layers.Dense(64, activation='relu')) \n",
    "model.add(keras.layers.Dense(46, activation='softmax'))  # 클래스가 46개\n",
    "\n",
    "model.summary()"
   ]
  },
  {
   "cell_type": "code",
   "execution_count": 27,
   "id": "f8f9e01c",
   "metadata": {},
   "outputs": [],
   "source": [
    "# 모델 컴파일 설정\n",
    "model.compile(optimizer='adam', loss='categorical_crossentropy', metrics=['accuracy'])\n",
    "\n",
    "# 데이터 나누기\n",
    "x_val = x_train[:1000]\n",
    "partial_x_train = x_train[1000:]\n",
    "\n",
    "y_val = one_hot_train_labels[:1000]\n",
    "partial_y_train = one_hot_train_labels[1000:]"
   ]
  },
  {
   "cell_type": "code",
   "execution_count": 28,
   "id": "e1fdd473",
   "metadata": {},
   "outputs": [
    {
     "name": "stdout",
     "output_type": "stream",
     "text": [
      "Epoch 1/20\n",
      "16/16 [==============================] - 11s 60ms/step - loss: 3.2841 - accuracy: 0.3561 - val_loss: 2.4946 - val_accuracy: 0.5110\n",
      "Epoch 2/20\n",
      "16/16 [==============================] - 0s 12ms/step - loss: 1.9625 - accuracy: 0.5775 - val_loss: 1.6291 - val_accuracy: 0.6260\n",
      "Epoch 3/20\n",
      "16/16 [==============================] - 0s 12ms/step - loss: 1.3379 - accuracy: 0.7110 - val_loss: 1.2950 - val_accuracy: 0.7180\n",
      "Epoch 4/20\n",
      "16/16 [==============================] - 0s 12ms/step - loss: 1.0085 - accuracy: 0.7839 - val_loss: 1.1333 - val_accuracy: 0.7650\n",
      "Epoch 5/20\n",
      "16/16 [==============================] - 0s 12ms/step - loss: 0.7890 - accuracy: 0.8349 - val_loss: 1.0394 - val_accuracy: 0.7830\n",
      "Epoch 6/20\n",
      "16/16 [==============================] - 0s 12ms/step - loss: 0.6175 - accuracy: 0.8706 - val_loss: 0.9699 - val_accuracy: 0.8080\n",
      "Epoch 7/20\n",
      "16/16 [==============================] - 0s 12ms/step - loss: 0.4840 - accuracy: 0.9007 - val_loss: 0.9409 - val_accuracy: 0.8110\n",
      "Epoch 8/20\n",
      "16/16 [==============================] - 0s 14ms/step - loss: 0.3823 - accuracy: 0.9218 - val_loss: 0.9151 - val_accuracy: 0.8110\n",
      "Epoch 9/20\n",
      "16/16 [==============================] - 0s 13ms/step - loss: 0.3035 - accuracy: 0.9349 - val_loss: 0.8981 - val_accuracy: 0.8160\n",
      "Epoch 10/20\n",
      "16/16 [==============================] - 0s 12ms/step - loss: 0.2459 - accuracy: 0.9448 - val_loss: 0.9154 - val_accuracy: 0.8130\n",
      "Epoch 11/20\n",
      "16/16 [==============================] - 0s 12ms/step - loss: 0.2094 - accuracy: 0.9516 - val_loss: 0.9178 - val_accuracy: 0.8180\n",
      "Epoch 12/20\n",
      "16/16 [==============================] - 0s 11ms/step - loss: 0.1793 - accuracy: 0.9531 - val_loss: 0.9264 - val_accuracy: 0.8130\n",
      "Epoch 13/20\n",
      "16/16 [==============================] - 0s 12ms/step - loss: 0.1614 - accuracy: 0.9535 - val_loss: 0.9390 - val_accuracy: 0.8140\n",
      "Epoch 14/20\n",
      "16/16 [==============================] - 0s 12ms/step - loss: 0.1458 - accuracy: 0.9573 - val_loss: 0.9553 - val_accuracy: 0.8160\n",
      "Epoch 15/20\n",
      "16/16 [==============================] - 0s 12ms/step - loss: 0.1312 - accuracy: 0.9587 - val_loss: 0.9748 - val_accuracy: 0.8120\n",
      "Epoch 16/20\n",
      "16/16 [==============================] - 0s 11ms/step - loss: 0.1184 - accuracy: 0.9590 - val_loss: 0.9787 - val_accuracy: 0.8140\n",
      "Epoch 17/20\n",
      "16/16 [==============================] - 0s 12ms/step - loss: 0.1152 - accuracy: 0.9590 - val_loss: 0.9882 - val_accuracy: 0.8080\n",
      "Epoch 18/20\n",
      "16/16 [==============================] - 0s 13ms/step - loss: 0.1066 - accuracy: 0.9599 - val_loss: 0.9892 - val_accuracy: 0.8080\n",
      "Epoch 19/20\n",
      "16/16 [==============================] - 0s 12ms/step - loss: 0.1021 - accuracy: 0.9607 - val_loss: 1.0069 - val_accuracy: 0.8160\n",
      "Epoch 20/20\n",
      "16/16 [==============================] - 0s 10ms/step - loss: 0.0978 - accuracy: 0.9600 - val_loss: 1.0177 - val_accuracy: 0.8140\n"
     ]
    }
   ],
   "source": [
    "history = model.fit(partial_x_train, \n",
    "                    partial_y_train, \n",
    "                    epochs=20, \n",
    "                    batch_size=512, \n",
    "                    validation_data=(x_val, y_val))"
   ]
  },
  {
   "cell_type": "code",
   "execution_count": 29,
   "id": "dc87a55a",
   "metadata": {},
   "outputs": [
    {
     "name": "stdout",
     "output_type": "stream",
     "text": [
      "71/71 [==============================] - 0s 3ms/step - loss: 1.1127 - accuracy: 0.7952\n"
     ]
    },
    {
     "data": {
      "text/plain": [
       "[1.1127303838729858, 0.7951914668083191]"
      ]
     },
     "execution_count": 29,
     "metadata": {},
     "output_type": "execute_result"
    }
   ],
   "source": [
    "# 모델 평가\n",
    "model.evaluate(x_test, one_hot_test_labels)"
   ]
  },
  {
   "cell_type": "code",
   "execution_count": 30,
   "id": "1be817d8",
   "metadata": {},
   "outputs": [
    {
     "data": {
      "image/png": "[encoded data removed]",
      "text/plain": [
       "<Figure size 432x288 with 1 Axes>"
      ]
     },
     "metadata": {
      "needs_background": "light"
     },
     "output_type": "display_data"
    }
   ],
   "source": [
    "# 시각화\n",
    "import matplotlib.pyplot as plt\n",
    "\n",
    "loss = history.history['loss']\n",
    "val_loss = history.history['val_loss']\n",
    "\n",
    "epochs = range(1, len(loss) + 1)\n",
    "\n",
    "plt.plot(epochs, loss, 'bo', label='Training loss')\n",
    "plt.plot(epochs, val_loss, 'b', label='Validation loss')\n",
    "plt.title('Training and validation loss')\n",
    "plt.xlabel('Epochs')\n",
    "plt.ylabel('Loss')\n",
    "plt.legend()\n",
    "\n",
    "plt.show()"
   ]
  },
  {
   "cell_type": "code",
   "execution_count": null,
   "id": "9b2a9b5e",
   "metadata": {},
   "outputs": [],
   "source": []
  }
 ],
 "metadata": {
  "kernelspec": {
   "display_name": "Python 3 (ipykernel)",
   "language": "python",
   "name": "python3"
  },
  "language_info": {
   "codemirror_mode": {
    "name": "ipython",
    "version": 3
   },
   "file_extension": ".py",
   "mimetype": "text/x-python",
   "name": "python",
   "nbconvert_exporter": "python",
   "pygments_lexer": "ipython3",
   "version": "3.9.7"
  }
 },
 "nbformat": 4,
 "nbformat_minor": 5
}
